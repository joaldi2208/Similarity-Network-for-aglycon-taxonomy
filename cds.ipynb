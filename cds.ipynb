{
 "cells": [
  {
   "cell_type": "code",
   "execution_count": 1,
   "metadata": {},
   "outputs": [],
   "source": [
    "from pymongo import MongoClient\n",
    "from rdkit import Chem\n",
    "from rdkit.Chem import Draw\n",
    "\n",
    "import pandas as pd\n",
    "\n",
    "import matplotlib.pyplot as plt\n",
    "import venn\n",
    "%matplotlib inline\n",
    "\n",
    "from math import *\n",
    "import os\n",
    "from rdkit.Chem import AllChem\n",
    "from rdkit import DataStructs\n",
    "from rdkit.Chem import Descriptors\n",
    "\n",
    "import itertools\n",
    "from collections import Counter"
   ]
  },
  {
   "cell_type": "markdown",
   "metadata": {},
   "source": [
    "**Complete Databank**"
   ]
  },
  {
   "cell_type": "code",
   "execution_count": 2,
   "metadata": {},
   "outputs": [],
   "source": [
    "client = MongoClient(\"localhost:27017\")\n",
    "db_complete = client['COCONUT2020-10']"
   ]
  },
  {
   "cell_type": "code",
   "execution_count": 3,
   "metadata": {
    "scrolled": true
   },
   "outputs": [],
   "source": [
    "collection = db_complete.uniqueNaturalProduct\n",
    "db_complete_only_ring_sugars = pd.DataFrame(list(collection.find({\"contains_ring_sugars\": True})))"
   ]
  },
  {
   "cell_type": "code",
   "execution_count": 4,
   "metadata": {},
   "outputs": [],
   "source": [
    "df_complete_tax = pd.DataFrame({\"taxonomy\": db_complete_only_ring_sugars[\"textTaxa\"],\n",
    "                       \"smiles\": db_complete_only_ring_sugars[\"smiles\"],\n",
    "                       \"coconut_id\": db_complete_only_ring_sugars[\"coconut_id\"],\n",
    "                       \"no_sugar_smiles\": db_complete_only_ring_sugars[\"sugar_free_smiles\"]\n",
    "                      })"
   ]
  },
  {
   "cell_type": "code",
   "execution_count": 5,
   "metadata": {
    "scrolled": false
   },
   "outputs": [],
   "source": [
    "#display(df_complete_tax)"
   ]
  },
  {
   "cell_type": "code",
   "execution_count": 6,
   "metadata": {},
   "outputs": [],
   "source": [
    "complete_names = []\n",
    "indexes = []\n",
    "for i in range(len(df_complete_tax.taxonomy)):\n",
    "    # some entries are empty lists\n",
    "    # doubles\n",
    "    if df_complete_tax.taxonomy[i] != [] and (\"plants\" in df_complete_tax.taxonomy[i] or \"bacteria\" in df_complete_tax.taxonomy[i] or \"marine\" in df_complete_tax.taxonomy[i] or \"animals\" in df_complete_tax.taxonomy[i] or \"fungi\" in df_complete_tax.taxonomy[i]):\n",
    "        indexes.append(i)\n",
    "        complete_names.append(df_complete_tax.taxonomy[i])\n",
    "        \n",
    "        \n",
    "    "
   ]
  },
  {
   "cell_type": "code",
   "execution_count": 7,
   "metadata": {},
   "outputs": [],
   "source": [
    "df_five_tax = df_complete_tax.loc[indexes[:]]"
   ]
  },
  {
   "cell_type": "code",
   "execution_count": 8,
   "metadata": {},
   "outputs": [],
   "source": [
    "#df_five_tax"
   ]
  },
  {
   "cell_type": "code",
   "execution_count": 9,
   "metadata": {},
   "outputs": [],
   "source": [
    "df_tax_id = pd.DataFrame({\"taxonomy\": df_five_tax.taxonomy,\n",
    "                                   \"coconut_id\": df_five_tax.coconut_id})"
   ]
  },
  {
   "cell_type": "code",
   "execution_count": 10,
   "metadata": {},
   "outputs": [],
   "source": [
    "df_tax_id = df_tax_id.reset_index()"
   ]
  },
  {
   "cell_type": "code",
   "execution_count": 11,
   "metadata": {},
   "outputs": [],
   "source": [
    "taxonomies = [\"plants\",\"bacteria\",\"fungi\",\"marine\",\"animals\"]\n",
    "biology_names = []\n",
    "for row in df_tax_id.taxonomy:\n",
    "    for name in row:\n",
    "        if name not in taxonomies:\n",
    "            biology_names.append(name)"
   ]
  },
  {
   "cell_type": "code",
   "execution_count": 12,
   "metadata": {},
   "outputs": [],
   "source": [
    "for biology_name in biology_names:\n",
    "    for row in df_tax_id.taxonomy:\n",
    "        if biology_name in row:\n",
    "            row.remove(biology_name)\n",
    "            \n",
    "            "
   ]
  },
  {
   "cell_type": "markdown",
   "metadata": {},
   "source": [
    "**------------for tax prediction---------------**"
   ]
  },
  {
   "cell_type": "code",
   "execution_count": 13,
   "metadata": {},
   "outputs": [],
   "source": [
    "df_tax_id.to_pickle(\"for_predict_doubletriple.pkl\")"
   ]
  },
  {
   "cell_type": "markdown",
   "metadata": {},
   "source": [
    "**----------end tax prediction--------------**"
   ]
  },
  {
   "cell_type": "code",
   "execution_count": 14,
   "metadata": {},
   "outputs": [
    {
     "name": "stderr",
     "output_type": "stream",
     "text": [
      "/Users/jonas/opt/anaconda3/envs/my-rdkit-env/lib/python3.7/site-packages/ipykernel_launcher.py:7: SettingWithCopyWarning: \n",
      "A value is trying to be set on a copy of a slice from a DataFrame\n",
      "\n",
      "See the caveats in the documentation: https://pandas.pydata.org/pandas-docs/stable/user_guide/indexing.html#returning-a-view-versus-a-copy\n",
      "  import sys\n"
     ]
    }
   ],
   "source": [
    "for ind, tax_list in enumerate(df_tax_id.taxonomy):\n",
    "    if \"marine\" in tax_list:\n",
    "        #print(ind, tax_list)\n",
    "        if len(tax_list) > 1:\n",
    "            df_tax_id.taxonomy[ind].remove(\"marine\")\n",
    "        else:\n",
    "            df_tax_id.taxonomy[ind] = [\"no\"]"
   ]
  },
  {
   "cell_type": "code",
   "execution_count": 15,
   "metadata": {},
   "outputs": [],
   "source": [
    "taxonomy_Double = []\n",
    "taxonomy_Triple = []\n",
    "taxonomy_single_entry = []\n",
    "for ind, tax_list in enumerate(df_tax_id.taxonomy):\n",
    "    #print(ind, tax_list)\n",
    "    if len(tax_list) == 1:\n",
    "        taxonomy_single_entry.append(tax_list[0])\n",
    "    elif len(tax_list) == 2: \n",
    "        taxonomy_single_entry.append('double')\n",
    "        # save original annotation\n",
    "        taxonomyDouble1 = []\n",
    "        for tax in tax_list:\n",
    "            taxonomyDouble1.append(tax)\n",
    "        taxonomy_Double.append(taxonomyDouble1)\n",
    "    elif len(tax_list) == 3:\n",
    "        taxonomy_single_entry.append('triple')\n",
    "        # save original annotation\n",
    "        taxonomyTriple1 = []\n",
    "        for tax in tax_list:\n",
    "            taxonomyTriple1.append(tax)\n",
    "        taxonomy_Triple.append(taxonomyTriple1)"
   ]
  },
  {
   "cell_type": "code",
   "execution_count": 16,
   "metadata": {},
   "outputs": [],
   "source": [
    "df_tax_id_fromCompleteDatabank = pd.DataFrame({\"taxonomy\": taxonomy_single_entry,\n",
    "                     \"coconut_id\": df_five_tax.coconut_id})"
   ]
  },
  {
   "cell_type": "markdown",
   "metadata": {},
   "source": [
    "**Sweetcoconut Databank**"
   ]
  },
  {
   "cell_type": "code",
   "execution_count": 17,
   "metadata": {},
   "outputs": [],
   "source": [
    "client2 = MongoClient(\"localhost:27017\")\n",
    "db_s = client2[\"sweetcoconut\"]\n",
    "collection2 = db_s.sweetNaturalProduct\n",
    "sweetnp = pd.DataFrame(list(collection2.find({\"contains_sugar\": True})))"
   ]
  },
  {
   "cell_type": "code",
   "execution_count": 18,
   "metadata": {},
   "outputs": [],
   "source": [
    "sweetnp_with_tax = pd.merge(sweetnp, df_tax_id_fromCompleteDatabank, how=\"left\", on=\"coconut_id\")"
   ]
  },
  {
   "cell_type": "code",
   "execution_count": 19,
   "metadata": {},
   "outputs": [],
   "source": [
    "df_cutout_sweetnp_with_tax = pd.DataFrame({\"coconut_id\": sweetnp_with_tax.coconut_id,\n",
    "                             \"taxonomy\": sweetnp_with_tax.taxonomy,\n",
    "                             \"all_deglycosilated_smiles\": sweetnp_with_tax.all_deglycosilated_smiles\n",
    "})"
   ]
  },
  {
   "cell_type": "code",
   "execution_count": 20,
   "metadata": {},
   "outputs": [],
   "source": [
    "df_cutout_no_nan = df_cutout_sweetnp_with_tax.fillna('no')"
   ]
  },
  {
   "cell_type": "code",
   "execution_count": 21,
   "metadata": {},
   "outputs": [],
   "source": [
    "df_cutout_explode = df_cutout_no_nan.explode(\"all_deglycosilated_smiles\",ignore_index=True)"
   ]
  },
  {
   "cell_type": "code",
   "execution_count": 22,
   "metadata": {
    "scrolled": true
   },
   "outputs": [],
   "source": [
    "#display(df_cutout_explode)"
   ]
  },
  {
   "cell_type": "code",
   "execution_count": 23,
   "metadata": {},
   "outputs": [],
   "source": [
    "unique_deglycosilated_smiles = set(df_cutout_explode[\"all_deglycosilated_smiles\"])"
   ]
  },
  {
   "cell_type": "code",
   "execution_count": 24,
   "metadata": {},
   "outputs": [
    {
     "data": {
      "text/plain": [
       "''"
      ]
     },
     "execution_count": 24,
     "metadata": {},
     "output_type": "execute_result"
    }
   ],
   "source": [
    "unique_deglycosilated_smiles.pop()"
   ]
  },
  {
   "cell_type": "code",
   "execution_count": 25,
   "metadata": {},
   "outputs": [],
   "source": [
    "df_NP = pd.DataFrame(unique_deglycosilated_smiles, columns=[\"deglycosilated_smiles\"])"
   ]
  },
  {
   "cell_type": "code",
   "execution_count": 26,
   "metadata": {},
   "outputs": [],
   "source": [
    "df_NP[\"coconut_id\"] = \"\"\n",
    "df_NP[\"taxonomy\"] = \"\""
   ]
  },
  {
   "cell_type": "code",
   "execution_count": 27,
   "metadata": {},
   "outputs": [],
   "source": [
    "index = 0\n",
    "for mol in df_NP.deglycosilated_smiles:\n",
    "    all_rows = df_cutout_explode[df_cutout_explode[\"all_deglycosilated_smiles\"]==mol]\n",
    "    df_NP.coconut_id[index] = (all_rows.coconut_id.values)\n",
    "    df_NP.taxonomy[index] = (all_rows.taxonomy.values)\n",
    "    index += 1"
   ]
  },
  {
   "cell_type": "code",
   "execution_count": 28,
   "metadata": {
    "scrolled": false
   },
   "outputs": [],
   "source": [
    "#display(df_NP)"
   ]
  },
  {
   "cell_type": "markdown",
   "metadata": {},
   "source": [
    "**-----------------for tax prediction-------------------**"
   ]
  },
  {
   "cell_type": "code",
   "execution_count": 29,
   "metadata": {},
   "outputs": [],
   "source": [
    "df_NP.to_pickle(\"for_predict_multiple_tax.pkl\")"
   ]
  },
  {
   "cell_type": "markdown",
   "metadata": {},
   "source": [
    "**----------------end tax prediction--------------------**"
   ]
  },
  {
   "cell_type": "code",
   "execution_count": 30,
   "metadata": {},
   "outputs": [],
   "source": [
    "index = 0\n",
    "for tax_list in df_NP.taxonomy:\n",
    "    df_NP.taxonomy[index] = set(tax_list)\n",
    "    if len(df_NP.taxonomy[index]) >= 2:\n",
    "        if 'no' in df_NP.taxonomy[index]:\n",
    "            df_NP.taxonomy[index].remove('no')\n",
    "    index += 1"
   ]
  },
  {
   "cell_type": "code",
   "execution_count": 31,
   "metadata": {
    "scrolled": true
   },
   "outputs": [],
   "source": [
    "#display(df_NP)"
   ]
  },
  {
   "cell_type": "markdown",
   "metadata": {},
   "source": [
    "**Counting**"
   ]
  },
  {
   "cell_type": "code",
   "execution_count": 32,
   "metadata": {},
   "outputs": [],
   "source": [
    "cnt = Counter()\n",
    "for tax_list in df_NP.taxonomy:\n",
    "    for tax in list(tax_list):\n",
    "        if tax != 'no':\n",
    "            cnt[tax] += 1"
   ]
  },
  {
   "cell_type": "code",
   "execution_count": 33,
   "metadata": {
    "scrolled": true
   },
   "outputs": [
    {
     "data": {
      "text/plain": [
       "Counter({'plants': 1717,\n",
       "         'fungi': 105,\n",
       "         'double': 36,\n",
       "         'bacteria': 488,\n",
       "         'animals': 37})"
      ]
     },
     "execution_count": 33,
     "metadata": {},
     "output_type": "execute_result"
    }
   ],
   "source": [
    "cnt"
   ]
  },
  {
   "cell_type": "code",
   "execution_count": 34,
   "metadata": {
    "scrolled": true
   },
   "outputs": [
    {
     "data": {
      "text/plain": [
       "Text(0, 0.5, 'number of molecules')"
      ]
     },
     "execution_count": 34,
     "metadata": {},
     "output_type": "execute_result"
    },
    {
     "data": {
      "image/png": "[encoded data removed]",
      "text/plain": [
       "<Figure size 432x288 with 1 Axes>"
      ]
     },
     "metadata": {
      "needs_background": "light"
     },
     "output_type": "display_data"
    }
   ],
   "source": [
    "plt.bar(cnt.keys(),cnt.values())\n",
    "plt.xlabel('taxonomic provenance')\n",
    "plt.ylabel('number of molecules')"
   ]
  },
  {
   "cell_type": "markdown",
   "metadata": {},
   "source": [
    "**Venn-Diagram**"
   ]
  },
  {
   "cell_type": "code",
   "execution_count": 35,
   "metadata": {
    "scrolled": true
   },
   "outputs": [],
   "source": [
    "taxonomy_Single = [list(tax) for tax in df_NP.taxonomy if 'double' not in tax]"
   ]
  },
  {
   "cell_type": "code",
   "execution_count": 36,
   "metadata": {},
   "outputs": [],
   "source": [
    "taxonomy_All = taxonomy_Single + taxonomy_Double"
   ]
  },
  {
   "cell_type": "code",
   "execution_count": 37,
   "metadata": {},
   "outputs": [],
   "source": [
    "plants = set()\n",
    "bacteria = set()\n",
    "animals = set()\n",
    "fungi = set()"
   ]
  },
  {
   "cell_type": "code",
   "execution_count": 38,
   "metadata": {},
   "outputs": [],
   "source": [
    "for tax_list in taxonomy_All:\n",
    "    if \"plants\" in tax_list:\n",
    "        for tax in tax_list:\n",
    "            plants.add(tax.index)\n",
    "    if \"bacteria\" in tax_list:\n",
    "        for tax in tax_list:\n",
    "            bacteria.add(tax.index)\n",
    "    if \"animals\" in tax_list:\n",
    "        for tax in tax_list:\n",
    "            animals.add(tax.index)\n",
    "    if \"fungi\" in tax_list:\n",
    "        for tax in tax_list:\n",
    "            fungi.add(tax.index)"
   ]
  },
  {
   "cell_type": "code",
   "execution_count": 39,
   "metadata": {},
   "outputs": [
    {
     "name": "stderr",
     "output_type": "stream",
     "text": [
      "/Users/jonas/opt/anaconda3/envs/my-rdkit-env/lib/python3.7/site-packages/venn/_backwards_compatibility.py:16: UserWarning: `get_labels()` is retained for backwards compatibility; use `generate_petal_labels()` or the higher level `venn()` instead\n",
      "  \"`get_labels()` is retained for backwards compatibility; \" +\n",
      "/Users/jonas/opt/anaconda3/envs/my-rdkit-env/lib/python3.7/site-packages/venn/_backwards_compatibility.py:32: UserWarning: `venn4()` is retained for backwards compatibility; use `venn()` instead\n",
      "  \"use `venn()` instead\"\n"
     ]
    },
    {
     "data": {
      "image/png": "[encoded data removed]",
      "text/plain": [
       "<Figure size 648x648 with 1 Axes>"
      ]
     },
     "metadata": {},
     "output_type": "display_data"
    }
   ],
   "source": [
    "labels = venn.get_labels([plants,bacteria,animals,fungi])\n",
    "fig, ax = venn.venn4(labels,names=['plants','bacteria','animals','fungi'])"
   ]
  },
  {
   "cell_type": "markdown",
   "metadata": {},
   "source": [
    "**seperate aglycons with at least two different entries in taxonomy**\n"
   ]
  },
  {
   "cell_type": "code",
   "execution_count": 40,
   "metadata": {
    "scrolled": true
   },
   "outputs": [],
   "source": [
    "index_Unique_Tax = [ind for ind, tax_list in enumerate(df_NP.taxonomy) if len(tax_list) == 1]"
   ]
  },
  {
   "cell_type": "code",
   "execution_count": 41,
   "metadata": {},
   "outputs": [],
   "source": [
    "df_Without_Double = df_NP.iloc[index_Unique_Tax[:]]"
   ]
  },
  {
   "cell_type": "code",
   "execution_count": 42,
   "metadata": {},
   "outputs": [],
   "source": [
    "#df_Without_Double"
   ]
  },
  {
   "cell_type": "markdown",
   "metadata": {},
   "source": [
    "**check for 'double' or 'triple' entries in taxonomy**"
   ]
  },
  {
   "cell_type": "code",
   "execution_count": 56,
   "metadata": {},
   "outputs": [],
   "source": [
    "index_double_or_triple = [ind for ind, tax_list in enumerate(df_Without_Double.taxonomy) if 'double' not in tax_list]"
   ]
  },
  {
   "cell_type": "code",
   "execution_count": 57,
   "metadata": {},
   "outputs": [],
   "source": [
    "df_Without_Double_or_Triple = df_Without_Double.iloc[index_double_or_triple[:]]"
   ]
  },
  {
   "cell_type": "code",
   "execution_count": 59,
   "metadata": {
    "scrolled": true
   },
   "outputs": [],
   "source": [
    "#df_Without_Double_or_Triple"
   ]
  },
  {
   "cell_type": "markdown",
   "metadata": {},
   "source": [
    "**------for taxonomy prediction------**"
   ]
  },
  {
   "cell_type": "code",
   "execution_count": 63,
   "metadata": {},
   "outputs": [],
   "source": [
    "df_Without_Double_or_Triple.to_pickle(\"df_all_aglycons_with_single_taxonomy.pkl\")"
   ]
  },
  {
   "cell_type": "markdown",
   "metadata": {},
   "source": [
    "**------end for taxonomy prediction------**"
   ]
  },
  {
   "cell_type": "markdown",
   "metadata": {},
   "source": [
    "**Fingerprints**"
   ]
  },
  {
   "cell_type": "code",
   "execution_count": 64,
   "metadata": {
    "scrolled": true
   },
   "outputs": [
    {
     "name": "stderr",
     "output_type": "stream",
     "text": [
      "RDKit ERROR: [16:19:30] Explicit valence for atom # 3 N, 4, is greater than permitted\n",
      "RDKit ERROR: [16:19:30] Explicit valence for atom # 4 N, 4, is greater than permitted\n",
      "RDKit ERROR: [16:19:30] Explicit valence for atom # 1 C, 5, is greater than permitted\n",
      "RDKit ERROR: [16:19:30] Explicit valence for atom # 10 O, 3, is greater than permitted\n",
      "RDKit ERROR: [16:19:30] Explicit valence for atom # 6 N, 4, is greater than permitted\n",
      "RDKit ERROR: [16:19:30] Explicit valence for atom # 10 O, 3, is greater than permitted\n",
      "RDKit ERROR: [16:19:30] Explicit valence for atom # 3 N, 4, is greater than permitted\n",
      "RDKit ERROR: [16:19:30] Explicit valence for atom # 8 N, 4, is greater than permitted\n",
      "RDKit ERROR: [16:19:31] Explicit valence for atom # 25 N, 4, is greater than permitted\n",
      "RDKit ERROR: [16:19:31] Explicit valence for atom # 6 O, 3, is greater than permitted\n",
      "RDKit ERROR: [16:19:31] Explicit valence for atom # 3 O, 3, is greater than permitted\n",
      "RDKit ERROR: [16:19:31] Explicit valence for atom # 8 O, 3, is greater than permitted\n",
      "RDKit ERROR: [16:19:31] Explicit valence for atom # 10 O, 3, is greater than permitted\n",
      "RDKit ERROR: [16:19:31] Explicit valence for atom # 10 O, 3, is greater than permitted\n",
      "RDKit ERROR: [16:19:31] Explicit valence for atom # 9 O, 3, is greater than permitted\n",
      "RDKit ERROR: [16:19:31] Explicit valence for atom # 1 N, 4, is greater than permitted\n",
      "RDKit ERROR: [16:19:31] Explicit valence for atom # 25 N, 4, is greater than permitted\n",
      "RDKit ERROR: [16:19:31] Explicit valence for atom # 23 N, 4, is greater than permitted\n",
      "RDKit ERROR: [16:19:31] Explicit valence for atom # 21 N, 4, is greater than permitted\n",
      "RDKit ERROR: [16:19:31] Explicit valence for atom # 10 O, 3, is greater than permitted\n",
      "RDKit ERROR: [16:19:31] Explicit valence for atom # 4 O, 3, is greater than permitted\n",
      "RDKit ERROR: [16:19:32] Explicit valence for atom # 13 C, 5, is greater than permitted\n",
      "RDKit ERROR: [16:19:32] Explicit valence for atom # 62 N, 4, is greater than permitted\n",
      "RDKit ERROR: [16:19:32] Explicit valence for atom # 10 O, 3, is greater than permitted\n",
      "RDKit ERROR: [16:19:32] Explicit valence for atom # 25 N, 4, is greater than permitted\n",
      "RDKit ERROR: [16:19:32] Explicit valence for atom # 5 N, 4, is greater than permitted\n",
      "RDKit ERROR: [16:19:32] Explicit valence for atom # 8 N, 4, is greater than permitted\n",
      "RDKit ERROR: [16:19:32] Explicit valence for atom # 5 N, 4, is greater than permitted\n",
      "RDKit ERROR: [16:19:32] Explicit valence for atom # 9 O, 3, is greater than permitted\n",
      "RDKit ERROR: [16:19:32] Explicit valence for atom # 8 N, 4, is greater than permitted\n",
      "RDKit ERROR: [16:19:32] Explicit valence for atom # 10 O, 3, is greater than permitted\n",
      "RDKit ERROR: [16:19:33] Explicit valence for atom # 4 O, 3, is greater than permitted\n",
      "RDKit ERROR: [16:19:33] Explicit valence for atom # 8 O, 3, is greater than permitted\n",
      "RDKit ERROR: [16:19:33] Explicit valence for atom # 12 C, 5, is greater than permitted\n",
      "RDKit ERROR: [16:19:33] Explicit valence for atom # 10 O, 3, is greater than permitted\n",
      "RDKit ERROR: [16:19:33] Explicit valence for atom # 6 N, 4, is greater than permitted\n",
      "RDKit ERROR: [16:19:33] Explicit valence for atom # 26 N, 4, is greater than permitted\n",
      "RDKit ERROR: [16:19:34] Explicit valence for atom # 10 O, 3, is greater than permitted\n",
      "RDKit ERROR: [16:19:34] Explicit valence for atom # 4 O, 3, is greater than permitted\n",
      "RDKit ERROR: [16:19:34] Explicit valence for atom # 22 N, 4, is greater than permitted\n",
      "RDKit ERROR: [16:19:34] Explicit valence for atom # 10 O, 3, is greater than permitted\n",
      "RDKit ERROR: [16:19:34] Explicit valence for atom # 2 O, 3, is greater than permitted\n",
      "RDKit ERROR: [16:19:34] Explicit valence for atom # 10 O, 3, is greater than permitted\n",
      "RDKit ERROR: [16:19:34] Explicit valence for atom # 11 O, 3, is greater than permitted\n",
      "RDKit ERROR: [16:19:34] Explicit valence for atom # 12 N, 4, is greater than permitted\n",
      "RDKit ERROR: [16:19:34] Explicit valence for atom # 22 N, 4, is greater than permitted\n",
      "RDKit ERROR: [16:19:34] Explicit valence for atom # 4 O, 3, is greater than permitted\n"
     ]
    }
   ],
   "source": [
    "mol_From_Smiles = []\n",
    "index_Mol_Explicit_Valence = []\n",
    "index_Mol_Implicit_Valence = []\n",
    "index = 0\n",
    "for smiles in df_Without_Double_or_Triple.deglycosilated_smiles:\n",
    "    mol = Chem.MolFromSmiles(smiles)\n",
    "    if mol == None:\n",
    "        index_Mol_Explicit_Valence.append(index)\n",
    "    else:\n",
    "        mol_From_Smiles.append(mol)\n",
    "        index_Mol_Implicit_Valence.append(index)\n",
    "    index += 1    "
   ]
  },
  {
   "cell_type": "code",
   "execution_count": 65,
   "metadata": {},
   "outputs": [],
   "source": [
    "#print(index_Mol_Explicit_Valence)"
   ]
  },
  {
   "cell_type": "code",
   "execution_count": 66,
   "metadata": {},
   "outputs": [],
   "source": [
    "df_Without_Explicit_Valence = df_Without_Double_or_Triple.iloc[index_Mol_Implicit_Valence[:]]"
   ]
  },
  {
   "cell_type": "code",
   "execution_count": 67,
   "metadata": {},
   "outputs": [],
   "source": [
    "df_Without_Explicit_Valence = df_Without_Explicit_Valence.reset_index()"
   ]
  },
  {
   "cell_type": "code",
   "execution_count": 68,
   "metadata": {},
   "outputs": [],
   "source": [
    "#df_Without_Explicit_Valence"
   ]
  },
  {
   "cell_type": "code",
   "execution_count": 69,
   "metadata": {},
   "outputs": [],
   "source": [
    "fps = [AllChem.GetMorganFingerprint(mol,2,useFeatures=True) for mol in mol_From_Smiles]"
   ]
  },
  {
   "cell_type": "markdown",
   "metadata": {},
   "source": [
    "create combinations of deglycosilated_smiles for indexing"
   ]
  },
  {
   "cell_type": "code",
   "execution_count": 70,
   "metadata": {},
   "outputs": [],
   "source": [
    "aglycon_formula_for_indexing = list(df_Without_Explicit_Valence.deglycosilated_smiles)"
   ]
  },
  {
   "cell_type": "code",
   "execution_count": 71,
   "metadata": {},
   "outputs": [],
   "source": [
    "aglycon_formulas = [aglycon_pair for aglycon_pair in itertools.combinations(aglycon_formula_for_indexing, 2)]"
   ]
  },
  {
   "cell_type": "code",
   "execution_count": 72,
   "metadata": {},
   "outputs": [
    {
     "name": "stdout",
     "output_type": "stream",
     "text": [
      "221730211\n"
     ]
    }
   ],
   "source": [
    "print(len(aglycon_formulas))"
   ]
  },
  {
   "cell_type": "markdown",
   "metadata": {},
   "source": [
    "**Tanimoto Index between two different aglycons**"
   ]
  },
  {
   "cell_type": "code",
   "execution_count": 73,
   "metadata": {},
   "outputs": [],
   "source": [
    "aglycon_pairs = itertools.combinations(fps, 2)"
   ]
  },
  {
   "cell_type": "code",
   "execution_count": 74,
   "metadata": {
    "scrolled": true
   },
   "outputs": [],
   "source": [
    "aglycon1_095 = []\n",
    "aglycon2_095 = []\n",
    "tanimoto_095 = []\n",
    "aglycon1_090 = []\n",
    "aglycon2_090 = []\n",
    "tanimoto_090 = []\n",
    "aglycon1_080 = []\n",
    "aglycon2_080 = []\n",
    "tanimoto_080 = []\n",
    "counter = 0\n",
    "for pair in aglycon_pairs:\n",
    "    fingerprint = DataStructs.TanimotoSimilarity(pair[0],pair[1])\n",
    "    if fingerprint >= 0.95:\n",
    "        aglycon1_095.append(aglycon_formulas[counter][0])\n",
    "        aglycon2_095.append(aglycon_formulas[counter][1])\n",
    "        tanimoto_095.append(fingerprint)\n",
    "        aglycon1_090.append(aglycon_formulas[counter][0])\n",
    "        aglycon2_090.append(aglycon_formulas[counter][1])\n",
    "        tanimoto_090.append(fingerprint)\n",
    "        aglycon1_080.append(aglycon_formulas[counter][0])\n",
    "        aglycon2_080.append(aglycon_formulas[counter][1])\n",
    "        tanimoto_080.append(fingerprint)\n",
    "    elif fingerprint >= 0.9:\n",
    "        aglycon1_090.append(aglycon_formulas[counter][0])\n",
    "        aglycon2_090.append(aglycon_formulas[counter][1])\n",
    "        tanimoto_090.append(fingerprint)\n",
    "        aglycon1_080.append(aglycon_formulas[counter][0])\n",
    "        aglycon2_080.append(aglycon_formulas[counter][1])\n",
    "        tanimoto_080.append(fingerprint)\n",
    "    elif fingerprint >= 0.8:\n",
    "        aglycon1_080.append(aglycon_formulas[counter][0])\n",
    "        aglycon2_080.append(aglycon_formulas[counter][1])\n",
    "        tanimoto_080.append(fingerprint)\n",
    "    counter += 1"
   ]
  },
  {
   "cell_type": "code",
   "execution_count": 75,
   "metadata": {},
   "outputs": [
    {
     "name": "stdout",
     "output_type": "stream",
     "text": [
      "221730211\n"
     ]
    }
   ],
   "source": [
    "print(counter)"
   ]
  },
  {
   "cell_type": "code",
   "execution_count": 76,
   "metadata": {},
   "outputs": [],
   "source": [
    "df_comparison_095 = pd.DataFrame({\n",
    "    \"aglycon1\": aglycon1_095,\n",
    "    \"aglycon2\": aglycon2_095,\n",
    "    \"tanimoto_index\": tanimoto_095\n",
    "})"
   ]
  },
  {
   "cell_type": "code",
   "execution_count": 77,
   "metadata": {},
   "outputs": [
    {
     "data": {
      "text/html": [
       "<div>\n",
       "<style scoped>\n",
       "    .dataframe tbody tr th:only-of-type {\n",
       "        vertical-align: middle;\n",
       "    }\n",
       "\n",
       "    .dataframe tbody tr th {\n",
       "        vertical-align: top;\n",
       "    }\n",
       "\n",
       "    .dataframe thead th {\n",
       "        text-align: right;\n",
       "    }\n",
       "</style>\n",
       "<table border=\"1\" class=\"dataframe\">\n",
       "  <thead>\n",
       "    <tr style=\"text-align: right;\">\n",
       "      <th></th>\n",
       "      <th>aglycon1</th>\n",
       "      <th>aglycon2</th>\n",
       "      <th>tanimoto_index</th>\n",
       "    </tr>\n",
       "  </thead>\n",
       "  <tbody>\n",
       "    <tr>\n",
       "      <th>0</th>\n",
       "      <td>O=C1C=C(OC2=CC(O)=C(O)C(O)=C12)C=3C=CC(O)=CC3C...</td>\n",
       "      <td>O=C1C=C(OC2=CC(O)=C(O)C(O)=C12)C=3C=CC(O)=CC3C...</td>\n",
       "      <td>0.972477</td>\n",
       "    </tr>\n",
       "    <tr>\n",
       "      <th>1</th>\n",
       "      <td>O=C1OC(CC)CCCC(OC2OC(C)C(N(C)C)CC2)C(C(=O)C3=C...</td>\n",
       "      <td>O=C1OC(CC)CCCC(OC2OC(C)C(N(C)C)CC2)C(C(=O)C3=C...</td>\n",
       "      <td>0.956522</td>\n",
       "    </tr>\n",
       "    <tr>\n",
       "      <th>2</th>\n",
       "      <td>O=C(OC)C1=COC(O)C(C=C)C1CC2C3=CC(O)=C(OC)C=C3C...</td>\n",
       "      <td>O=C(OC)C1=COC(O)C(C=C)C1CC2C3=CC(OC)=C(O)C=C3C...</td>\n",
       "      <td>1.000000</td>\n",
       "    </tr>\n",
       "    <tr>\n",
       "      <th>3</th>\n",
       "      <td>O=C(OC1C(OC(=O)C)C2C(CCC3CC(O)CCC32C)C4(O)CCC(...</td>\n",
       "      <td>O=C(OC1C(OC(=O)C)C2(C)C(C(=O)C)CCC2(O)C3CCC4CC...</td>\n",
       "      <td>1.000000</td>\n",
       "    </tr>\n",
       "    <tr>\n",
       "      <th>4</th>\n",
       "      <td>O=C(NC(CO)C(O[Si](C)(C)C)C=CCCCCCCCCCCCCC)CCCC...</td>\n",
       "      <td>O=C(NC(CO)C(O[Si](C)(C)C)C=CCCCCCCCCCCCCC)CCCC...</td>\n",
       "      <td>0.978571</td>\n",
       "    </tr>\n",
       "    <tr>\n",
       "      <th>...</th>\n",
       "      <td>...</td>\n",
       "      <td>...</td>\n",
       "      <td>...</td>\n",
       "    </tr>\n",
       "    <tr>\n",
       "      <th>3353</th>\n",
       "      <td>O=C(CCCCCCC(C)CC=CC(C)CC=CCCC=CCCCCC1OC1CCC(=C...</td>\n",
       "      <td>O=C(CCCCCCC(C)CC=CC(C)CC=CCCC=CCCCCC1OC1CCC(=C...</td>\n",
       "      <td>0.953052</td>\n",
       "    </tr>\n",
       "    <tr>\n",
       "      <th>3354</th>\n",
       "      <td>O=C(CCCCCCCCCCCCC(O)C(N)C)CCCCCCCCCC(O)C(N)CO</td>\n",
       "      <td>O=C(CCCCCCCCCCCCCCC(O)C(N)C)CCCCCCCC(O)C(N)CO</td>\n",
       "      <td>1.000000</td>\n",
       "    </tr>\n",
       "    <tr>\n",
       "      <th>3355</th>\n",
       "      <td>O=C1OCC2OC(=O)C3=CC(O)=C(O)C(O)=C3C4=C(O)C(O)=...</td>\n",
       "      <td>O=C1OCC2OC(=O)C3=CC(O)=C(O)C(O)=C3C4=C(O)C(O)=...</td>\n",
       "      <td>0.972376</td>\n",
       "    </tr>\n",
       "    <tr>\n",
       "      <th>3356</th>\n",
       "      <td>FC1C(O)C(N)CC(N)C1OC2OC(CCC2N)C(NC)C</td>\n",
       "      <td>IC1C(O)C(N)CC(N)C1OC2OC(CCC2N)C(NC)C</td>\n",
       "      <td>1.000000</td>\n",
       "    </tr>\n",
       "    <tr>\n",
       "      <th>3357</th>\n",
       "      <td>ClC1=CC=C(O)C=C1</td>\n",
       "      <td>IC1=CC=C(O)C=C1</td>\n",
       "      <td>1.000000</td>\n",
       "    </tr>\n",
       "  </tbody>\n",
       "</table>\n",
       "<p>3358 rows × 3 columns</p>\n",
       "</div>"
      ],
      "text/plain": [
       "                                               aglycon1  \\\n",
       "0     O=C1C=C(OC2=CC(O)=C(O)C(O)=C12)C=3C=CC(O)=CC3C...   \n",
       "1     O=C1OC(CC)CCCC(OC2OC(C)C(N(C)C)CC2)C(C(=O)C3=C...   \n",
       "2     O=C(OC)C1=COC(O)C(C=C)C1CC2C3=CC(O)=C(OC)C=C3C...   \n",
       "3     O=C(OC1C(OC(=O)C)C2C(CCC3CC(O)CCC32C)C4(O)CCC(...   \n",
       "4     O=C(NC(CO)C(O[Si](C)(C)C)C=CCCCCCCCCCCCCC)CCCC...   \n",
       "...                                                 ...   \n",
       "3353  O=C(CCCCCCC(C)CC=CC(C)CC=CCCC=CCCCCC1OC1CCC(=C...   \n",
       "3354      O=C(CCCCCCCCCCCCC(O)C(N)C)CCCCCCCCCC(O)C(N)CO   \n",
       "3355  O=C1OCC2OC(=O)C3=CC(O)=C(O)C(O)=C3C4=C(O)C(O)=...   \n",
       "3356               FC1C(O)C(N)CC(N)C1OC2OC(CCC2N)C(NC)C   \n",
       "3357                                   ClC1=CC=C(O)C=C1   \n",
       "\n",
       "                                               aglycon2  tanimoto_index  \n",
       "0     O=C1C=C(OC2=CC(O)=C(O)C(O)=C12)C=3C=CC(O)=CC3C...        0.972477  \n",
       "1     O=C1OC(CC)CCCC(OC2OC(C)C(N(C)C)CC2)C(C(=O)C3=C...        0.956522  \n",
       "2     O=C(OC)C1=COC(O)C(C=C)C1CC2C3=CC(OC)=C(O)C=C3C...        1.000000  \n",
       "3     O=C(OC1C(OC(=O)C)C2(C)C(C(=O)C)CCC2(O)C3CCC4CC...        1.000000  \n",
       "4     O=C(NC(CO)C(O[Si](C)(C)C)C=CCCCCCCCCCCCCC)CCCC...        0.978571  \n",
       "...                                                 ...             ...  \n",
       "3353  O=C(CCCCCCC(C)CC=CC(C)CC=CCCC=CCCCCC1OC1CCC(=C...        0.953052  \n",
       "3354      O=C(CCCCCCCCCCCCCCC(O)C(N)C)CCCCCCCC(O)C(N)CO        1.000000  \n",
       "3355  O=C1OCC2OC(=O)C3=CC(O)=C(O)C(O)=C3C4=C(O)C(O)=...        0.972376  \n",
       "3356               IC1C(O)C(N)CC(N)C1OC2OC(CCC2N)C(NC)C        1.000000  \n",
       "3357                                    IC1=CC=C(O)C=C1        1.000000  \n",
       "\n",
       "[3358 rows x 3 columns]"
      ]
     },
     "execution_count": 77,
     "metadata": {},
     "output_type": "execute_result"
    }
   ],
   "source": [
    "df_comparison_095"
   ]
  },
  {
   "cell_type": "code",
   "execution_count": 78,
   "metadata": {},
   "outputs": [],
   "source": [
    "df_comparison_090 = pd.DataFrame({\n",
    "    \"aglycon1\": aglycon1_090,\n",
    "    \"aglycon2\": aglycon2_090,\n",
    "    \"tanimoto_index\": tanimoto_090\n",
    "})"
   ]
  },
  {
   "cell_type": "code",
   "execution_count": 79,
   "metadata": {},
   "outputs": [
    {
     "data": {
      "text/html": [
       "<div>\n",
       "<style scoped>\n",
       "    .dataframe tbody tr th:only-of-type {\n",
       "        vertical-align: middle;\n",
       "    }\n",
       "\n",
       "    .dataframe tbody tr th {\n",
       "        vertical-align: top;\n",
       "    }\n",
       "\n",
       "    .dataframe thead th {\n",
       "        text-align: right;\n",
       "    }\n",
       "</style>\n",
       "<table border=\"1\" class=\"dataframe\">\n",
       "  <thead>\n",
       "    <tr style=\"text-align: right;\">\n",
       "      <th></th>\n",
       "      <th>aglycon1</th>\n",
       "      <th>aglycon2</th>\n",
       "      <th>tanimoto_index</th>\n",
       "    </tr>\n",
       "  </thead>\n",
       "  <tbody>\n",
       "    <tr>\n",
       "      <th>0</th>\n",
       "      <td>O=C(CC(O)(C)C1CCC2C3C(=CCC21C)C4(C)CCC(OS(=O)(...</td>\n",
       "      <td>O=C(CC(C)C)CC(O)(C)C1CCC2C3C(=CCC21C)C4(C)CCC(...</td>\n",
       "      <td>0.927083</td>\n",
       "    </tr>\n",
       "    <tr>\n",
       "      <th>1</th>\n",
       "      <td>O=C(CC(O)(C)C1CCC2C3C(=CCC21C)C4(C)CCC(OS(=O)(...</td>\n",
       "      <td>O=C(CC(O)(C)C1CCC2C3C(=CCC21C)C4(C)CCC(OS(=O)(...</td>\n",
       "      <td>0.927835</td>\n",
       "    </tr>\n",
       "    <tr>\n",
       "      <th>2</th>\n",
       "      <td>O=C(CC(O)(C)C1CCC2C3C(=CCC21C)C4(C)CCC(OS(=O)(...</td>\n",
       "      <td>O=C(C=C(C)C)CC(O)(C)C1CCC2C3C(=CCC21C)C4(C)CCC...</td>\n",
       "      <td>0.907216</td>\n",
       "    </tr>\n",
       "    <tr>\n",
       "      <th>3</th>\n",
       "      <td>O=C1C=C(OC2=CC(O)=C(O)C(O)=C12)C=3C=CC(O)=CC3C...</td>\n",
       "      <td>O=C1C=C(OC2=CC(O)=C(O)C(O)=C12)C=3C=CC(O)=CC3C...</td>\n",
       "      <td>0.972477</td>\n",
       "    </tr>\n",
       "    <tr>\n",
       "      <th>4</th>\n",
       "      <td>O=C(C=CC1=CC=C(O)C=C1)C=2C(O)=CC(O)=CC2O</td>\n",
       "      <td>O=C(C=CC1=CC=C(O)C=C1O)C2=CC=C(O)C=C2O</td>\n",
       "      <td>0.929825</td>\n",
       "    </tr>\n",
       "    <tr>\n",
       "      <th>...</th>\n",
       "      <td>...</td>\n",
       "      <td>...</td>\n",
       "      <td>...</td>\n",
       "    </tr>\n",
       "    <tr>\n",
       "      <th>17000</th>\n",
       "      <td>O=C(OCC(OC(=O)CCCCCC=CCCCCCCCCC)COP(=O)(O)OC1C...</td>\n",
       "      <td>O=C(OCC(OC(=O)CCCCCCCCCCCCC)COP(=O)(O)OC1C(O)C...</td>\n",
       "      <td>0.932099</td>\n",
       "    </tr>\n",
       "    <tr>\n",
       "      <th>17001</th>\n",
       "      <td>O=C(OCC(OC(=O)CCCCCC=CCCCCCCCCC)COP(=O)(O)OC1C...</td>\n",
       "      <td>O=C(OCC(OC(=O)CCCCCCCCCCCCCCCCCC)COP(=O)(O)OC1...</td>\n",
       "      <td>0.928994</td>\n",
       "    </tr>\n",
       "    <tr>\n",
       "      <th>17002</th>\n",
       "      <td>O=C(OCC(OC(=O)CCCCCCCCCCCCC)COP(=O)(O)OC1C(O)C...</td>\n",
       "      <td>O=C(OCC(OC(=O)CCCCCCCCCCCCCCCCCC)COP(=O)(O)OC1...</td>\n",
       "      <td>0.912281</td>\n",
       "    </tr>\n",
       "    <tr>\n",
       "      <th>17003</th>\n",
       "      <td>O=C(OCC(OC(=O)CCCCCCCCCCCCCCCCCC)COP(=O)(O)OC1...</td>\n",
       "      <td>O=C(OCC(OC(=O)CCCCCCCCCCCCCCCCCC)COP(=O)(O)OC1...</td>\n",
       "      <td>0.920904</td>\n",
       "    </tr>\n",
       "    <tr>\n",
       "      <th>17004</th>\n",
       "      <td>O=CC=1C(=CC=CC1C(N)N)CC2=C(O)C=C3C(=O)C4=C(C(=...</td>\n",
       "      <td>O=CC=1C(=CC=CC1CC2=C(O)C=C3C(=O)C4=C(C(=O)C3=C...</td>\n",
       "      <td>0.909774</td>\n",
       "    </tr>\n",
       "  </tbody>\n",
       "</table>\n",
       "<p>17005 rows × 3 columns</p>\n",
       "</div>"
      ],
      "text/plain": [
       "                                                aglycon1  \\\n",
       "0      O=C(CC(O)(C)C1CCC2C3C(=CCC21C)C4(C)CCC(OS(=O)(...   \n",
       "1      O=C(CC(O)(C)C1CCC2C3C(=CCC21C)C4(C)CCC(OS(=O)(...   \n",
       "2      O=C(CC(O)(C)C1CCC2C3C(=CCC21C)C4(C)CCC(OS(=O)(...   \n",
       "3      O=C1C=C(OC2=CC(O)=C(O)C(O)=C12)C=3C=CC(O)=CC3C...   \n",
       "4               O=C(C=CC1=CC=C(O)C=C1)C=2C(O)=CC(O)=CC2O   \n",
       "...                                                  ...   \n",
       "17000  O=C(OCC(OC(=O)CCCCCC=CCCCCCCCCC)COP(=O)(O)OC1C...   \n",
       "17001  O=C(OCC(OC(=O)CCCCCC=CCCCCCCCCC)COP(=O)(O)OC1C...   \n",
       "17002  O=C(OCC(OC(=O)CCCCCCCCCCCCC)COP(=O)(O)OC1C(O)C...   \n",
       "17003  O=C(OCC(OC(=O)CCCCCCCCCCCCCCCCCC)COP(=O)(O)OC1...   \n",
       "17004  O=CC=1C(=CC=CC1C(N)N)CC2=C(O)C=C3C(=O)C4=C(C(=...   \n",
       "\n",
       "                                                aglycon2  tanimoto_index  \n",
       "0      O=C(CC(C)C)CC(O)(C)C1CCC2C3C(=CCC21C)C4(C)CCC(...        0.927083  \n",
       "1      O=C(CC(O)(C)C1CCC2C3C(=CCC21C)C4(C)CCC(OS(=O)(...        0.927835  \n",
       "2      O=C(C=C(C)C)CC(O)(C)C1CCC2C3C(=CCC21C)C4(C)CCC...        0.907216  \n",
       "3      O=C1C=C(OC2=CC(O)=C(O)C(O)=C12)C=3C=CC(O)=CC3C...        0.972477  \n",
       "4                 O=C(C=CC1=CC=C(O)C=C1O)C2=CC=C(O)C=C2O        0.929825  \n",
       "...                                                  ...             ...  \n",
       "17000  O=C(OCC(OC(=O)CCCCCCCCCCCCC)COP(=O)(O)OC1C(O)C...        0.932099  \n",
       "17001  O=C(OCC(OC(=O)CCCCCCCCCCCCCCCCCC)COP(=O)(O)OC1...        0.928994  \n",
       "17002  O=C(OCC(OC(=O)CCCCCCCCCCCCCCCCCC)COP(=O)(O)OC1...        0.912281  \n",
       "17003  O=C(OCC(OC(=O)CCCCCCCCCCCCCCCCCC)COP(=O)(O)OC1...        0.920904  \n",
       "17004  O=CC=1C(=CC=CC1CC2=C(O)C=C3C(=O)C4=C(C(=O)C3=C...        0.909774  \n",
       "\n",
       "[17005 rows x 3 columns]"
      ]
     },
     "execution_count": 79,
     "metadata": {},
     "output_type": "execute_result"
    }
   ],
   "source": [
    "df_comparison_090"
   ]
  },
  {
   "cell_type": "code",
   "execution_count": 80,
   "metadata": {},
   "outputs": [],
   "source": [
    "df_comparison_080 = pd.DataFrame({\n",
    "    \"aglycon1\": aglycon1_080,\n",
    "    \"aglycon2\": aglycon2_080,\n",
    "    \"tanimoto_index\": tanimoto_080\n",
    "})"
   ]
  },
  {
   "cell_type": "code",
   "execution_count": 81,
   "metadata": {},
   "outputs": [
    {
     "data": {
      "text/html": [
       "<div>\n",
       "<style scoped>\n",
       "    .dataframe tbody tr th:only-of-type {\n",
       "        vertical-align: middle;\n",
       "    }\n",
       "\n",
       "    .dataframe tbody tr th {\n",
       "        vertical-align: top;\n",
       "    }\n",
       "\n",
       "    .dataframe thead th {\n",
       "        text-align: right;\n",
       "    }\n",
       "</style>\n",
       "<table border=\"1\" class=\"dataframe\">\n",
       "  <thead>\n",
       "    <tr style=\"text-align: right;\">\n",
       "      <th></th>\n",
       "      <th>aglycon1</th>\n",
       "      <th>aglycon2</th>\n",
       "      <th>tanimoto_index</th>\n",
       "    </tr>\n",
       "  </thead>\n",
       "  <tbody>\n",
       "    <tr>\n",
       "      <th>0</th>\n",
       "      <td>O=C(N)CCCCCCC(C)CC</td>\n",
       "      <td>O=C(N)CCCCC(C)CC</td>\n",
       "      <td>0.828571</td>\n",
       "    </tr>\n",
       "    <tr>\n",
       "      <th>1</th>\n",
       "      <td>O=C(N)CCCCCCC(C)CC</td>\n",
       "      <td>O=C(N)CCCCCCCCC(C)C</td>\n",
       "      <td>0.825000</td>\n",
       "    </tr>\n",
       "    <tr>\n",
       "      <th>2</th>\n",
       "      <td>O=C(N)CCCCCCC(C)CC</td>\n",
       "      <td>O=C(N)CCCCCCCC(C)C</td>\n",
       "      <td>0.891892</td>\n",
       "    </tr>\n",
       "    <tr>\n",
       "      <th>3</th>\n",
       "      <td>O=C(N)CCCCCCC(C)CC</td>\n",
       "      <td>O=C(N)CCCCCCC(C)C</td>\n",
       "      <td>0.861111</td>\n",
       "    </tr>\n",
       "    <tr>\n",
       "      <th>4</th>\n",
       "      <td>O=C(O)C1=COC(O)C2C(=CCC12)COC(=O)C3=CC=C(O)C(O...</td>\n",
       "      <td>O=C([O-])C1=COC(O)C2C(=CCC12)COC(=O)C3=CC=C(O)...</td>\n",
       "      <td>0.870130</td>\n",
       "    </tr>\n",
       "    <tr>\n",
       "      <th>...</th>\n",
       "      <td>...</td>\n",
       "      <td>...</td>\n",
       "      <td>...</td>\n",
       "    </tr>\n",
       "    <tr>\n",
       "      <th>102013</th>\n",
       "      <td>O=C1CC2C3CC=C4CC(O)CCC4(C)C3CCC2(C)C1C(C(=O)C5...</td>\n",
       "      <td>O=C(CCC(C)CO)C(C)C1C(=O)CC2C3CC=C4CC(O)CCC4(C)...</td>\n",
       "      <td>0.821053</td>\n",
       "    </tr>\n",
       "    <tr>\n",
       "      <th>102014</th>\n",
       "      <td>O=C(OC(C)C1(O)CCC2(O)C3(O)CC=C4CC(O)CCC4(C)C3C...</td>\n",
       "      <td>O=C(OC(C)C1(O)CCC2(O)C3(O)CCC4CC(O)CCC4(C)C3CC...</td>\n",
       "      <td>0.852632</td>\n",
       "    </tr>\n",
       "    <tr>\n",
       "      <th>102015</th>\n",
       "      <td>O=C(OC1C(OC(=O)C(C)C)C2(CO)C(O)C(O)C3(C(=CCC4C...</td>\n",
       "      <td>O=C(OC1C(OC(=O)CC(C)C)C2(CO)C(O)CC3(C(=CCC4C5(...</td>\n",
       "      <td>0.812030</td>\n",
       "    </tr>\n",
       "    <tr>\n",
       "      <th>102016</th>\n",
       "      <td>OCC12CCC(C)(C)CC2C3=CC(O)C4C5(C)CCC(O)C(C)(C)C...</td>\n",
       "      <td>OCC1(C)CC(O)C2(C)CCC3(C(=CCC4C5(C)CCC(O)C(C)(C...</td>\n",
       "      <td>0.855670</td>\n",
       "    </tr>\n",
       "    <tr>\n",
       "      <th>102017</th>\n",
       "      <td>OC(CC(C)C1C(O)CC2(C)C3CC(O)C4C(C)(C)C(O)CCC54C...</td>\n",
       "      <td>OCC12C3=CCC4(C)C(C(O)CC4(C)C3C(O)CC2C(C)(C)C(O...</td>\n",
       "      <td>0.811321</td>\n",
       "    </tr>\n",
       "  </tbody>\n",
       "</table>\n",
       "<p>102018 rows × 3 columns</p>\n",
       "</div>"
      ],
      "text/plain": [
       "                                                 aglycon1  \\\n",
       "0                                      O=C(N)CCCCCCC(C)CC   \n",
       "1                                      O=C(N)CCCCCCC(C)CC   \n",
       "2                                      O=C(N)CCCCCCC(C)CC   \n",
       "3                                      O=C(N)CCCCCCC(C)CC   \n",
       "4       O=C(O)C1=COC(O)C2C(=CCC12)COC(=O)C3=CC=C(O)C(O...   \n",
       "...                                                   ...   \n",
       "102013  O=C1CC2C3CC=C4CC(O)CCC4(C)C3CCC2(C)C1C(C(=O)C5...   \n",
       "102014  O=C(OC(C)C1(O)CCC2(O)C3(O)CC=C4CC(O)CCC4(C)C3C...   \n",
       "102015  O=C(OC1C(OC(=O)C(C)C)C2(CO)C(O)C(O)C3(C(=CCC4C...   \n",
       "102016  OCC12CCC(C)(C)CC2C3=CC(O)C4C5(C)CCC(O)C(C)(C)C...   \n",
       "102017  OC(CC(C)C1C(O)CC2(C)C3CC(O)C4C(C)(C)C(O)CCC54C...   \n",
       "\n",
       "                                                 aglycon2  tanimoto_index  \n",
       "0                                        O=C(N)CCCCC(C)CC        0.828571  \n",
       "1                                     O=C(N)CCCCCCCCC(C)C        0.825000  \n",
       "2                                      O=C(N)CCCCCCCC(C)C        0.891892  \n",
       "3                                       O=C(N)CCCCCCC(C)C        0.861111  \n",
       "4       O=C([O-])C1=COC(O)C2C(=CCC12)COC(=O)C3=CC=C(O)...        0.870130  \n",
       "...                                                   ...             ...  \n",
       "102013  O=C(CCC(C)CO)C(C)C1C(=O)CC2C3CC=C4CC(O)CCC4(C)...        0.821053  \n",
       "102014  O=C(OC(C)C1(O)CCC2(O)C3(O)CCC4CC(O)CCC4(C)C3CC...        0.852632  \n",
       "102015  O=C(OC1C(OC(=O)CC(C)C)C2(CO)C(O)CC3(C(=CCC4C5(...        0.812030  \n",
       "102016  OCC1(C)CC(O)C2(C)CCC3(C(=CCC4C5(C)CCC(O)C(C)(C...        0.855670  \n",
       "102017  OCC12C3=CCC4(C)C(C(O)CC4(C)C3C(O)CC2C(C)(C)C(O...        0.811321  \n",
       "\n",
       "[102018 rows x 3 columns]"
      ]
     },
     "execution_count": 81,
     "metadata": {},
     "output_type": "execute_result"
    }
   ],
   "source": [
    "df_comparison_080"
   ]
  },
  {
   "cell_type": "markdown",
   "metadata": {},
   "source": [
    "**merging dataframe and taxonomies**"
   ]
  },
  {
   "cell_type": "code",
   "execution_count": 82,
   "metadata": {},
   "outputs": [],
   "source": [
    "df_aglycon_taxes_1 = pd.DataFrame({\n",
    "    \"aglycon1\": df_Without_Double.deglycosilated_smiles,\n",
    "    \"taxonomy1\": df_Without_Double.taxonomy,\n",
    "})"
   ]
  },
  {
   "cell_type": "code",
   "execution_count": 83,
   "metadata": {},
   "outputs": [],
   "source": [
    "df_aglycon_taxes_2 = pd.DataFrame({\n",
    "    \"aglycon2\": df_Without_Double.deglycosilated_smiles,\n",
    "    \"taxonomy2\": df_Without_Double.taxonomy,\n",
    "})"
   ]
  },
  {
   "cell_type": "markdown",
   "metadata": {},
   "source": [
    "*df_comparison_095*"
   ]
  },
  {
   "cell_type": "code",
   "execution_count": 84,
   "metadata": {},
   "outputs": [],
   "source": [
    "df_comparison_095 = pd.merge(df_comparison_095, df_aglycon_taxes_1, how=\"left\", on=\"aglycon1\")"
   ]
  },
  {
   "cell_type": "code",
   "execution_count": 85,
   "metadata": {},
   "outputs": [],
   "source": [
    "df_comparison_095 = pd.merge(df_comparison_095, df_aglycon_taxes_2, how=\"left\", on=\"aglycon2\")"
   ]
  },
  {
   "cell_type": "code",
   "execution_count": 86,
   "metadata": {},
   "outputs": [
    {
     "data": {
      "text/html": [
       "<div>\n",
       "<style scoped>\n",
       "    .dataframe tbody tr th:only-of-type {\n",
       "        vertical-align: middle;\n",
       "    }\n",
       "\n",
       "    .dataframe tbody tr th {\n",
       "        vertical-align: top;\n",
       "    }\n",
       "\n",
       "    .dataframe thead th {\n",
       "        text-align: right;\n",
       "    }\n",
       "</style>\n",
       "<table border=\"1\" class=\"dataframe\">\n",
       "  <thead>\n",
       "    <tr style=\"text-align: right;\">\n",
       "      <th></th>\n",
       "      <th>aglycon1</th>\n",
       "      <th>aglycon2</th>\n",
       "      <th>tanimoto_index</th>\n",
       "      <th>taxonomy1</th>\n",
       "      <th>taxonomy2</th>\n",
       "    </tr>\n",
       "  </thead>\n",
       "  <tbody>\n",
       "    <tr>\n",
       "      <th>0</th>\n",
       "      <td>O=C1C=C(OC2=CC(O)=C(O)C(O)=C12)C=3C=CC(O)=CC3C...</td>\n",
       "      <td>O=C1C=C(OC2=CC(O)=C(O)C(O)=C12)C=3C=CC(O)=CC3C...</td>\n",
       "      <td>0.972477</td>\n",
       "      <td>{plants}</td>\n",
       "      <td>{plants}</td>\n",
       "    </tr>\n",
       "    <tr>\n",
       "      <th>1</th>\n",
       "      <td>O=C1OC(CC)CCCC(OC2OC(C)C(N(C)C)CC2)C(C(=O)C3=C...</td>\n",
       "      <td>O=C1OC(CC)CCCC(OC2OC(C)C(N(C)C)CC2)C(C(=O)C3=C...</td>\n",
       "      <td>0.956522</td>\n",
       "      <td>{no}</td>\n",
       "      <td>{no}</td>\n",
       "    </tr>\n",
       "    <tr>\n",
       "      <th>2</th>\n",
       "      <td>O=C(OC)C1=COC(O)C(C=C)C1CC2C3=CC(O)=C(OC)C=C3C...</td>\n",
       "      <td>O=C(OC)C1=COC(O)C(C=C)C1CC2C3=CC(OC)=C(O)C=C3C...</td>\n",
       "      <td>1.000000</td>\n",
       "      <td>{no}</td>\n",
       "      <td>{no}</td>\n",
       "    </tr>\n",
       "    <tr>\n",
       "      <th>3</th>\n",
       "      <td>O=C(OC1C(OC(=O)C)C2C(CCC3CC(O)CCC32C)C4(O)CCC(...</td>\n",
       "      <td>O=C(OC1C(OC(=O)C)C2(C)C(C(=O)C)CCC2(O)C3CCC4CC...</td>\n",
       "      <td>1.000000</td>\n",
       "      <td>{no}</td>\n",
       "      <td>{no}</td>\n",
       "    </tr>\n",
       "    <tr>\n",
       "      <th>4</th>\n",
       "      <td>O=C(NC(CO)C(O[Si](C)(C)C)C=CCCCCCCCCCCCCC)CCCC...</td>\n",
       "      <td>O=C(NC(CO)C(O[Si](C)(C)C)C=CCCCCCCCCCCCCC)CCCC...</td>\n",
       "      <td>0.978571</td>\n",
       "      <td>{no}</td>\n",
       "      <td>{no}</td>\n",
       "    </tr>\n",
       "    <tr>\n",
       "      <th>...</th>\n",
       "      <td>...</td>\n",
       "      <td>...</td>\n",
       "      <td>...</td>\n",
       "      <td>...</td>\n",
       "      <td>...</td>\n",
       "    </tr>\n",
       "    <tr>\n",
       "      <th>3353</th>\n",
       "      <td>O=C(CCCCCCC(C)CC=CC(C)CC=CCCC=CCCCCC1OC1CCC(=C...</td>\n",
       "      <td>O=C(CCCCCCC(C)CC=CC(C)CC=CCCC=CCCCCC1OC1CCC(=C...</td>\n",
       "      <td>0.953052</td>\n",
       "      <td>{no}</td>\n",
       "      <td>{no}</td>\n",
       "    </tr>\n",
       "    <tr>\n",
       "      <th>3354</th>\n",
       "      <td>O=C(CCCCCCCCCCCCC(O)C(N)C)CCCCCCCCCC(O)C(N)CO</td>\n",
       "      <td>O=C(CCCCCCCCCCCCCCC(O)C(N)C)CCCCCCCC(O)C(N)CO</td>\n",
       "      <td>1.000000</td>\n",
       "      <td>{no}</td>\n",
       "      <td>{no}</td>\n",
       "    </tr>\n",
       "    <tr>\n",
       "      <th>3355</th>\n",
       "      <td>O=C1OCC2OC(=O)C3=CC(O)=C(O)C(O)=C3C4=C(O)C(O)=...</td>\n",
       "      <td>O=C1OCC2OC(=O)C3=CC(O)=C(O)C(O)=C3C4=C(O)C(O)=...</td>\n",
       "      <td>0.972376</td>\n",
       "      <td>{no}</td>\n",
       "      <td>{no}</td>\n",
       "    </tr>\n",
       "    <tr>\n",
       "      <th>3356</th>\n",
       "      <td>FC1C(O)C(N)CC(N)C1OC2OC(CCC2N)C(NC)C</td>\n",
       "      <td>IC1C(O)C(N)CC(N)C1OC2OC(CCC2N)C(NC)C</td>\n",
       "      <td>1.000000</td>\n",
       "      <td>{no}</td>\n",
       "      <td>{no}</td>\n",
       "    </tr>\n",
       "    <tr>\n",
       "      <th>3357</th>\n",
       "      <td>ClC1=CC=C(O)C=C1</td>\n",
       "      <td>IC1=CC=C(O)C=C1</td>\n",
       "      <td>1.000000</td>\n",
       "      <td>{no}</td>\n",
       "      <td>{no}</td>\n",
       "    </tr>\n",
       "  </tbody>\n",
       "</table>\n",
       "<p>3358 rows × 5 columns</p>\n",
       "</div>"
      ],
      "text/plain": [
       "                                               aglycon1  \\\n",
       "0     O=C1C=C(OC2=CC(O)=C(O)C(O)=C12)C=3C=CC(O)=CC3C...   \n",
       "1     O=C1OC(CC)CCCC(OC2OC(C)C(N(C)C)CC2)C(C(=O)C3=C...   \n",
       "2     O=C(OC)C1=COC(O)C(C=C)C1CC2C3=CC(O)=C(OC)C=C3C...   \n",
       "3     O=C(OC1C(OC(=O)C)C2C(CCC3CC(O)CCC32C)C4(O)CCC(...   \n",
       "4     O=C(NC(CO)C(O[Si](C)(C)C)C=CCCCCCCCCCCCCC)CCCC...   \n",
       "...                                                 ...   \n",
       "3353  O=C(CCCCCCC(C)CC=CC(C)CC=CCCC=CCCCCC1OC1CCC(=C...   \n",
       "3354      O=C(CCCCCCCCCCCCC(O)C(N)C)CCCCCCCCCC(O)C(N)CO   \n",
       "3355  O=C1OCC2OC(=O)C3=CC(O)=C(O)C(O)=C3C4=C(O)C(O)=...   \n",
       "3356               FC1C(O)C(N)CC(N)C1OC2OC(CCC2N)C(NC)C   \n",
       "3357                                   ClC1=CC=C(O)C=C1   \n",
       "\n",
       "                                               aglycon2  tanimoto_index  \\\n",
       "0     O=C1C=C(OC2=CC(O)=C(O)C(O)=C12)C=3C=CC(O)=CC3C...        0.972477   \n",
       "1     O=C1OC(CC)CCCC(OC2OC(C)C(N(C)C)CC2)C(C(=O)C3=C...        0.956522   \n",
       "2     O=C(OC)C1=COC(O)C(C=C)C1CC2C3=CC(OC)=C(O)C=C3C...        1.000000   \n",
       "3     O=C(OC1C(OC(=O)C)C2(C)C(C(=O)C)CCC2(O)C3CCC4CC...        1.000000   \n",
       "4     O=C(NC(CO)C(O[Si](C)(C)C)C=CCCCCCCCCCCCCC)CCCC...        0.978571   \n",
       "...                                                 ...             ...   \n",
       "3353  O=C(CCCCCCC(C)CC=CC(C)CC=CCCC=CCCCCC1OC1CCC(=C...        0.953052   \n",
       "3354      O=C(CCCCCCCCCCCCCCC(O)C(N)C)CCCCCCCC(O)C(N)CO        1.000000   \n",
       "3355  O=C1OCC2OC(=O)C3=CC(O)=C(O)C(O)=C3C4=C(O)C(O)=...        0.972376   \n",
       "3356               IC1C(O)C(N)CC(N)C1OC2OC(CCC2N)C(NC)C        1.000000   \n",
       "3357                                    IC1=CC=C(O)C=C1        1.000000   \n",
       "\n",
       "     taxonomy1 taxonomy2  \n",
       "0     {plants}  {plants}  \n",
       "1         {no}      {no}  \n",
       "2         {no}      {no}  \n",
       "3         {no}      {no}  \n",
       "4         {no}      {no}  \n",
       "...        ...       ...  \n",
       "3353      {no}      {no}  \n",
       "3354      {no}      {no}  \n",
       "3355      {no}      {no}  \n",
       "3356      {no}      {no}  \n",
       "3357      {no}      {no}  \n",
       "\n",
       "[3358 rows x 5 columns]"
      ]
     },
     "execution_count": 86,
     "metadata": {},
     "output_type": "execute_result"
    }
   ],
   "source": [
    "df_comparison_095"
   ]
  },
  {
   "cell_type": "markdown",
   "metadata": {},
   "source": [
    "*change tax-sets to values from 1 to 5*"
   ]
  },
  {
   "cell_type": "code",
   "execution_count": 87,
   "metadata": {},
   "outputs": [],
   "source": [
    "tax1_to_value_095 = df_comparison_095.taxonomy1.replace([{\"no\"},{\"plants\"},{\"bacteria\"},{\"animals\"},{\"fungi\"}],[1,2,3,4,5])"
   ]
  },
  {
   "cell_type": "code",
   "execution_count": 88,
   "metadata": {},
   "outputs": [],
   "source": [
    "tax2_to_value_095 = df_comparison_095.taxonomy2.replace([{\"no\"},{\"plants\"},{\"bacteria\"},{\"animals\"},{\"fungi\"}],[1,2,3,4,5])"
   ]
  },
  {
   "cell_type": "code",
   "execution_count": 89,
   "metadata": {},
   "outputs": [],
   "source": [
    "df_comparison_095[\"tax1_as_value\"] = tax1_to_value_095"
   ]
  },
  {
   "cell_type": "code",
   "execution_count": 90,
   "metadata": {},
   "outputs": [],
   "source": [
    "df_comparison_095[\"tax2_as_value\"] = tax2_to_value_095"
   ]
  },
  {
   "cell_type": "code",
   "execution_count": 91,
   "metadata": {},
   "outputs": [],
   "source": [
    "df_comparison_095.to_csv(\"fingerprint_comparison095.tsv\",sep=\"\\t\")"
   ]
  },
  {
   "cell_type": "code",
   "execution_count": 92,
   "metadata": {},
   "outputs": [],
   "source": [
    "df_comparison_095.to_pickle(\"fingerprint_comparison095.pkl\")"
   ]
  },
  {
   "cell_type": "markdown",
   "metadata": {},
   "source": [
    "*df_comparison_090*"
   ]
  },
  {
   "cell_type": "code",
   "execution_count": 93,
   "metadata": {},
   "outputs": [],
   "source": [
    "df_comparison_090 = pd.merge(df_comparison_090, df_aglycon_taxes_1, how=\"left\", on=\"aglycon1\")"
   ]
  },
  {
   "cell_type": "code",
   "execution_count": 94,
   "metadata": {},
   "outputs": [],
   "source": [
    "df_comparison_090 = pd.merge(df_comparison_090, df_aglycon_taxes_2, how=\"left\", on=\"aglycon2\")"
   ]
  },
  {
   "cell_type": "code",
   "execution_count": 95,
   "metadata": {},
   "outputs": [
    {
     "data": {
      "text/html": [
       "<div>\n",
       "<style scoped>\n",
       "    .dataframe tbody tr th:only-of-type {\n",
       "        vertical-align: middle;\n",
       "    }\n",
       "\n",
       "    .dataframe tbody tr th {\n",
       "        vertical-align: top;\n",
       "    }\n",
       "\n",
       "    .dataframe thead th {\n",
       "        text-align: right;\n",
       "    }\n",
       "</style>\n",
       "<table border=\"1\" class=\"dataframe\">\n",
       "  <thead>\n",
       "    <tr style=\"text-align: right;\">\n",
       "      <th></th>\n",
       "      <th>aglycon1</th>\n",
       "      <th>aglycon2</th>\n",
       "      <th>tanimoto_index</th>\n",
       "      <th>taxonomy1</th>\n",
       "      <th>taxonomy2</th>\n",
       "    </tr>\n",
       "  </thead>\n",
       "  <tbody>\n",
       "    <tr>\n",
       "      <th>0</th>\n",
       "      <td>O=C(CC(O)(C)C1CCC2C3C(=CCC21C)C4(C)CCC(OS(=O)(...</td>\n",
       "      <td>O=C(CC(C)C)CC(O)(C)C1CCC2C3C(=CCC21C)C4(C)CCC(...</td>\n",
       "      <td>0.927083</td>\n",
       "      <td>{no}</td>\n",
       "      <td>{no}</td>\n",
       "    </tr>\n",
       "    <tr>\n",
       "      <th>1</th>\n",
       "      <td>O=C(CC(O)(C)C1CCC2C3C(=CCC21C)C4(C)CCC(OS(=O)(...</td>\n",
       "      <td>O=C(CC(O)(C)C1CCC2C3C(=CCC21C)C4(C)CCC(OS(=O)(...</td>\n",
       "      <td>0.927835</td>\n",
       "      <td>{no}</td>\n",
       "      <td>{no}</td>\n",
       "    </tr>\n",
       "    <tr>\n",
       "      <th>2</th>\n",
       "      <td>O=C(CC(O)(C)C1CCC2C3C(=CCC21C)C4(C)CCC(OS(=O)(...</td>\n",
       "      <td>O=C(C=C(C)C)CC(O)(C)C1CCC2C3C(=CCC21C)C4(C)CCC...</td>\n",
       "      <td>0.907216</td>\n",
       "      <td>{no}</td>\n",
       "      <td>{no}</td>\n",
       "    </tr>\n",
       "    <tr>\n",
       "      <th>3</th>\n",
       "      <td>O=C1C=C(OC2=CC(O)=C(O)C(O)=C12)C=3C=CC(O)=CC3C...</td>\n",
       "      <td>O=C1C=C(OC2=CC(O)=C(O)C(O)=C12)C=3C=CC(O)=CC3C...</td>\n",
       "      <td>0.972477</td>\n",
       "      <td>{plants}</td>\n",
       "      <td>{plants}</td>\n",
       "    </tr>\n",
       "    <tr>\n",
       "      <th>4</th>\n",
       "      <td>O=C(C=CC1=CC=C(O)C=C1)C=2C(O)=CC(O)=CC2O</td>\n",
       "      <td>O=C(C=CC1=CC=C(O)C=C1O)C2=CC=C(O)C=C2O</td>\n",
       "      <td>0.929825</td>\n",
       "      <td>{plants}</td>\n",
       "      <td>{no}</td>\n",
       "    </tr>\n",
       "    <tr>\n",
       "      <th>...</th>\n",
       "      <td>...</td>\n",
       "      <td>...</td>\n",
       "      <td>...</td>\n",
       "      <td>...</td>\n",
       "      <td>...</td>\n",
       "    </tr>\n",
       "    <tr>\n",
       "      <th>17000</th>\n",
       "      <td>O=C(OCC(OC(=O)CCCCCC=CCCCCCCCCC)COP(=O)(O)OC1C...</td>\n",
       "      <td>O=C(OCC(OC(=O)CCCCCCCCCCCCC)COP(=O)(O)OC1C(O)C...</td>\n",
       "      <td>0.932099</td>\n",
       "      <td>{no}</td>\n",
       "      <td>{no}</td>\n",
       "    </tr>\n",
       "    <tr>\n",
       "      <th>17001</th>\n",
       "      <td>O=C(OCC(OC(=O)CCCCCC=CCCCCCCCCC)COP(=O)(O)OC1C...</td>\n",
       "      <td>O=C(OCC(OC(=O)CCCCCCCCCCCCCCCCCC)COP(=O)(O)OC1...</td>\n",
       "      <td>0.928994</td>\n",
       "      <td>{no}</td>\n",
       "      <td>{no}</td>\n",
       "    </tr>\n",
       "    <tr>\n",
       "      <th>17002</th>\n",
       "      <td>O=C(OCC(OC(=O)CCCCCCCCCCCCC)COP(=O)(O)OC1C(O)C...</td>\n",
       "      <td>O=C(OCC(OC(=O)CCCCCCCCCCCCCCCCCC)COP(=O)(O)OC1...</td>\n",
       "      <td>0.912281</td>\n",
       "      <td>{no}</td>\n",
       "      <td>{no}</td>\n",
       "    </tr>\n",
       "    <tr>\n",
       "      <th>17003</th>\n",
       "      <td>O=C(OCC(OC(=O)CCCCCCCCCCCCCCCCCC)COP(=O)(O)OC1...</td>\n",
       "      <td>O=C(OCC(OC(=O)CCCCCCCCCCCCCCCCCC)COP(=O)(O)OC1...</td>\n",
       "      <td>0.920904</td>\n",
       "      <td>{no}</td>\n",
       "      <td>{no}</td>\n",
       "    </tr>\n",
       "    <tr>\n",
       "      <th>17004</th>\n",
       "      <td>O=CC=1C(=CC=CC1C(N)N)CC2=C(O)C=C3C(=O)C4=C(C(=...</td>\n",
       "      <td>O=CC=1C(=CC=CC1CC2=C(O)C=C3C(=O)C4=C(C(=O)C3=C...</td>\n",
       "      <td>0.909774</td>\n",
       "      <td>{no}</td>\n",
       "      <td>{no}</td>\n",
       "    </tr>\n",
       "  </tbody>\n",
       "</table>\n",
       "<p>17005 rows × 5 columns</p>\n",
       "</div>"
      ],
      "text/plain": [
       "                                                aglycon1  \\\n",
       "0      O=C(CC(O)(C)C1CCC2C3C(=CCC21C)C4(C)CCC(OS(=O)(...   \n",
       "1      O=C(CC(O)(C)C1CCC2C3C(=CCC21C)C4(C)CCC(OS(=O)(...   \n",
       "2      O=C(CC(O)(C)C1CCC2C3C(=CCC21C)C4(C)CCC(OS(=O)(...   \n",
       "3      O=C1C=C(OC2=CC(O)=C(O)C(O)=C12)C=3C=CC(O)=CC3C...   \n",
       "4               O=C(C=CC1=CC=C(O)C=C1)C=2C(O)=CC(O)=CC2O   \n",
       "...                                                  ...   \n",
       "17000  O=C(OCC(OC(=O)CCCCCC=CCCCCCCCCC)COP(=O)(O)OC1C...   \n",
       "17001  O=C(OCC(OC(=O)CCCCCC=CCCCCCCCCC)COP(=O)(O)OC1C...   \n",
       "17002  O=C(OCC(OC(=O)CCCCCCCCCCCCC)COP(=O)(O)OC1C(O)C...   \n",
       "17003  O=C(OCC(OC(=O)CCCCCCCCCCCCCCCCCC)COP(=O)(O)OC1...   \n",
       "17004  O=CC=1C(=CC=CC1C(N)N)CC2=C(O)C=C3C(=O)C4=C(C(=...   \n",
       "\n",
       "                                                aglycon2  tanimoto_index  \\\n",
       "0      O=C(CC(C)C)CC(O)(C)C1CCC2C3C(=CCC21C)C4(C)CCC(...        0.927083   \n",
       "1      O=C(CC(O)(C)C1CCC2C3C(=CCC21C)C4(C)CCC(OS(=O)(...        0.927835   \n",
       "2      O=C(C=C(C)C)CC(O)(C)C1CCC2C3C(=CCC21C)C4(C)CCC...        0.907216   \n",
       "3      O=C1C=C(OC2=CC(O)=C(O)C(O)=C12)C=3C=CC(O)=CC3C...        0.972477   \n",
       "4                 O=C(C=CC1=CC=C(O)C=C1O)C2=CC=C(O)C=C2O        0.929825   \n",
       "...                                                  ...             ...   \n",
       "17000  O=C(OCC(OC(=O)CCCCCCCCCCCCC)COP(=O)(O)OC1C(O)C...        0.932099   \n",
       "17001  O=C(OCC(OC(=O)CCCCCCCCCCCCCCCCCC)COP(=O)(O)OC1...        0.928994   \n",
       "17002  O=C(OCC(OC(=O)CCCCCCCCCCCCCCCCCC)COP(=O)(O)OC1...        0.912281   \n",
       "17003  O=C(OCC(OC(=O)CCCCCCCCCCCCCCCCCC)COP(=O)(O)OC1...        0.920904   \n",
       "17004  O=CC=1C(=CC=CC1CC2=C(O)C=C3C(=O)C4=C(C(=O)C3=C...        0.909774   \n",
       "\n",
       "      taxonomy1 taxonomy2  \n",
       "0          {no}      {no}  \n",
       "1          {no}      {no}  \n",
       "2          {no}      {no}  \n",
       "3      {plants}  {plants}  \n",
       "4      {plants}      {no}  \n",
       "...         ...       ...  \n",
       "17000      {no}      {no}  \n",
       "17001      {no}      {no}  \n",
       "17002      {no}      {no}  \n",
       "17003      {no}      {no}  \n",
       "17004      {no}      {no}  \n",
       "\n",
       "[17005 rows x 5 columns]"
      ]
     },
     "execution_count": 95,
     "metadata": {},
     "output_type": "execute_result"
    }
   ],
   "source": [
    "df_comparison_090"
   ]
  },
  {
   "cell_type": "markdown",
   "metadata": {},
   "source": [
    "*change tax-sets to values from 1 to 5*"
   ]
  },
  {
   "cell_type": "code",
   "execution_count": 96,
   "metadata": {},
   "outputs": [],
   "source": [
    "tax1_to_value_090 = df_comparison_090.taxonomy1.replace([{\"no\"},{\"plants\"},{\"bacteria\"},{\"animals\"},{\"fungi\"}],[1,2,3,4,5])"
   ]
  },
  {
   "cell_type": "code",
   "execution_count": 97,
   "metadata": {},
   "outputs": [],
   "source": [
    "tax2_to_value_090 = df_comparison_090.taxonomy2.replace([{\"no\"},{\"plants\"},{\"bacteria\"},{\"animals\"},{\"fungi\"}],[1,2,3,4,5])"
   ]
  },
  {
   "cell_type": "code",
   "execution_count": 98,
   "metadata": {},
   "outputs": [],
   "source": [
    "df_comparison_090[\"tax1_as_value\"] = tax1_to_value_090"
   ]
  },
  {
   "cell_type": "code",
   "execution_count": 99,
   "metadata": {},
   "outputs": [],
   "source": [
    "df_comparison_090[\"tax2_as_value\"] = tax2_to_value_090"
   ]
  },
  {
   "cell_type": "code",
   "execution_count": 100,
   "metadata": {},
   "outputs": [],
   "source": [
    "df_comparison_090.to_csv(\"fingerprint_comparison090.tsv\",sep=\"\\t\")"
   ]
  },
  {
   "cell_type": "code",
   "execution_count": 101,
   "metadata": {},
   "outputs": [],
   "source": [
    "df_comparison_090.to_pickle(\"fingerprint_comparison090.pkl\")"
   ]
  },
  {
   "cell_type": "markdown",
   "metadata": {},
   "source": [
    "*df_comparison_080*"
   ]
  },
  {
   "cell_type": "code",
   "execution_count": 102,
   "metadata": {},
   "outputs": [],
   "source": [
    "df_comparison_080 = pd.merge(df_comparison_080, df_aglycon_taxes_1, how=\"left\", on=\"aglycon1\")"
   ]
  },
  {
   "cell_type": "code",
   "execution_count": 103,
   "metadata": {},
   "outputs": [],
   "source": [
    "df_comparison_080 = pd.merge(df_comparison_080, df_aglycon_taxes_2, how=\"left\", on=\"aglycon2\")"
   ]
  },
  {
   "cell_type": "markdown",
   "metadata": {},
   "source": [
    "*change tax-sets to values from 1 to 5*"
   ]
  },
  {
   "cell_type": "code",
   "execution_count": 104,
   "metadata": {},
   "outputs": [],
   "source": [
    "tax1_to_value_080 = df_comparison_080.taxonomy1.replace([{\"no\"},{\"plants\"},{\"bacteria\"},{\"animals\"},{\"fungi\"}],[1,2,3,4,5])"
   ]
  },
  {
   "cell_type": "code",
   "execution_count": 105,
   "metadata": {},
   "outputs": [],
   "source": [
    "tax2_to_value_080 = df_comparison_080.taxonomy2.replace([{\"no\"},{\"plants\"},{\"bacteria\"},{\"animals\"},{\"fungi\"}],[1,2,3,4,5])"
   ]
  },
  {
   "cell_type": "code",
   "execution_count": 106,
   "metadata": {},
   "outputs": [],
   "source": [
    "df_comparison_080[\"tax1_as_value\"] = tax1_to_value_080"
   ]
  },
  {
   "cell_type": "code",
   "execution_count": 107,
   "metadata": {},
   "outputs": [],
   "source": [
    "df_comparison_080[\"tax2_as_value\"] = tax2_to_value_080"
   ]
  },
  {
   "cell_type": "code",
   "execution_count": 108,
   "metadata": {},
   "outputs": [],
   "source": [
    "df_comparison_080.to_csv(\"fingerprint_comparison080.tsv\",sep=\"\\t\")"
   ]
  },
  {
   "cell_type": "code",
   "execution_count": 109,
   "metadata": {},
   "outputs": [],
   "source": [
    "df_comparison_080.to_pickle(\"fingerprint_comparison080.pkl\")"
   ]
  },
  {
   "cell_type": "code",
   "execution_count": null,
   "metadata": {},
   "outputs": [],
   "source": []
  }
 ],
 "metadata": {
  "kernelspec": {
   "display_name": "Python 3",
   "language": "python",
   "name": "python3"
  },
  "language_info": {
   "codemirror_mode": {
    "name": "ipython",
    "version": 3
   },
   "file_extension": ".py",
   "mimetype": "text/x-python",
   "name": "python",
   "nbconvert_exporter": "python",
   "pygments_lexer": "ipython3",
   "version": "3.7.9"
  }
 },
 "nbformat": 4,
 "nbformat_minor": 4
}
