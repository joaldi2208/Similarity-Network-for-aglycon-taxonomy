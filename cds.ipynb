{
 "cells": [
  {
   "cell_type": "code",
   "execution_count": 1,
   "metadata": {},
   "outputs": [],
   "source": [
    "from pymongo import MongoClient\n",
    "from rdkit import Chem\n",
    "from rdkit.Chem import Draw\n",
    "\n",
    "import pandas as pd\n",
    "\n",
    "import matplotlib.pyplot as plt\n",
    "import venn\n",
    "%matplotlib inline\n",
    "\n",
    "from math import *\n",
    "import os\n",
    "from rdkit.Chem import AllChem\n",
    "from rdkit import DataStructs\n",
    "from rdkit.Chem import Descriptors\n",
    "\n",
    "import itertools\n",
    "from collections import Counter"
   ]
  },
  {
   "cell_type": "markdown",
   "metadata": {},
   "source": [
    "**Complete Databank**"
   ]
  },
  {
   "cell_type": "code",
   "execution_count": 2,
   "metadata": {},
   "outputs": [],
   "source": [
    "client = MongoClient(\"localhost:27017\")\n",
    "db_complete = client['COCONUT2020-10']"
   ]
  },
  {
   "cell_type": "code",
   "execution_count": 3,
   "metadata": {
    "scrolled": true
   },
   "outputs": [],
   "source": [
    "collection = db_complete.uniqueNaturalProduct\n",
    "db_complete_only_ring_sugars = pd.DataFrame(list(collection.find({\"contains_ring_sugars\": True})))"
   ]
  },
  {
   "cell_type": "code",
   "execution_count": 4,
   "metadata": {},
   "outputs": [],
   "source": [
    "df_complete_tax = pd.DataFrame({\"taxonomy\": db_complete_only_ring_sugars[\"textTaxa\"],\n",
    "                       \"smiles\": db_complete_only_ring_sugars[\"smiles\"],\n",
    "                       \"coconut_id\": db_complete_only_ring_sugars[\"coconut_id\"],\n",
    "                       \"no_sugar_smiles\": db_complete_only_ring_sugars[\"sugar_free_smiles\"]\n",
    "                      })"
   ]
  },
  {
   "cell_type": "code",
   "execution_count": 5,
   "metadata": {
    "scrolled": false
   },
   "outputs": [],
   "source": [
    "#display(df_complete_tax)"
   ]
  },
  {
   "cell_type": "code",
   "execution_count": 6,
   "metadata": {},
   "outputs": [],
   "source": [
    "complete_names = []\n",
    "indexes = []\n",
    "for i in range(len(df_complete_tax.taxonomy)):\n",
    "    # some entries are empty lists\n",
    "    # doubles\n",
    "    if df_complete_tax.taxonomy[i] != [] and (\"plants\" in df_complete_tax.taxonomy[i] or \"bacteria\" in df_complete_tax.taxonomy[i] or \"marine\" in df_complete_tax.taxonomy[i] or \"animals\" in df_complete_tax.taxonomy[i] or \"fungi\" in df_complete_tax.taxonomy[i]):\n",
    "        indexes.append(i)\n",
    "        complete_names.append(df_complete_tax.taxonomy[i])\n",
    "        \n",
    "        \n",
    "    "
   ]
  },
  {
   "cell_type": "code",
   "execution_count": 7,
   "metadata": {},
   "outputs": [],
   "source": [
    "df_five_tax = df_complete_tax.loc[indexes[:]]"
   ]
  },
  {
   "cell_type": "code",
   "execution_count": 8,
   "metadata": {},
   "outputs": [],
   "source": [
    "#df_five_tax"
   ]
  },
  {
   "cell_type": "code",
   "execution_count": 9,
   "metadata": {},
   "outputs": [],
   "source": [
    "df_tax_id = pd.DataFrame({\"taxonomy\": df_five_tax.taxonomy,\n",
    "                                   \"coconut_id\": df_five_tax.coconut_id})"
   ]
  },
  {
   "cell_type": "code",
   "execution_count": 10,
   "metadata": {},
   "outputs": [],
   "source": [
    "taxonomies = [\"plants\",\"bacteria\",\"fungi\",\"marine\",\"animals\"]\n",
    "biology_names = []\n",
    "for row in df_tax_id.taxonomy:\n",
    "    for name in row:\n",
    "        if name not in taxonomies:\n",
    "            biology_names.append(name)"
   ]
  },
  {
   "cell_type": "code",
   "execution_count": 11,
   "metadata": {},
   "outputs": [],
   "source": [
    "for biology_name in biology_names:\n",
    "    for row in df_tax_id.taxonomy:\n",
    "        if biology_name in row:\n",
    "            row.remove(biology_name)\n",
    "            \n",
    "            "
   ]
  },
  {
   "cell_type": "code",
   "execution_count": 12,
   "metadata": {},
   "outputs": [],
   "source": [
    "taxonomy_Double = []\n",
    "taxonomy_Triple = []\n",
    "taxonomy_single_entry = []\n",
    "for tax_list in df_tax_id.taxonomy:\n",
    "    if len(tax_list) == 1:\n",
    "        taxonomy_single_entry.append(tax_list[0])\n",
    "    elif len(tax_list) == 2: \n",
    "        taxonomy_single_entry.append('double')\n",
    "        # save original annotation\n",
    "        taxonomyDouble1 = []\n",
    "        for tax in tax_list:\n",
    "            taxonomyDouble1.append(tax)\n",
    "        taxonomy_Double.append(taxonomyDouble1)\n",
    "    elif len(tax_list) == 3:\n",
    "        taxonomy_single_entry.append('triple')\n",
    "        # save original annotation\n",
    "        taxonomyTriple1 = []\n",
    "        for tax in tax_list:\n",
    "            taxonomyTriple1.append(tax)\n",
    "        taxonomy_Triple.append(taxonomyTriple1)"
   ]
  },
  {
   "cell_type": "code",
   "execution_count": 13,
   "metadata": {},
   "outputs": [],
   "source": [
    "df_tax_id_fromCompleteDatabank = pd.DataFrame({\"taxonomy\": taxonomy_single_entry,\n",
    "                     \"coconut_id\": df_five_tax.coconut_id})"
   ]
  },
  {
   "cell_type": "markdown",
   "metadata": {},
   "source": [
    "**Sweetcoconut Databank**"
   ]
  },
  {
   "cell_type": "code",
   "execution_count": 14,
   "metadata": {},
   "outputs": [],
   "source": [
    "client2 = MongoClient(\"localhost:27017\")\n",
    "db_s = client2[\"sweetcoconut\"]\n",
    "collection2 = db_s.sweetNaturalProduct\n",
    "sweetnp = pd.DataFrame(list(collection2.find({\"contains_sugar\": True})))"
   ]
  },
  {
   "cell_type": "code",
   "execution_count": 15,
   "metadata": {},
   "outputs": [],
   "source": [
    "sweetnp_with_tax = pd.merge(sweetnp, df_tax_id_fromCompleteDatabank, how=\"left\", on=\"coconut_id\")"
   ]
  },
  {
   "cell_type": "code",
   "execution_count": 16,
   "metadata": {},
   "outputs": [],
   "source": [
    "df_cutout_sweetnp_with_tax = pd.DataFrame({\"coconut_id\": sweetnp_with_tax.coconut_id,\n",
    "                             \"taxonomy\": sweetnp_with_tax.taxonomy,\n",
    "                             \"all_deglycosilated_smiles\": sweetnp_with_tax.all_deglycosilated_smiles\n",
    "})"
   ]
  },
  {
   "cell_type": "code",
   "execution_count": 17,
   "metadata": {},
   "outputs": [],
   "source": [
    "df_cutout_no_nan = df_cutout_sweetnp_with_tax.fillna('no')"
   ]
  },
  {
   "cell_type": "code",
   "execution_count": 18,
   "metadata": {},
   "outputs": [],
   "source": [
    "df_cutout_explode = df_cutout_no_nan.explode(\"all_deglycosilated_smiles\",ignore_index=True)"
   ]
  },
  {
   "cell_type": "code",
   "execution_count": 19,
   "metadata": {
    "scrolled": true
   },
   "outputs": [],
   "source": [
    "#display(df_cutout_explode)"
   ]
  },
  {
   "cell_type": "code",
   "execution_count": 20,
   "metadata": {},
   "outputs": [],
   "source": [
    "unique_deglycosilated_smiles = set(df_cutout_explode[\"all_deglycosilated_smiles\"])"
   ]
  },
  {
   "cell_type": "code",
   "execution_count": 21,
   "metadata": {},
   "outputs": [
    {
     "data": {
      "text/plain": [
       "''"
      ]
     },
     "execution_count": 21,
     "metadata": {},
     "output_type": "execute_result"
    }
   ],
   "source": [
    "unique_deglycosilated_smiles.pop()"
   ]
  },
  {
   "cell_type": "code",
   "execution_count": 22,
   "metadata": {},
   "outputs": [],
   "source": [
    "df_NP = pd.DataFrame(unique_deglycosilated_smiles, columns=[\"deglycosilated_smiles\"])"
   ]
  },
  {
   "cell_type": "code",
   "execution_count": 23,
   "metadata": {},
   "outputs": [],
   "source": [
    "df_NP[\"coconut_id\"] = \"\"\n",
    "df_NP[\"taxonomy\"] = \"\""
   ]
  },
  {
   "cell_type": "code",
   "execution_count": 24,
   "metadata": {},
   "outputs": [],
   "source": [
    "index = 0\n",
    "for mol in df_NP.deglycosilated_smiles:\n",
    "    all_rows = df_cutout_explode[df_cutout_explode[\"all_deglycosilated_smiles\"]==mol]\n",
    "    df_NP.coconut_id[index] = (all_rows.coconut_id.values)\n",
    "    df_NP.taxonomy[index] = (all_rows.taxonomy.values)\n",
    "    index += 1"
   ]
  },
  {
   "cell_type": "code",
   "execution_count": 25,
   "metadata": {
    "scrolled": true
   },
   "outputs": [],
   "source": [
    "#display(df_NP)"
   ]
  },
  {
   "cell_type": "code",
   "execution_count": 26,
   "metadata": {},
   "outputs": [],
   "source": [
    "index = 0\n",
    "for tax_list in df_NP.taxonomy:\n",
    "    df_NP.taxonomy[index] = set(tax_list)\n",
    "    if len(df_NP.taxonomy[index]) >= 2:\n",
    "        if 'no' in df_NP.taxonomy[index]:\n",
    "            df_NP.taxonomy[index].remove('no')\n",
    "    index += 1"
   ]
  },
  {
   "cell_type": "code",
   "execution_count": 27,
   "metadata": {
    "scrolled": true
   },
   "outputs": [],
   "source": [
    "#display(df_NP)"
   ]
  },
  {
   "cell_type": "markdown",
   "metadata": {},
   "source": [
    "**Counting**"
   ]
  },
  {
   "cell_type": "code",
   "execution_count": 28,
   "metadata": {},
   "outputs": [],
   "source": [
    "cnt = Counter()\n",
    "for tax_list in df_NP.taxonomy:\n",
    "    for tax in list(tax_list):\n",
    "        if tax != 'no':\n",
    "            cnt[tax] += 1"
   ]
  },
  {
   "cell_type": "code",
   "execution_count": 29,
   "metadata": {
    "scrolled": true
   },
   "outputs": [
    {
     "data": {
      "text/plain": [
       "Counter({'plants': 1708,\n",
       "         'bacteria': 486,\n",
       "         'fungi': 105,\n",
       "         'double': 66,\n",
       "         'marine': 125,\n",
       "         'animals': 32,\n",
       "         'triple': 5})"
      ]
     },
     "execution_count": 29,
     "metadata": {},
     "output_type": "execute_result"
    }
   ],
   "source": [
    "cnt"
   ]
  },
  {
   "cell_type": "code",
   "execution_count": 30,
   "metadata": {},
   "outputs": [
    {
     "data": {
      "text/plain": [
       "Text(0, 0.5, 'number of molecules')"
      ]
     },
     "execution_count": 30,
     "metadata": {},
     "output_type": "execute_result"
    },
    {
     "data": {
      "image/png": "[encoded data removed]",
      "text/plain": [
       "<Figure size 432x288 with 1 Axes>"
      ]
     },
     "metadata": {
      "needs_background": "light"
     },
     "output_type": "display_data"
    }
   ],
   "source": [
    "plt.bar(cnt.keys(),cnt.values())\n",
    "plt.xlabel('taxonomic provenance')\n",
    "plt.ylabel('number of molecules')"
   ]
  },
  {
   "cell_type": "markdown",
   "metadata": {},
   "source": [
    "**Venn-Diagram: with marine**"
   ]
  },
  {
   "cell_type": "code",
   "execution_count": 31,
   "metadata": {
    "scrolled": true
   },
   "outputs": [],
   "source": [
    "taxonomy_Single = [list(tax) for tax in df_NP.taxonomy if 'double' not in tax and 'triple' not in tax]"
   ]
  },
  {
   "cell_type": "code",
   "execution_count": 32,
   "metadata": {},
   "outputs": [],
   "source": [
    "taxonomy_All = taxonomy_Single + taxonomy_Double + taxonomy_Triple"
   ]
  },
  {
   "cell_type": "code",
   "execution_count": 33,
   "metadata": {},
   "outputs": [],
   "source": [
    "plants = set()\n",
    "bacteria = set()\n",
    "animals = set()\n",
    "marine = set()\n",
    "fungi = set()"
   ]
  },
  {
   "cell_type": "code",
   "execution_count": 34,
   "metadata": {},
   "outputs": [],
   "source": [
    "for tax_list in taxonomy_All:\n",
    "    if \"plants\" in tax_list:\n",
    "        for tax in tax_list:\n",
    "            plants.add(tax.index)\n",
    "    if \"bacteria\" in tax_list:\n",
    "        for tax in tax_list:\n",
    "            bacteria.add(tax.index)\n",
    "    if \"animals\" in tax_list:\n",
    "        for tax in tax_list:\n",
    "            animals.add(tax.index)\n",
    "    if \"marine\" in tax_list:\n",
    "        for tax in tax_list:\n",
    "            marine.add(tax.index)\n",
    "    if \"fungi\" in tax_list:\n",
    "        for tax in tax_list:\n",
    "            fungi.add(tax.index)"
   ]
  },
  {
   "cell_type": "code",
   "execution_count": 35,
   "metadata": {
    "scrolled": true
   },
   "outputs": [
    {
     "name": "stderr",
     "output_type": "stream",
     "text": [
      "/Users/jonas/opt/anaconda3/envs/my-rdkit-env/lib/python3.7/site-packages/venn/_backwards_compatibility.py:16: UserWarning: `get_labels()` is retained for backwards compatibility; use `generate_petal_labels()` or the higher level `venn()` instead\n",
      "  \"`get_labels()` is retained for backwards compatibility; \" +\n",
      "/Users/jonas/opt/anaconda3/envs/my-rdkit-env/lib/python3.7/site-packages/venn/_backwards_compatibility.py:32: UserWarning: `venn5()` is retained for backwards compatibility; use `venn()` instead\n",
      "  \"use `venn()` instead\"\n"
     ]
    },
    {
     "data": {
      "image/png": "[encoded data removed]",
      "text/plain": [
       "<Figure size 648x648 with 1 Axes>"
      ]
     },
     "metadata": {},
     "output_type": "display_data"
    }
   ],
   "source": [
    "labels = venn.get_labels([plants,bacteria,marine,animals,fungi])\n",
    "fig, ax = venn.venn5(labels,names=['plants','bacteria','marine','animals','fungi'])"
   ]
  },
  {
   "cell_type": "markdown",
   "metadata": {},
   "source": [
    "**remove marine entry and create new venn-diagram**"
   ]
  },
  {
   "cell_type": "code",
   "execution_count": 36,
   "metadata": {},
   "outputs": [],
   "source": [
    "counter = 0\n",
    "for tax_set in df_NP.taxonomy:\n",
    "    if len(tax_set) > 1 and \"marine\" in tax_set:\n",
    "        tax_set.remove(\"marine\")\n",
    "        df_NP.taxonomy[counter] = tax_set\n",
    "    elif len(tax_set) == 1 and \"marine\" in tax_set:\n",
    "        df_NP.taxonomy[counter] = {\"no\"}\n",
    "    counter += 1"
   ]
  },
  {
   "cell_type": "code",
   "execution_count": 37,
   "metadata": {},
   "outputs": [],
   "source": [
    "taxonomy_Single = [list(tax) for tax in df_NP.taxonomy if 'double' not in tax and 'triple' not in tax]"
   ]
  },
  {
   "cell_type": "code",
   "execution_count": 38,
   "metadata": {},
   "outputs": [],
   "source": [
    "taxonomy_All = taxonomy_Single + taxonomy_Double + taxonomy_Triple"
   ]
  },
  {
   "cell_type": "code",
   "execution_count": 39,
   "metadata": {},
   "outputs": [],
   "source": [
    "plants = set()\n",
    "bacteria = set()\n",
    "animals = set()\n",
    "fungi = set()"
   ]
  },
  {
   "cell_type": "code",
   "execution_count": 40,
   "metadata": {},
   "outputs": [],
   "source": [
    "for tax_list in taxonomy_All:\n",
    "    if \"plants\" in tax_list:\n",
    "        for tax in tax_list:\n",
    "            plants.add(tax.index)\n",
    "    if \"bacteria\" in tax_list:\n",
    "        for tax in tax_list:\n",
    "            bacteria.add(tax.index)\n",
    "    if \"animals\" in tax_list:\n",
    "        for tax in tax_list:\n",
    "            animals.add(tax.index)\n",
    "    if \"fungi\" in tax_list:\n",
    "        for tax in tax_list:\n",
    "            fungi.add(tax.index)"
   ]
  },
  {
   "cell_type": "code",
   "execution_count": 41,
   "metadata": {},
   "outputs": [
    {
     "name": "stderr",
     "output_type": "stream",
     "text": [
      "/Users/jonas/opt/anaconda3/envs/my-rdkit-env/lib/python3.7/site-packages/venn/_backwards_compatibility.py:32: UserWarning: `venn4()` is retained for backwards compatibility; use `venn()` instead\n",
      "  \"use `venn()` instead\"\n"
     ]
    },
    {
     "data": {
      "image/png": "[encoded data removed]",
      "text/plain": [
       "<Figure size 648x648 with 1 Axes>"
      ]
     },
     "metadata": {},
     "output_type": "display_data"
    }
   ],
   "source": [
    "labels = venn.get_labels([plants,bacteria,animals,fungi])\n",
    "fig, ax = venn.venn4(labels,names=['plants','bacteria','animals','fungi'])"
   ]
  },
  {
   "cell_type": "markdown",
   "metadata": {},
   "source": [
    "**seperate aglycons with at least two different entries in taxonomy**\n"
   ]
  },
  {
   "cell_type": "code",
   "execution_count": 42,
   "metadata": {
    "scrolled": true
   },
   "outputs": [],
   "source": [
    "index_Unique_Tax = [ind for ind, tax_list in enumerate(df_NP.taxonomy) if len(tax_list) == 1]"
   ]
  },
  {
   "cell_type": "code",
   "execution_count": 43,
   "metadata": {},
   "outputs": [],
   "source": [
    "df_Without_Double = df_NP.iloc[index_Unique_Tax[:]]"
   ]
  },
  {
   "cell_type": "code",
   "execution_count": 44,
   "metadata": {},
   "outputs": [],
   "source": [
    "#df_Without_Double"
   ]
  },
  {
   "cell_type": "markdown",
   "metadata": {},
   "source": [
    "**check for 'double' or 'triple' entries in taxonomy**"
   ]
  },
  {
   "cell_type": "code",
   "execution_count": 45,
   "metadata": {},
   "outputs": [],
   "source": [
    "index_double_or_triple = [ind for ind, tax_list in enumerate(df_Without_Double.taxonomy) if 'double' not in tax_list or 'triple' not in tax_list]"
   ]
  },
  {
   "cell_type": "code",
   "execution_count": 46,
   "metadata": {},
   "outputs": [],
   "source": [
    "df_Without_Double_or_Triple = df_Without_Double.iloc[index_double_or_triple[:]]"
   ]
  },
  {
   "cell_type": "code",
   "execution_count": 47,
   "metadata": {},
   "outputs": [],
   "source": [
    "#df_Without_Double_or_Triple"
   ]
  },
  {
   "cell_type": "markdown",
   "metadata": {},
   "source": [
    "**Fingerprints**"
   ]
  },
  {
   "cell_type": "code",
   "execution_count": 48,
   "metadata": {
    "scrolled": true
   },
   "outputs": [
    {
     "name": "stderr",
     "output_type": "stream",
     "text": [
      "RDKit ERROR: [09:38:36] Explicit valence for atom # 10 O, 3, is greater than permitted\n",
      "RDKit ERROR: [09:38:36] Explicit valence for atom # 4 O, 3, is greater than permitted\n",
      "RDKit ERROR: [09:38:36] Explicit valence for atom # 10 O, 3, is greater than permitted\n",
      "RDKit ERROR: [09:38:36] Explicit valence for atom # 4 O, 3, is greater than permitted\n",
      "RDKit ERROR: [09:38:36] Explicit valence for atom # 2 O, 3, is greater than permitted\n",
      "RDKit ERROR: [09:38:36] Explicit valence for atom # 12 C, 5, is greater than permitted\n",
      "RDKit ERROR: [09:38:36] Explicit valence for atom # 10 O, 3, is greater than permitted\n",
      "RDKit ERROR: [09:38:36] Explicit valence for atom # 10 O, 3, is greater than permitted\n",
      "RDKit ERROR: [09:38:36] Explicit valence for atom # 10 O, 3, is greater than permitted\n",
      "RDKit ERROR: [09:38:37] Explicit valence for atom # 10 O, 3, is greater than permitted\n",
      "RDKit ERROR: [09:38:37] Explicit valence for atom # 6 N, 4, is greater than permitted\n",
      "RDKit ERROR: [09:38:37] Explicit valence for atom # 4 O, 3, is greater than permitted\n",
      "RDKit ERROR: [09:38:37] Explicit valence for atom # 25 N, 4, is greater than permitted\n",
      "RDKit ERROR: [09:38:37] Explicit valence for atom # 6 O, 3, is greater than permitted\n",
      "RDKit ERROR: [09:38:37] Explicit valence for atom # 1 C, 5, is greater than permitted\n",
      "RDKit ERROR: [09:38:37] Explicit valence for atom # 3 O, 3, is greater than permitted\n",
      "RDKit ERROR: [09:38:37] Explicit valence for atom # 8 N, 4, is greater than permitted\n",
      "RDKit ERROR: [09:38:37] Explicit valence for atom # 5 N, 4, is greater than permitted\n",
      "RDKit ERROR: [09:38:37] Explicit valence for atom # 22 N, 4, is greater than permitted\n",
      "RDKit ERROR: [09:38:37] Explicit valence for atom # 8 N, 4, is greater than permitted\n",
      "RDKit ERROR: [09:38:37] Explicit valence for atom # 62 N, 4, is greater than permitted\n",
      "RDKit ERROR: [09:38:37] Explicit valence for atom # 4 N, 4, is greater than permitted\n",
      "RDKit ERROR: [09:38:38] Explicit valence for atom # 10 O, 3, is greater than permitted\n",
      "RDKit ERROR: [09:38:38] Explicit valence for atom # 1 N, 4, is greater than permitted\n",
      "RDKit ERROR: [09:38:38] Explicit valence for atom # 3 N, 4, is greater than permitted\n",
      "RDKit ERROR: [09:38:38] Explicit valence for atom # 4 O, 3, is greater than permitted\n",
      "RDKit ERROR: [09:38:38] Explicit valence for atom # 26 N, 4, is greater than permitted\n",
      "RDKit ERROR: [09:38:38] Explicit valence for atom # 10 O, 3, is greater than permitted\n",
      "RDKit ERROR: [09:38:38] Explicit valence for atom # 8 N, 4, is greater than permitted\n",
      "RDKit ERROR: [09:38:38] Explicit valence for atom # 25 N, 4, is greater than permitted\n",
      "RDKit ERROR: [09:38:38] Explicit valence for atom # 11 O, 3, is greater than permitted\n",
      "RDKit ERROR: [09:38:39] Explicit valence for atom # 22 N, 4, is greater than permitted\n",
      "RDKit ERROR: [09:38:39] Explicit valence for atom # 5 N, 4, is greater than permitted\n",
      "RDKit ERROR: [09:38:39] Explicit valence for atom # 10 O, 3, is greater than permitted\n",
      "RDKit ERROR: [09:38:39] Explicit valence for atom # 9 O, 3, is greater than permitted\n",
      "RDKit ERROR: [09:38:39] Explicit valence for atom # 8 O, 3, is greater than permitted\n",
      "RDKit ERROR: [09:38:39] Explicit valence for atom # 8 O, 3, is greater than permitted\n",
      "RDKit ERROR: [09:38:39] Explicit valence for atom # 13 C, 5, is greater than permitted\n",
      "RDKit ERROR: [09:38:39] Explicit valence for atom # 23 N, 4, is greater than permitted\n",
      "RDKit ERROR: [09:38:39] Explicit valence for atom # 12 N, 4, is greater than permitted\n",
      "RDKit ERROR: [09:38:39] Explicit valence for atom # 3 N, 4, is greater than permitted\n",
      "RDKit ERROR: [09:38:40] Explicit valence for atom # 25 N, 4, is greater than permitted\n",
      "RDKit ERROR: [09:38:40] Explicit valence for atom # 10 O, 3, is greater than permitted\n",
      "RDKit ERROR: [09:38:40] Explicit valence for atom # 21 N, 4, is greater than permitted\n",
      "RDKit ERROR: [09:38:40] Explicit valence for atom # 9 O, 3, is greater than permitted\n",
      "RDKit ERROR: [09:38:40] Explicit valence for atom # 6 N, 4, is greater than permitted\n",
      "RDKit ERROR: [09:38:40] Explicit valence for atom # 10 O, 3, is greater than permitted\n"
     ]
    }
   ],
   "source": [
    "mol_From_Smiles = []\n",
    "index_Mol_Explicit_Valence = []\n",
    "index_Mol_Implicit_Valence = []\n",
    "index = 0\n",
    "for smiles in df_Without_Double_or_Triple.deglycosilated_smiles:\n",
    "    mol = Chem.MolFromSmiles(smiles)\n",
    "    if mol == None:\n",
    "        index_Mol_Explicit_Valence.append(index)\n",
    "    else:\n",
    "        mol_From_Smiles.append(mol)\n",
    "        index_Mol_Implicit_Valence.append(index)\n",
    "    index += 1    "
   ]
  },
  {
   "cell_type": "code",
   "execution_count": 49,
   "metadata": {},
   "outputs": [],
   "source": [
    "#print(index_Mol_Explicit_Valence)"
   ]
  },
  {
   "cell_type": "code",
   "execution_count": 50,
   "metadata": {},
   "outputs": [],
   "source": [
    "df_Without_Explicit_Valence = df_Without_Double_or_Triple.iloc[index_Mol_Implicit_Valence[:]]"
   ]
  },
  {
   "cell_type": "code",
   "execution_count": 51,
   "metadata": {},
   "outputs": [],
   "source": [
    "df_Without_Explicit_Valence = df_Without_Explicit_Valence.reset_index()"
   ]
  },
  {
   "cell_type": "code",
   "execution_count": 52,
   "metadata": {},
   "outputs": [],
   "source": [
    "#df_Without_Explicit_Valence"
   ]
  },
  {
   "cell_type": "code",
   "execution_count": 53,
   "metadata": {},
   "outputs": [],
   "source": [
    "fps = [AllChem.GetMorganFingerprint(mol,2,useFeatures=True) for mol in mol_From_Smiles]"
   ]
  },
  {
   "cell_type": "markdown",
   "metadata": {},
   "source": [
    "create combinations of deglycosilated_smiles for indexing"
   ]
  },
  {
   "cell_type": "code",
   "execution_count": 54,
   "metadata": {},
   "outputs": [],
   "source": [
    "aglycon_formula_for_indexing = list(df_Without_Explicit_Valence.deglycosilated_smiles)"
   ]
  },
  {
   "cell_type": "code",
   "execution_count": 55,
   "metadata": {},
   "outputs": [],
   "source": [
    "aglycon_formulas = [aglycon_pair for aglycon_pair in itertools.combinations(aglycon_formula_for_indexing, 2)]"
   ]
  },
  {
   "cell_type": "code",
   "execution_count": 56,
   "metadata": {},
   "outputs": [
    {
     "name": "stdout",
     "output_type": "stream",
     "text": [
      "221645985\n"
     ]
    }
   ],
   "source": [
    "print(len(aglycon_formulas))"
   ]
  },
  {
   "cell_type": "markdown",
   "metadata": {},
   "source": [
    "**Tanimoto Index between two different aglycons**"
   ]
  },
  {
   "cell_type": "code",
   "execution_count": 57,
   "metadata": {},
   "outputs": [],
   "source": [
    "aglycon_pairs = itertools.combinations(fps, 2)"
   ]
  },
  {
   "cell_type": "code",
   "execution_count": 58,
   "metadata": {
    "scrolled": true
   },
   "outputs": [],
   "source": [
    "aglycon1_095 = []\n",
    "aglycon2_095 = []\n",
    "tanimoto_095 = []\n",
    "aglycon1_090 = []\n",
    "aglycon2_090 = []\n",
    "tanimoto_090 = []\n",
    "aglycon1_080 = []\n",
    "aglycon2_080 = []\n",
    "tanimoto_080 = []\n",
    "counter = 0\n",
    "for pair in aglycon_pairs:\n",
    "    fingerprint = DataStructs.TanimotoSimilarity(pair[0],pair[1])\n",
    "    if fingerprint >= 0.95:\n",
    "        aglycon1_095.append(aglycon_formulas[counter][0])\n",
    "        aglycon2_095.append(aglycon_formulas[counter][1])\n",
    "        tanimoto_095.append(fingerprint)\n",
    "        aglycon1_090.append(aglycon_formulas[counter][0])\n",
    "        aglycon2_090.append(aglycon_formulas[counter][1])\n",
    "        tanimoto_090.append(fingerprint)\n",
    "        aglycon1_080.append(aglycon_formulas[counter][0])\n",
    "        aglycon2_080.append(aglycon_formulas[counter][1])\n",
    "        tanimoto_080.append(fingerprint)\n",
    "    elif fingerprint >= 0.9:\n",
    "        aglycon1_090.append(aglycon_formulas[counter][0])\n",
    "        aglycon2_090.append(aglycon_formulas[counter][1])\n",
    "        tanimoto_090.append(fingerprint)\n",
    "        aglycon1_080.append(aglycon_formulas[counter][0])\n",
    "        aglycon2_080.append(aglycon_formulas[counter][1])\n",
    "        tanimoto_080.append(fingerprint)\n",
    "    elif fingerprint >= 0.8:\n",
    "        aglycon1_080.append(aglycon_formulas[counter][0])\n",
    "        aglycon2_080.append(aglycon_formulas[counter][1])\n",
    "        tanimoto_080.append(fingerprint)\n",
    "    counter += 1"
   ]
  },
  {
   "cell_type": "code",
   "execution_count": 59,
   "metadata": {},
   "outputs": [
    {
     "name": "stdout",
     "output_type": "stream",
     "text": [
      "221645985\n"
     ]
    }
   ],
   "source": [
    "print(counter)"
   ]
  },
  {
   "cell_type": "code",
   "execution_count": 60,
   "metadata": {},
   "outputs": [],
   "source": [
    "df_comparison_095 = pd.DataFrame({\n",
    "    \"aglycon1\": aglycon1_095,\n",
    "    \"aglycon2\": aglycon2_095,\n",
    "    \"tanimoto_index\": tanimoto_095\n",
    "})"
   ]
  },
  {
   "cell_type": "code",
   "execution_count": 61,
   "metadata": {},
   "outputs": [
    {
     "data": {
      "text/html": [
       "<div>\n",
       "<style scoped>\n",
       "    .dataframe tbody tr th:only-of-type {\n",
       "        vertical-align: middle;\n",
       "    }\n",
       "\n",
       "    .dataframe tbody tr th {\n",
       "        vertical-align: top;\n",
       "    }\n",
       "\n",
       "    .dataframe thead th {\n",
       "        text-align: right;\n",
       "    }\n",
       "</style>\n",
       "<table border=\"1\" class=\"dataframe\">\n",
       "  <thead>\n",
       "    <tr style=\"text-align: right;\">\n",
       "      <th></th>\n",
       "      <th>aglycon1</th>\n",
       "      <th>aglycon2</th>\n",
       "      <th>tanimoto_index</th>\n",
       "    </tr>\n",
       "  </thead>\n",
       "  <tbody>\n",
       "    <tr>\n",
       "      <th>0</th>\n",
       "      <td>O=C(O)C1C(O)CCCCC(O)CCCCCCC(=O)OC(CC=CC=CC=CC=...</td>\n",
       "      <td>O=C(O)C1C(O)CCCCC(O)CCCCCCC(=O)OC(CC=CC=CC=CC=...</td>\n",
       "      <td>0.957627</td>\n",
       "    </tr>\n",
       "    <tr>\n",
       "      <th>1</th>\n",
       "      <td>OC(C)(C)C1OC(CCC(=CCCC=C(C)CCC2OC(CCC2(O)C)C(O...</td>\n",
       "      <td>OC(C)(C)C1OC(CC(=CCCC=C(C)CCCC2OC(CCC2(O)C)C(O...</td>\n",
       "      <td>0.959184</td>\n",
       "    </tr>\n",
       "    <tr>\n",
       "      <th>2</th>\n",
       "      <td>O=S(=O)([O-])OCC(C)C(C=CC(C)C1CC(O)C2C3(O)CC(O...</td>\n",
       "      <td>O=S(=O)([O-])OCC(C=CC(C)C1CC(O)C2C3(O)CC(O)C4C...</td>\n",
       "      <td>0.960396</td>\n",
       "    </tr>\n",
       "    <tr>\n",
       "      <th>3</th>\n",
       "      <td>O=C(OC1C(OC(=O)C)C2(CO)C(O)C(O)C3(C(=CCC4C5(C)...</td>\n",
       "      <td>O=C(OC1C(OC(=O)CC)C(C)(C)CC2C3=CCC4C5(C)CCC(O)...</td>\n",
       "      <td>0.956522</td>\n",
       "    </tr>\n",
       "    <tr>\n",
       "      <th>4</th>\n",
       "      <td>O=C1OCCC2=CC=C(OC3=CC(=CC=C3O)CCOC(=O)CC4C1=CO...</td>\n",
       "      <td>O=C1OCCC2=CC=C(O)C(OC3=CC=C(C=C3)CCOC(=O)CC4C1...</td>\n",
       "      <td>1.000000</td>\n",
       "    </tr>\n",
       "    <tr>\n",
       "      <th>...</th>\n",
       "      <td>...</td>\n",
       "      <td>...</td>\n",
       "      <td>...</td>\n",
       "    </tr>\n",
       "    <tr>\n",
       "      <th>3350</th>\n",
       "      <td>O=C(NC(CO)C(O)C(O)CC=CCCCCCCCCCCC)C(O)CCCCCCCC...</td>\n",
       "      <td>O=C(NC(CO)C(O)C(O)CC=CCCCCCCCCCCC)C(O)CCCCCCCC...</td>\n",
       "      <td>0.978571</td>\n",
       "    </tr>\n",
       "    <tr>\n",
       "      <th>3351</th>\n",
       "      <td>O=C(OCC(OC(=O)CCCCCCCCCCCCCCCCCCC)COP(=O)(O)OC...</td>\n",
       "      <td>O=C(OCC(OC(=O)CCCCCCCCCCCCC)COP(=O)(O)OC1C(O)C...</td>\n",
       "      <td>1.000000</td>\n",
       "    </tr>\n",
       "    <tr>\n",
       "      <th>3352</th>\n",
       "      <td>O=C(OCC(OC(=O)CCCCCCCCCCCCCCCCCCC)COP(=O)(O)OC...</td>\n",
       "      <td>O=C(OCC(OC(=O)CCCCCCCCCCCCCCC)COP(=O)(O)OC1C(O...</td>\n",
       "      <td>0.962500</td>\n",
       "    </tr>\n",
       "    <tr>\n",
       "      <th>3353</th>\n",
       "      <td>O=C(O)C1=CC(OC=2C=C3C(=O)OC4C5OC(=O)C6=CC(O)=C...</td>\n",
       "      <td>O=C(O)C1=CC(O)=C(O)C(O)=C1OC=2C=C3C(=O)OC4C5OC...</td>\n",
       "      <td>0.963636</td>\n",
       "    </tr>\n",
       "    <tr>\n",
       "      <th>3354</th>\n",
       "      <td>O=C(OCC(OC(=O)CCCCCCCCCCCCC)COP(=O)(O)OC1C(O)C...</td>\n",
       "      <td>O=C(OCC(OC(=O)CCCCCCCCCCCCCCC)COP(=O)(O)OC1C(O...</td>\n",
       "      <td>0.962500</td>\n",
       "    </tr>\n",
       "  </tbody>\n",
       "</table>\n",
       "<p>3355 rows × 3 columns</p>\n",
       "</div>"
      ],
      "text/plain": [
       "                                               aglycon1  \\\n",
       "0     O=C(O)C1C(O)CCCCC(O)CCCCCCC(=O)OC(CC=CC=CC=CC=...   \n",
       "1     OC(C)(C)C1OC(CCC(=CCCC=C(C)CCC2OC(CCC2(O)C)C(O...   \n",
       "2     O=S(=O)([O-])OCC(C)C(C=CC(C)C1CC(O)C2C3(O)CC(O...   \n",
       "3     O=C(OC1C(OC(=O)C)C2(CO)C(O)C(O)C3(C(=CCC4C5(C)...   \n",
       "4     O=C1OCCC2=CC=C(OC3=CC(=CC=C3O)CCOC(=O)CC4C1=CO...   \n",
       "...                                                 ...   \n",
       "3350  O=C(NC(CO)C(O)C(O)CC=CCCCCCCCCCCC)C(O)CCCCCCCC...   \n",
       "3351  O=C(OCC(OC(=O)CCCCCCCCCCCCCCCCCCC)COP(=O)(O)OC...   \n",
       "3352  O=C(OCC(OC(=O)CCCCCCCCCCCCCCCCCCC)COP(=O)(O)OC...   \n",
       "3353  O=C(O)C1=CC(OC=2C=C3C(=O)OC4C5OC(=O)C6=CC(O)=C...   \n",
       "3354  O=C(OCC(OC(=O)CCCCCCCCCCCCC)COP(=O)(O)OC1C(O)C...   \n",
       "\n",
       "                                               aglycon2  tanimoto_index  \n",
       "0     O=C(O)C1C(O)CCCCC(O)CCCCCCC(=O)OC(CC=CC=CC=CC=...        0.957627  \n",
       "1     OC(C)(C)C1OC(CC(=CCCC=C(C)CCCC2OC(CCC2(O)C)C(O...        0.959184  \n",
       "2     O=S(=O)([O-])OCC(C=CC(C)C1CC(O)C2C3(O)CC(O)C4C...        0.960396  \n",
       "3     O=C(OC1C(OC(=O)CC)C(C)(C)CC2C3=CCC4C5(C)CCC(O)...        0.956522  \n",
       "4     O=C1OCCC2=CC=C(O)C(OC3=CC=C(C=C3)CCOC(=O)CC4C1...        1.000000  \n",
       "...                                                 ...             ...  \n",
       "3350  O=C(NC(CO)C(O)C(O)CC=CCCCCCCCCCCC)C(O)CCCCCCCC...        0.978571  \n",
       "3351  O=C(OCC(OC(=O)CCCCCCCCCCCCC)COP(=O)(O)OC1C(O)C...        1.000000  \n",
       "3352  O=C(OCC(OC(=O)CCCCCCCCCCCCCCC)COP(=O)(O)OC1C(O...        0.962500  \n",
       "3353  O=C(O)C1=CC(O)=C(O)C(O)=C1OC=2C=C3C(=O)OC4C5OC...        0.963636  \n",
       "3354  O=C(OCC(OC(=O)CCCCCCCCCCCCCCC)COP(=O)(O)OC1C(O...        0.962500  \n",
       "\n",
       "[3355 rows x 3 columns]"
      ]
     },
     "execution_count": 61,
     "metadata": {},
     "output_type": "execute_result"
    }
   ],
   "source": [
    "df_comparison_095"
   ]
  },
  {
   "cell_type": "code",
   "execution_count": 62,
   "metadata": {},
   "outputs": [],
   "source": [
    "df_comparison_090 = pd.DataFrame({\n",
    "    \"aglycon1\": aglycon1_090,\n",
    "    \"aglycon2\": aglycon2_090,\n",
    "    \"tanimoto_index\": tanimoto_090\n",
    "})"
   ]
  },
  {
   "cell_type": "code",
   "execution_count": 63,
   "metadata": {},
   "outputs": [
    {
     "data": {
      "text/html": [
       "<div>\n",
       "<style scoped>\n",
       "    .dataframe tbody tr th:only-of-type {\n",
       "        vertical-align: middle;\n",
       "    }\n",
       "\n",
       "    .dataframe tbody tr th {\n",
       "        vertical-align: top;\n",
       "    }\n",
       "\n",
       "    .dataframe thead th {\n",
       "        text-align: right;\n",
       "    }\n",
       "</style>\n",
       "<table border=\"1\" class=\"dataframe\">\n",
       "  <thead>\n",
       "    <tr style=\"text-align: right;\">\n",
       "      <th></th>\n",
       "      <th>aglycon1</th>\n",
       "      <th>aglycon2</th>\n",
       "      <th>tanimoto_index</th>\n",
       "    </tr>\n",
       "  </thead>\n",
       "  <tbody>\n",
       "    <tr>\n",
       "      <th>0</th>\n",
       "      <td>O=C1C=C(OC2=C1C(O)=CC(O)=C2C=3C(O)=CC(O)=C4C(=...</td>\n",
       "      <td>O=C1C=C(OC=2C=C(O)C=C(O)C12)C=3C=CC(O)=C(C3)C4...</td>\n",
       "      <td>0.931034</td>\n",
       "    </tr>\n",
       "    <tr>\n",
       "      <th>1</th>\n",
       "      <td>O=C(O)C1C(O)CCCCC(O)CCCCCCC(=O)OC(CC=CC=CC=CC=...</td>\n",
       "      <td>O=C(O)C1C(O)CCCCC(O)CCCCCCC(=O)OC(CC=CC=CC=CC=...</td>\n",
       "      <td>0.957627</td>\n",
       "    </tr>\n",
       "    <tr>\n",
       "      <th>2</th>\n",
       "      <td>O=C1OC(CC)C(CO)C2OC2C=CC(=O)C(C)CC(C)C(O)C(C=C1)C</td>\n",
       "      <td>O=C1OC(C)C(CO)C2OC2C=CC(=O)C(C)CC(C)C(O)C(C=C1)C</td>\n",
       "      <td>0.932432</td>\n",
       "    </tr>\n",
       "    <tr>\n",
       "      <th>3</th>\n",
       "      <td>OC(C)(C)C1OC(CCC(=CCCC=C(C)CCC2OC(CCC2(O)C)C(O...</td>\n",
       "      <td>OC(C)(C)C1OC(CC(=CCCC=C(C)CCCC2OC(CCC2(O)C)C(O...</td>\n",
       "      <td>0.959184</td>\n",
       "    </tr>\n",
       "    <tr>\n",
       "      <th>4</th>\n",
       "      <td>O=S(=O)([O-])OCC(C)C(C=CC(C)C1CC(O)C2C3(O)CC(O...</td>\n",
       "      <td>O=S(=O)([O-])OCC(C=CC(C)C1CC(O)C2C3(O)CC(O)C4C...</td>\n",
       "      <td>0.960396</td>\n",
       "    </tr>\n",
       "    <tr>\n",
       "      <th>...</th>\n",
       "      <td>...</td>\n",
       "      <td>...</td>\n",
       "      <td>...</td>\n",
       "    </tr>\n",
       "    <tr>\n",
       "      <th>16981</th>\n",
       "      <td>O=C(NC(CO)C(O)C(O)CC=CCCCCCCCCCCC)C(O)CCCCCCCC...</td>\n",
       "      <td>O=C(NC(CO)C(O)C(O)CCCCCCCCCCCCCC)C(O)CCCCCCCCC...</td>\n",
       "      <td>0.923611</td>\n",
       "    </tr>\n",
       "    <tr>\n",
       "      <th>16982</th>\n",
       "      <td>O=C(OCC(OC(=O)CCCCCCCCCCCCC)COP(=O)(O)OC1C(O)C...</td>\n",
       "      <td>O=C(OCC(OC(=O)CCCCCCCCCCCCCCC)COP(=O)(O)OC1C(O...</td>\n",
       "      <td>0.962500</td>\n",
       "    </tr>\n",
       "    <tr>\n",
       "      <th>16983</th>\n",
       "      <td>O=C(OCC(OC(=O)CCCCCCCCCCCCC)COP(=O)(O)OC1C(O)C...</td>\n",
       "      <td>O=C(OCC(OC(=O)CCCCCCCCCCCCCCCCCCC)COP(=O)(O)OC...</td>\n",
       "      <td>0.930233</td>\n",
       "    </tr>\n",
       "    <tr>\n",
       "      <th>16984</th>\n",
       "      <td>O=C(NC(CO)C(O)C(O)CCCCC=CCC=CCCCCC)C(O)CCCCCCC...</td>\n",
       "      <td>O=C(NC(CO)C(O)C(O)CCCCCCCCCCCCCC)C(O)C(O)CCCCC...</td>\n",
       "      <td>0.910959</td>\n",
       "    </tr>\n",
       "    <tr>\n",
       "      <th>16985</th>\n",
       "      <td>O=C(OCC(OC(=O)CCCCCCCCCCCCCCC)COP(=O)(O)OC1C(O...</td>\n",
       "      <td>O=C(OCC(OC(=O)CCCCCC=CCCCCCCCC)COP(=O)(O)OC1C(...</td>\n",
       "      <td>0.906250</td>\n",
       "    </tr>\n",
       "  </tbody>\n",
       "</table>\n",
       "<p>16986 rows × 3 columns</p>\n",
       "</div>"
      ],
      "text/plain": [
       "                                                aglycon1  \\\n",
       "0      O=C1C=C(OC2=C1C(O)=CC(O)=C2C=3C(O)=CC(O)=C4C(=...   \n",
       "1      O=C(O)C1C(O)CCCCC(O)CCCCCCC(=O)OC(CC=CC=CC=CC=...   \n",
       "2      O=C1OC(CC)C(CO)C2OC2C=CC(=O)C(C)CC(C)C(O)C(C=C1)C   \n",
       "3      OC(C)(C)C1OC(CCC(=CCCC=C(C)CCC2OC(CCC2(O)C)C(O...   \n",
       "4      O=S(=O)([O-])OCC(C)C(C=CC(C)C1CC(O)C2C3(O)CC(O...   \n",
       "...                                                  ...   \n",
       "16981  O=C(NC(CO)C(O)C(O)CC=CCCCCCCCCCCC)C(O)CCCCCCCC...   \n",
       "16982  O=C(OCC(OC(=O)CCCCCCCCCCCCC)COP(=O)(O)OC1C(O)C...   \n",
       "16983  O=C(OCC(OC(=O)CCCCCCCCCCCCC)COP(=O)(O)OC1C(O)C...   \n",
       "16984  O=C(NC(CO)C(O)C(O)CCCCC=CCC=CCCCCC)C(O)CCCCCCC...   \n",
       "16985  O=C(OCC(OC(=O)CCCCCCCCCCCCCCC)COP(=O)(O)OC1C(O...   \n",
       "\n",
       "                                                aglycon2  tanimoto_index  \n",
       "0      O=C1C=C(OC=2C=C(O)C=C(O)C12)C=3C=CC(O)=C(C3)C4...        0.931034  \n",
       "1      O=C(O)C1C(O)CCCCC(O)CCCCCCC(=O)OC(CC=CC=CC=CC=...        0.957627  \n",
       "2       O=C1OC(C)C(CO)C2OC2C=CC(=O)C(C)CC(C)C(O)C(C=C1)C        0.932432  \n",
       "3      OC(C)(C)C1OC(CC(=CCCC=C(C)CCCC2OC(CCC2(O)C)C(O...        0.959184  \n",
       "4      O=S(=O)([O-])OCC(C=CC(C)C1CC(O)C2C3(O)CC(O)C4C...        0.960396  \n",
       "...                                                  ...             ...  \n",
       "16981  O=C(NC(CO)C(O)C(O)CCCCCCCCCCCCCC)C(O)CCCCCCCCC...        0.923611  \n",
       "16982  O=C(OCC(OC(=O)CCCCCCCCCCCCCCC)COP(=O)(O)OC1C(O...        0.962500  \n",
       "16983  O=C(OCC(OC(=O)CCCCCCCCCCCCCCCCCCC)COP(=O)(O)OC...        0.930233  \n",
       "16984  O=C(NC(CO)C(O)C(O)CCCCCCCCCCCCCC)C(O)C(O)CCCCC...        0.910959  \n",
       "16985  O=C(OCC(OC(=O)CCCCCC=CCCCCCCCC)COP(=O)(O)OC1C(...        0.906250  \n",
       "\n",
       "[16986 rows x 3 columns]"
      ]
     },
     "execution_count": 63,
     "metadata": {},
     "output_type": "execute_result"
    }
   ],
   "source": [
    "df_comparison_090"
   ]
  },
  {
   "cell_type": "code",
   "execution_count": 64,
   "metadata": {},
   "outputs": [],
   "source": [
    "df_comparison_080 = pd.DataFrame({\n",
    "    \"aglycon1\": aglycon1_080,\n",
    "    \"aglycon2\": aglycon2_080,\n",
    "    \"tanimoto_index\": tanimoto_080\n",
    "})"
   ]
  },
  {
   "cell_type": "code",
   "execution_count": 65,
   "metadata": {},
   "outputs": [
    {
     "data": {
      "text/html": [
       "<div>\n",
       "<style scoped>\n",
       "    .dataframe tbody tr th:only-of-type {\n",
       "        vertical-align: middle;\n",
       "    }\n",
       "\n",
       "    .dataframe tbody tr th {\n",
       "        vertical-align: top;\n",
       "    }\n",
       "\n",
       "    .dataframe thead th {\n",
       "        text-align: right;\n",
       "    }\n",
       "</style>\n",
       "<table border=\"1\" class=\"dataframe\">\n",
       "  <thead>\n",
       "    <tr style=\"text-align: right;\">\n",
       "      <th></th>\n",
       "      <th>aglycon1</th>\n",
       "      <th>aglycon2</th>\n",
       "      <th>tanimoto_index</th>\n",
       "    </tr>\n",
       "  </thead>\n",
       "  <tbody>\n",
       "    <tr>\n",
       "      <th>0</th>\n",
       "      <td>O=C1C=C(OC2=C1C(O)=CC(O)=C2C=3C(O)=CC(O)=C4C(=...</td>\n",
       "      <td>O=C1C=C(OC2=C1C(O)=CC(O)=C2C=3C(O)=CC(OC)=C4C(...</td>\n",
       "      <td>0.876033</td>\n",
       "    </tr>\n",
       "    <tr>\n",
       "      <th>1</th>\n",
       "      <td>O=C1C=C(OC2=C1C(O)=CC(O)=C2C=3C(O)=CC(O)=C4C(=...</td>\n",
       "      <td>O=C1C=C(OC=2C=C(O)C=C(O)C12)C=3C=CC(O)=C(C3)C4...</td>\n",
       "      <td>0.931034</td>\n",
       "    </tr>\n",
       "    <tr>\n",
       "      <th>2</th>\n",
       "      <td>O=C1C=C(OC2=C1C(O)=CC(O)=C2C=3C(O)=CC(O)=C4C(=...</td>\n",
       "      <td>O=C1C=C(OC=2C1=C(O)C=C(O)C2CC=3C(O)=CC(O)=C4C(...</td>\n",
       "      <td>0.845528</td>\n",
       "    </tr>\n",
       "    <tr>\n",
       "      <th>3</th>\n",
       "      <td>O=C(O)C1C(O)CCCCC(O)CCCCCCC(=O)OC(CC=CC=CC=CC=...</td>\n",
       "      <td>O=C(O)C1C(O)CCCCC(O)CCCCCCC(=O)OC(CC=CC=CC=CC=...</td>\n",
       "      <td>0.957627</td>\n",
       "    </tr>\n",
       "    <tr>\n",
       "      <th>4</th>\n",
       "      <td>O=C1OC(CC)C(CO)C2OC2C=CC(=O)C(C)CC(C)C(O)C(C=C1)C</td>\n",
       "      <td>O=C1OC(C)C(CO)C2OC2C=CC(=O)C(C)CC(C)C(O)C(C)CC1</td>\n",
       "      <td>0.810127</td>\n",
       "    </tr>\n",
       "    <tr>\n",
       "      <th>...</th>\n",
       "      <td>...</td>\n",
       "      <td>...</td>\n",
       "      <td>...</td>\n",
       "    </tr>\n",
       "    <tr>\n",
       "      <th>101847</th>\n",
       "      <td>O=C(O)C12CCC(C)(CO)CC2C3=CCC4C(C)(CCC5C(C)(CO)...</td>\n",
       "      <td>O=C(O)C12CCC(C)(CO)CC2C3=CCC4C(C)(CCC5C(C)(C(O...</td>\n",
       "      <td>0.832461</td>\n",
       "    </tr>\n",
       "    <tr>\n",
       "      <th>101848</th>\n",
       "      <td>OC1CC2C3(C)CCC(O)C(C)(C)C3CCC2(C)C4(C)CC(O)C(C...</td>\n",
       "      <td>OC(CCC=C(C)C)C1CCC2(C)C1C(O)CC3C4(C)CCC(O)C(C)...</td>\n",
       "      <td>0.852632</td>\n",
       "    </tr>\n",
       "    <tr>\n",
       "      <th>101849</th>\n",
       "      <td>OC1CC2C3(C)CCC(O)C(C)(C)C3CCC2(C)C4(C)CC(O)C(C...</td>\n",
       "      <td>O=CC12CCC(O)C(C)(C)C2CCC3(C)C1CC(O)C4C(CCC43C)...</td>\n",
       "      <td>0.803922</td>\n",
       "    </tr>\n",
       "    <tr>\n",
       "      <th>101850</th>\n",
       "      <td>OC(CCC=C(C)C)C1CCC2(C)C1C(O)CC3C4(C)CCC(O)C(C)...</td>\n",
       "      <td>O=CC12CCC(O)C(C)(C)C2CCC3(C)C1CC(O)C4C(CCC43C)...</td>\n",
       "      <td>0.800000</td>\n",
       "    </tr>\n",
       "    <tr>\n",
       "      <th>101851</th>\n",
       "      <td>O=C(OC1C2OC(C)C(O)C1OC(=O)CCCCCCCCCC(OC3OC(C)C...</td>\n",
       "      <td>O=C1OC2C(OCC3OC(OC4C(OC(CCC)CCCCCCCCC1)OC(C)C(...</td>\n",
       "      <td>0.805714</td>\n",
       "    </tr>\n",
       "  </tbody>\n",
       "</table>\n",
       "<p>101852 rows × 3 columns</p>\n",
       "</div>"
      ],
      "text/plain": [
       "                                                 aglycon1  \\\n",
       "0       O=C1C=C(OC2=C1C(O)=CC(O)=C2C=3C(O)=CC(O)=C4C(=...   \n",
       "1       O=C1C=C(OC2=C1C(O)=CC(O)=C2C=3C(O)=CC(O)=C4C(=...   \n",
       "2       O=C1C=C(OC2=C1C(O)=CC(O)=C2C=3C(O)=CC(O)=C4C(=...   \n",
       "3       O=C(O)C1C(O)CCCCC(O)CCCCCCC(=O)OC(CC=CC=CC=CC=...   \n",
       "4       O=C1OC(CC)C(CO)C2OC2C=CC(=O)C(C)CC(C)C(O)C(C=C1)C   \n",
       "...                                                   ...   \n",
       "101847  O=C(O)C12CCC(C)(CO)CC2C3=CCC4C(C)(CCC5C(C)(CO)...   \n",
       "101848  OC1CC2C3(C)CCC(O)C(C)(C)C3CCC2(C)C4(C)CC(O)C(C...   \n",
       "101849  OC1CC2C3(C)CCC(O)C(C)(C)C3CCC2(C)C4(C)CC(O)C(C...   \n",
       "101850  OC(CCC=C(C)C)C1CCC2(C)C1C(O)CC3C4(C)CCC(O)C(C)...   \n",
       "101851  O=C(OC1C2OC(C)C(O)C1OC(=O)CCCCCCCCCC(OC3OC(C)C...   \n",
       "\n",
       "                                                 aglycon2  tanimoto_index  \n",
       "0       O=C1C=C(OC2=C1C(O)=CC(O)=C2C=3C(O)=CC(OC)=C4C(...        0.876033  \n",
       "1       O=C1C=C(OC=2C=C(O)C=C(O)C12)C=3C=CC(O)=C(C3)C4...        0.931034  \n",
       "2       O=C1C=C(OC=2C1=C(O)C=C(O)C2CC=3C(O)=CC(O)=C4C(...        0.845528  \n",
       "3       O=C(O)C1C(O)CCCCC(O)CCCCCCC(=O)OC(CC=CC=CC=CC=...        0.957627  \n",
       "4         O=C1OC(C)C(CO)C2OC2C=CC(=O)C(C)CC(C)C(O)C(C)CC1        0.810127  \n",
       "...                                                   ...             ...  \n",
       "101847  O=C(O)C12CCC(C)(CO)CC2C3=CCC4C(C)(CCC5C(C)(C(O...        0.832461  \n",
       "101848  OC(CCC=C(C)C)C1CCC2(C)C1C(O)CC3C4(C)CCC(O)C(C)...        0.852632  \n",
       "101849  O=CC12CCC(O)C(C)(C)C2CCC3(C)C1CC(O)C4C(CCC43C)...        0.803922  \n",
       "101850  O=CC12CCC(O)C(C)(C)C2CCC3(C)C1CC(O)C4C(CCC43C)...        0.800000  \n",
       "101851  O=C1OC2C(OCC3OC(OC4C(OC(CCC)CCCCCCCCC1)OC(C)C(...        0.805714  \n",
       "\n",
       "[101852 rows x 3 columns]"
      ]
     },
     "execution_count": 65,
     "metadata": {},
     "output_type": "execute_result"
    }
   ],
   "source": [
    "df_comparison_080"
   ]
  },
  {
   "cell_type": "markdown",
   "metadata": {},
   "source": [
    "**merging dataframe and taxonomies**"
   ]
  },
  {
   "cell_type": "code",
   "execution_count": 66,
   "metadata": {},
   "outputs": [],
   "source": [
    "df_aglycon_taxes_1 = pd.DataFrame({\n",
    "    \"aglycon1\": df_Without_Double.deglycosilated_smiles,\n",
    "    \"taxonomy1\": df_Without_Double.taxonomy,\n",
    "})"
   ]
  },
  {
   "cell_type": "code",
   "execution_count": 67,
   "metadata": {},
   "outputs": [],
   "source": [
    "df_aglycon_taxes_2 = pd.DataFrame({\n",
    "    \"aglycon2\": df_Without_Double.deglycosilated_smiles,\n",
    "    \"taxonomy2\": df_Without_Double.taxonomy,\n",
    "})"
   ]
  },
  {
   "cell_type": "markdown",
   "metadata": {},
   "source": [
    "*df_comparison_095*"
   ]
  },
  {
   "cell_type": "code",
   "execution_count": 68,
   "metadata": {},
   "outputs": [],
   "source": [
    "df_comparison_095 = pd.merge(df_comparison_095, df_aglycon_taxes_1, how=\"left\", on=\"aglycon1\")"
   ]
  },
  {
   "cell_type": "code",
   "execution_count": 69,
   "metadata": {},
   "outputs": [],
   "source": [
    "df_comparison_095 = pd.merge(df_comparison_095, df_aglycon_taxes_2, how=\"left\", on=\"aglycon2\")"
   ]
  },
  {
   "cell_type": "code",
   "execution_count": 70,
   "metadata": {},
   "outputs": [
    {
     "data": {
      "text/html": [
       "<div>\n",
       "<style scoped>\n",
       "    .dataframe tbody tr th:only-of-type {\n",
       "        vertical-align: middle;\n",
       "    }\n",
       "\n",
       "    .dataframe tbody tr th {\n",
       "        vertical-align: top;\n",
       "    }\n",
       "\n",
       "    .dataframe thead th {\n",
       "        text-align: right;\n",
       "    }\n",
       "</style>\n",
       "<table border=\"1\" class=\"dataframe\">\n",
       "  <thead>\n",
       "    <tr style=\"text-align: right;\">\n",
       "      <th></th>\n",
       "      <th>aglycon1</th>\n",
       "      <th>aglycon2</th>\n",
       "      <th>tanimoto_index</th>\n",
       "      <th>taxonomy1</th>\n",
       "      <th>taxonomy2</th>\n",
       "    </tr>\n",
       "  </thead>\n",
       "  <tbody>\n",
       "    <tr>\n",
       "      <th>0</th>\n",
       "      <td>O=C(O)C1C(O)CCCCC(O)CCCCCCC(=O)OC(CC=CC=CC=CC=...</td>\n",
       "      <td>O=C(O)C1C(O)CCCCC(O)CCCCCCC(=O)OC(CC=CC=CC=CC=...</td>\n",
       "      <td>0.957627</td>\n",
       "      <td>{no}</td>\n",
       "      <td>{no}</td>\n",
       "    </tr>\n",
       "    <tr>\n",
       "      <th>1</th>\n",
       "      <td>OC(C)(C)C1OC(CCC(=CCCC=C(C)CCC2OC(CCC2(O)C)C(O...</td>\n",
       "      <td>OC(C)(C)C1OC(CC(=CCCC=C(C)CCCC2OC(CCC2(O)C)C(O...</td>\n",
       "      <td>0.959184</td>\n",
       "      <td>{no}</td>\n",
       "      <td>{no}</td>\n",
       "    </tr>\n",
       "    <tr>\n",
       "      <th>2</th>\n",
       "      <td>O=S(=O)([O-])OCC(C)C(C=CC(C)C1CC(O)C2C3(O)CC(O...</td>\n",
       "      <td>O=S(=O)([O-])OCC(C=CC(C)C1CC(O)C2C3(O)CC(O)C4C...</td>\n",
       "      <td>0.960396</td>\n",
       "      <td>{no}</td>\n",
       "      <td>{no}</td>\n",
       "    </tr>\n",
       "    <tr>\n",
       "      <th>3</th>\n",
       "      <td>O=C(OC1C(OC(=O)C)C2(CO)C(O)C(O)C3(C(=CCC4C5(C)...</td>\n",
       "      <td>O=C(OC1C(OC(=O)CC)C(C)(C)CC2C3=CCC4C5(C)CCC(O)...</td>\n",
       "      <td>0.956522</td>\n",
       "      <td>{no}</td>\n",
       "      <td>{no}</td>\n",
       "    </tr>\n",
       "    <tr>\n",
       "      <th>4</th>\n",
       "      <td>O=C1OCCC2=CC=C(OC3=CC(=CC=C3O)CCOC(=O)CC4C1=CO...</td>\n",
       "      <td>O=C1OCCC2=CC=C(O)C(OC3=CC=C(C=C3)CCOC(=O)CC4C1...</td>\n",
       "      <td>1.000000</td>\n",
       "      <td>{no}</td>\n",
       "      <td>{no}</td>\n",
       "    </tr>\n",
       "    <tr>\n",
       "      <th>...</th>\n",
       "      <td>...</td>\n",
       "      <td>...</td>\n",
       "      <td>...</td>\n",
       "      <td>...</td>\n",
       "      <td>...</td>\n",
       "    </tr>\n",
       "    <tr>\n",
       "      <th>3350</th>\n",
       "      <td>O=C(NC(CO)C(O)C(O)CC=CCCCCCCCCCCC)C(O)CCCCCCCC...</td>\n",
       "      <td>O=C(NC(CO)C(O)C(O)CC=CCCCCCCCCCCC)C(O)CCCCCCCC...</td>\n",
       "      <td>0.978571</td>\n",
       "      <td>{no}</td>\n",
       "      <td>{no}</td>\n",
       "    </tr>\n",
       "    <tr>\n",
       "      <th>3351</th>\n",
       "      <td>O=C(OCC(OC(=O)CCCCCCCCCCCCCCCCCCC)COP(=O)(O)OC...</td>\n",
       "      <td>O=C(OCC(OC(=O)CCCCCCCCCCCCC)COP(=O)(O)OC1C(O)C...</td>\n",
       "      <td>1.000000</td>\n",
       "      <td>{no}</td>\n",
       "      <td>{no}</td>\n",
       "    </tr>\n",
       "    <tr>\n",
       "      <th>3352</th>\n",
       "      <td>O=C(OCC(OC(=O)CCCCCCCCCCCCCCCCCCC)COP(=O)(O)OC...</td>\n",
       "      <td>O=C(OCC(OC(=O)CCCCCCCCCCCCCCC)COP(=O)(O)OC1C(O...</td>\n",
       "      <td>0.962500</td>\n",
       "      <td>{no}</td>\n",
       "      <td>{no}</td>\n",
       "    </tr>\n",
       "    <tr>\n",
       "      <th>3353</th>\n",
       "      <td>O=C(O)C1=CC(OC=2C=C3C(=O)OC4C5OC(=O)C6=CC(O)=C...</td>\n",
       "      <td>O=C(O)C1=CC(O)=C(O)C(O)=C1OC=2C=C3C(=O)OC4C5OC...</td>\n",
       "      <td>0.963636</td>\n",
       "      <td>{no}</td>\n",
       "      <td>{no}</td>\n",
       "    </tr>\n",
       "    <tr>\n",
       "      <th>3354</th>\n",
       "      <td>O=C(OCC(OC(=O)CCCCCCCCCCCCC)COP(=O)(O)OC1C(O)C...</td>\n",
       "      <td>O=C(OCC(OC(=O)CCCCCCCCCCCCCCC)COP(=O)(O)OC1C(O...</td>\n",
       "      <td>0.962500</td>\n",
       "      <td>{no}</td>\n",
       "      <td>{no}</td>\n",
       "    </tr>\n",
       "  </tbody>\n",
       "</table>\n",
       "<p>3355 rows × 5 columns</p>\n",
       "</div>"
      ],
      "text/plain": [
       "                                               aglycon1  \\\n",
       "0     O=C(O)C1C(O)CCCCC(O)CCCCCCC(=O)OC(CC=CC=CC=CC=...   \n",
       "1     OC(C)(C)C1OC(CCC(=CCCC=C(C)CCC2OC(CCC2(O)C)C(O...   \n",
       "2     O=S(=O)([O-])OCC(C)C(C=CC(C)C1CC(O)C2C3(O)CC(O...   \n",
       "3     O=C(OC1C(OC(=O)C)C2(CO)C(O)C(O)C3(C(=CCC4C5(C)...   \n",
       "4     O=C1OCCC2=CC=C(OC3=CC(=CC=C3O)CCOC(=O)CC4C1=CO...   \n",
       "...                                                 ...   \n",
       "3350  O=C(NC(CO)C(O)C(O)CC=CCCCCCCCCCCC)C(O)CCCCCCCC...   \n",
       "3351  O=C(OCC(OC(=O)CCCCCCCCCCCCCCCCCCC)COP(=O)(O)OC...   \n",
       "3352  O=C(OCC(OC(=O)CCCCCCCCCCCCCCCCCCC)COP(=O)(O)OC...   \n",
       "3353  O=C(O)C1=CC(OC=2C=C3C(=O)OC4C5OC(=O)C6=CC(O)=C...   \n",
       "3354  O=C(OCC(OC(=O)CCCCCCCCCCCCC)COP(=O)(O)OC1C(O)C...   \n",
       "\n",
       "                                               aglycon2  tanimoto_index  \\\n",
       "0     O=C(O)C1C(O)CCCCC(O)CCCCCCC(=O)OC(CC=CC=CC=CC=...        0.957627   \n",
       "1     OC(C)(C)C1OC(CC(=CCCC=C(C)CCCC2OC(CCC2(O)C)C(O...        0.959184   \n",
       "2     O=S(=O)([O-])OCC(C=CC(C)C1CC(O)C2C3(O)CC(O)C4C...        0.960396   \n",
       "3     O=C(OC1C(OC(=O)CC)C(C)(C)CC2C3=CCC4C5(C)CCC(O)...        0.956522   \n",
       "4     O=C1OCCC2=CC=C(O)C(OC3=CC=C(C=C3)CCOC(=O)CC4C1...        1.000000   \n",
       "...                                                 ...             ...   \n",
       "3350  O=C(NC(CO)C(O)C(O)CC=CCCCCCCCCCCC)C(O)CCCCCCCC...        0.978571   \n",
       "3351  O=C(OCC(OC(=O)CCCCCCCCCCCCC)COP(=O)(O)OC1C(O)C...        1.000000   \n",
       "3352  O=C(OCC(OC(=O)CCCCCCCCCCCCCCC)COP(=O)(O)OC1C(O...        0.962500   \n",
       "3353  O=C(O)C1=CC(O)=C(O)C(O)=C1OC=2C=C3C(=O)OC4C5OC...        0.963636   \n",
       "3354  O=C(OCC(OC(=O)CCCCCCCCCCCCCCC)COP(=O)(O)OC1C(O...        0.962500   \n",
       "\n",
       "     taxonomy1 taxonomy2  \n",
       "0         {no}      {no}  \n",
       "1         {no}      {no}  \n",
       "2         {no}      {no}  \n",
       "3         {no}      {no}  \n",
       "4         {no}      {no}  \n",
       "...        ...       ...  \n",
       "3350      {no}      {no}  \n",
       "3351      {no}      {no}  \n",
       "3352      {no}      {no}  \n",
       "3353      {no}      {no}  \n",
       "3354      {no}      {no}  \n",
       "\n",
       "[3355 rows x 5 columns]"
      ]
     },
     "execution_count": 70,
     "metadata": {},
     "output_type": "execute_result"
    }
   ],
   "source": [
    "df_comparison_095"
   ]
  },
  {
   "cell_type": "markdown",
   "metadata": {},
   "source": [
    "*change tax-sets to values from 1 to 5*"
   ]
  },
  {
   "cell_type": "code",
   "execution_count": 71,
   "metadata": {},
   "outputs": [],
   "source": [
    "tax1_to_value_095 = df_comparison_095.taxonomy1.replace([{\"no\"},{\"plants\"},{\"bacteria\"},{\"animals\"},{\"fungi\"}],[1,2,3,4,5])"
   ]
  },
  {
   "cell_type": "code",
   "execution_count": 72,
   "metadata": {},
   "outputs": [],
   "source": [
    "tax2_to_value_095 = df_comparison_095.taxonomy2.replace([{\"no\"},{\"plants\"},{\"bacteria\"},{\"animals\"},{\"fungi\"}],[1,2,3,4,5])"
   ]
  },
  {
   "cell_type": "code",
   "execution_count": 73,
   "metadata": {},
   "outputs": [],
   "source": [
    "df_comparison_095[\"tax1_as_value\"] = tax1_to_value_095"
   ]
  },
  {
   "cell_type": "code",
   "execution_count": 74,
   "metadata": {},
   "outputs": [],
   "source": [
    "df_comparison_095[\"tax2_as_value\"] = tax2_to_value_095"
   ]
  },
  {
   "cell_type": "code",
   "execution_count": 75,
   "metadata": {},
   "outputs": [],
   "source": [
    "df_comparison_095.to_csv(\"fingerprint_comparison095.tsv\",sep=\"\\t\")"
   ]
  },
  {
   "cell_type": "markdown",
   "metadata": {},
   "source": [
    "*df_comparison_090*"
   ]
  },
  {
   "cell_type": "code",
   "execution_count": 76,
   "metadata": {},
   "outputs": [],
   "source": [
    "df_comparison_090 = pd.merge(df_comparison_090, df_aglycon_taxes_1, how=\"left\", on=\"aglycon1\")"
   ]
  },
  {
   "cell_type": "code",
   "execution_count": 77,
   "metadata": {},
   "outputs": [],
   "source": [
    "df_comparison_090 = pd.merge(df_comparison_090, df_aglycon_taxes_2, how=\"left\", on=\"aglycon2\")"
   ]
  },
  {
   "cell_type": "code",
   "execution_count": 78,
   "metadata": {},
   "outputs": [
    {
     "data": {
      "text/html": [
       "<div>\n",
       "<style scoped>\n",
       "    .dataframe tbody tr th:only-of-type {\n",
       "        vertical-align: middle;\n",
       "    }\n",
       "\n",
       "    .dataframe tbody tr th {\n",
       "        vertical-align: top;\n",
       "    }\n",
       "\n",
       "    .dataframe thead th {\n",
       "        text-align: right;\n",
       "    }\n",
       "</style>\n",
       "<table border=\"1\" class=\"dataframe\">\n",
       "  <thead>\n",
       "    <tr style=\"text-align: right;\">\n",
       "      <th></th>\n",
       "      <th>aglycon1</th>\n",
       "      <th>aglycon2</th>\n",
       "      <th>tanimoto_index</th>\n",
       "      <th>taxonomy1</th>\n",
       "      <th>taxonomy2</th>\n",
       "    </tr>\n",
       "  </thead>\n",
       "  <tbody>\n",
       "    <tr>\n",
       "      <th>0</th>\n",
       "      <td>O=C1C=C(OC2=C1C(O)=CC(O)=C2C=3C(O)=CC(O)=C4C(=...</td>\n",
       "      <td>O=C1C=C(OC=2C=C(O)C=C(O)C12)C=3C=CC(O)=C(C3)C4...</td>\n",
       "      <td>0.931034</td>\n",
       "      <td>{no}</td>\n",
       "      <td>{no}</td>\n",
       "    </tr>\n",
       "    <tr>\n",
       "      <th>1</th>\n",
       "      <td>O=C(O)C1C(O)CCCCC(O)CCCCCCC(=O)OC(CC=CC=CC=CC=...</td>\n",
       "      <td>O=C(O)C1C(O)CCCCC(O)CCCCCCC(=O)OC(CC=CC=CC=CC=...</td>\n",
       "      <td>0.957627</td>\n",
       "      <td>{no}</td>\n",
       "      <td>{no}</td>\n",
       "    </tr>\n",
       "    <tr>\n",
       "      <th>2</th>\n",
       "      <td>O=C1OC(CC)C(CO)C2OC2C=CC(=O)C(C)CC(C)C(O)C(C=C1)C</td>\n",
       "      <td>O=C1OC(C)C(CO)C2OC2C=CC(=O)C(C)CC(C)C(O)C(C=C1)C</td>\n",
       "      <td>0.932432</td>\n",
       "      <td>{no}</td>\n",
       "      <td>{bacteria}</td>\n",
       "    </tr>\n",
       "    <tr>\n",
       "      <th>3</th>\n",
       "      <td>OC(C)(C)C1OC(CCC(=CCCC=C(C)CCC2OC(CCC2(O)C)C(O...</td>\n",
       "      <td>OC(C)(C)C1OC(CC(=CCCC=C(C)CCCC2OC(CCC2(O)C)C(O...</td>\n",
       "      <td>0.959184</td>\n",
       "      <td>{no}</td>\n",
       "      <td>{no}</td>\n",
       "    </tr>\n",
       "    <tr>\n",
       "      <th>4</th>\n",
       "      <td>O=S(=O)([O-])OCC(C)C(C=CC(C)C1CC(O)C2C3(O)CC(O...</td>\n",
       "      <td>O=S(=O)([O-])OCC(C=CC(C)C1CC(O)C2C3(O)CC(O)C4C...</td>\n",
       "      <td>0.960396</td>\n",
       "      <td>{no}</td>\n",
       "      <td>{no}</td>\n",
       "    </tr>\n",
       "    <tr>\n",
       "      <th>...</th>\n",
       "      <td>...</td>\n",
       "      <td>...</td>\n",
       "      <td>...</td>\n",
       "      <td>...</td>\n",
       "      <td>...</td>\n",
       "    </tr>\n",
       "    <tr>\n",
       "      <th>16981</th>\n",
       "      <td>O=C(NC(CO)C(O)C(O)CC=CCCCCCCCCCCC)C(O)CCCCCCCC...</td>\n",
       "      <td>O=C(NC(CO)C(O)C(O)CCCCCCCCCCCCCC)C(O)CCCCCCCCC...</td>\n",
       "      <td>0.923611</td>\n",
       "      <td>{no}</td>\n",
       "      <td>{no}</td>\n",
       "    </tr>\n",
       "    <tr>\n",
       "      <th>16982</th>\n",
       "      <td>O=C(OCC(OC(=O)CCCCCCCCCCCCC)COP(=O)(O)OC1C(O)C...</td>\n",
       "      <td>O=C(OCC(OC(=O)CCCCCCCCCCCCCCC)COP(=O)(O)OC1C(O...</td>\n",
       "      <td>0.962500</td>\n",
       "      <td>{no}</td>\n",
       "      <td>{no}</td>\n",
       "    </tr>\n",
       "    <tr>\n",
       "      <th>16983</th>\n",
       "      <td>O=C(OCC(OC(=O)CCCCCCCCCCCCC)COP(=O)(O)OC1C(O)C...</td>\n",
       "      <td>O=C(OCC(OC(=O)CCCCCCCCCCCCCCCCCCC)COP(=O)(O)OC...</td>\n",
       "      <td>0.930233</td>\n",
       "      <td>{no}</td>\n",
       "      <td>{no}</td>\n",
       "    </tr>\n",
       "    <tr>\n",
       "      <th>16984</th>\n",
       "      <td>O=C(NC(CO)C(O)C(O)CCCCC=CCC=CCCCCC)C(O)CCCCCCC...</td>\n",
       "      <td>O=C(NC(CO)C(O)C(O)CCCCCCCCCCCCCC)C(O)C(O)CCCCC...</td>\n",
       "      <td>0.910959</td>\n",
       "      <td>{no}</td>\n",
       "      <td>{no}</td>\n",
       "    </tr>\n",
       "    <tr>\n",
       "      <th>16985</th>\n",
       "      <td>O=C(OCC(OC(=O)CCCCCCCCCCCCCCC)COP(=O)(O)OC1C(O...</td>\n",
       "      <td>O=C(OCC(OC(=O)CCCCCC=CCCCCCCCC)COP(=O)(O)OC1C(...</td>\n",
       "      <td>0.906250</td>\n",
       "      <td>{no}</td>\n",
       "      <td>{no}</td>\n",
       "    </tr>\n",
       "  </tbody>\n",
       "</table>\n",
       "<p>16986 rows × 5 columns</p>\n",
       "</div>"
      ],
      "text/plain": [
       "                                                aglycon1  \\\n",
       "0      O=C1C=C(OC2=C1C(O)=CC(O)=C2C=3C(O)=CC(O)=C4C(=...   \n",
       "1      O=C(O)C1C(O)CCCCC(O)CCCCCCC(=O)OC(CC=CC=CC=CC=...   \n",
       "2      O=C1OC(CC)C(CO)C2OC2C=CC(=O)C(C)CC(C)C(O)C(C=C1)C   \n",
       "3      OC(C)(C)C1OC(CCC(=CCCC=C(C)CCC2OC(CCC2(O)C)C(O...   \n",
       "4      O=S(=O)([O-])OCC(C)C(C=CC(C)C1CC(O)C2C3(O)CC(O...   \n",
       "...                                                  ...   \n",
       "16981  O=C(NC(CO)C(O)C(O)CC=CCCCCCCCCCCC)C(O)CCCCCCCC...   \n",
       "16982  O=C(OCC(OC(=O)CCCCCCCCCCCCC)COP(=O)(O)OC1C(O)C...   \n",
       "16983  O=C(OCC(OC(=O)CCCCCCCCCCCCC)COP(=O)(O)OC1C(O)C...   \n",
       "16984  O=C(NC(CO)C(O)C(O)CCCCC=CCC=CCCCCC)C(O)CCCCCCC...   \n",
       "16985  O=C(OCC(OC(=O)CCCCCCCCCCCCCCC)COP(=O)(O)OC1C(O...   \n",
       "\n",
       "                                                aglycon2  tanimoto_index  \\\n",
       "0      O=C1C=C(OC=2C=C(O)C=C(O)C12)C=3C=CC(O)=C(C3)C4...        0.931034   \n",
       "1      O=C(O)C1C(O)CCCCC(O)CCCCCCC(=O)OC(CC=CC=CC=CC=...        0.957627   \n",
       "2       O=C1OC(C)C(CO)C2OC2C=CC(=O)C(C)CC(C)C(O)C(C=C1)C        0.932432   \n",
       "3      OC(C)(C)C1OC(CC(=CCCC=C(C)CCCC2OC(CCC2(O)C)C(O...        0.959184   \n",
       "4      O=S(=O)([O-])OCC(C=CC(C)C1CC(O)C2C3(O)CC(O)C4C...        0.960396   \n",
       "...                                                  ...             ...   \n",
       "16981  O=C(NC(CO)C(O)C(O)CCCCCCCCCCCCCC)C(O)CCCCCCCCC...        0.923611   \n",
       "16982  O=C(OCC(OC(=O)CCCCCCCCCCCCCCC)COP(=O)(O)OC1C(O...        0.962500   \n",
       "16983  O=C(OCC(OC(=O)CCCCCCCCCCCCCCCCCCC)COP(=O)(O)OC...        0.930233   \n",
       "16984  O=C(NC(CO)C(O)C(O)CCCCCCCCCCCCCC)C(O)C(O)CCCCC...        0.910959   \n",
       "16985  O=C(OCC(OC(=O)CCCCCC=CCCCCCCCC)COP(=O)(O)OC1C(...        0.906250   \n",
       "\n",
       "      taxonomy1   taxonomy2  \n",
       "0          {no}        {no}  \n",
       "1          {no}        {no}  \n",
       "2          {no}  {bacteria}  \n",
       "3          {no}        {no}  \n",
       "4          {no}        {no}  \n",
       "...         ...         ...  \n",
       "16981      {no}        {no}  \n",
       "16982      {no}        {no}  \n",
       "16983      {no}        {no}  \n",
       "16984      {no}        {no}  \n",
       "16985      {no}        {no}  \n",
       "\n",
       "[16986 rows x 5 columns]"
      ]
     },
     "execution_count": 78,
     "metadata": {},
     "output_type": "execute_result"
    }
   ],
   "source": [
    "df_comparison_090"
   ]
  },
  {
   "cell_type": "markdown",
   "metadata": {},
   "source": [
    "*change tax-sets to values from 1 to 5*"
   ]
  },
  {
   "cell_type": "code",
   "execution_count": 79,
   "metadata": {},
   "outputs": [],
   "source": [
    "tax1_to_value_090 = df_comparison_090.taxonomy1.replace([{\"no\"},{\"plants\"},{\"bacteria\"},{\"animals\"},{\"fungi\"}],[1,2,3,4,5])"
   ]
  },
  {
   "cell_type": "code",
   "execution_count": 80,
   "metadata": {},
   "outputs": [],
   "source": [
    "tax2_to_value_090 = df_comparison_090.taxonomy2.replace([{\"no\"},{\"plants\"},{\"bacteria\"},{\"animals\"},{\"fungi\"}],[1,2,3,4,5])"
   ]
  },
  {
   "cell_type": "code",
   "execution_count": 81,
   "metadata": {},
   "outputs": [],
   "source": [
    "df_comparison_090[\"tax1_as_value\"] = tax1_to_value_090"
   ]
  },
  {
   "cell_type": "code",
   "execution_count": 82,
   "metadata": {},
   "outputs": [],
   "source": [
    "df_comparison_090[\"tax2_as_value\"] = tax2_to_value_090"
   ]
  },
  {
   "cell_type": "code",
   "execution_count": 83,
   "metadata": {},
   "outputs": [],
   "source": [
    "df_comparison_090.to_csv(\"fingerprint_comparison090.tsv\",sep=\"\\t\")"
   ]
  },
  {
   "cell_type": "markdown",
   "metadata": {},
   "source": [
    "*df_comparison_080*"
   ]
  },
  {
   "cell_type": "code",
   "execution_count": 84,
   "metadata": {},
   "outputs": [],
   "source": [
    "df_comparison_080 = pd.merge(df_comparison_080, df_aglycon_taxes_1, how=\"left\", on=\"aglycon1\")"
   ]
  },
  {
   "cell_type": "code",
   "execution_count": 85,
   "metadata": {},
   "outputs": [],
   "source": [
    "df_comparison_080 = pd.merge(df_comparison_080, df_aglycon_taxes_2, how=\"left\", on=\"aglycon2\")"
   ]
  },
  {
   "cell_type": "markdown",
   "metadata": {},
   "source": [
    "*change tax-sets to values from 1 to 5*"
   ]
  },
  {
   "cell_type": "code",
   "execution_count": 86,
   "metadata": {},
   "outputs": [],
   "source": [
    "tax1_to_value_080 = df_comparison_080.taxonomy1.replace([{\"no\"},{\"plants\"},{\"bacteria\"},{\"animals\"},{\"fungi\"}],[1,2,3,4,5])"
   ]
  },
  {
   "cell_type": "code",
   "execution_count": 87,
   "metadata": {},
   "outputs": [],
   "source": [
    "tax2_to_value_080 = df_comparison_080.taxonomy2.replace([{\"no\"},{\"plants\"},{\"bacteria\"},{\"animals\"},{\"fungi\"}],[1,2,3,4,5])"
   ]
  },
  {
   "cell_type": "code",
   "execution_count": 88,
   "metadata": {},
   "outputs": [],
   "source": [
    "df_comparison_080[\"tax1_as_value\"] = tax1_to_value_080"
   ]
  },
  {
   "cell_type": "code",
   "execution_count": 89,
   "metadata": {},
   "outputs": [],
   "source": [
    "df_comparison_080[\"tax2_as_value\"] = tax2_to_value_080"
   ]
  },
  {
   "cell_type": "code",
   "execution_count": 90,
   "metadata": {},
   "outputs": [],
   "source": [
    "df_comparison_080.to_csv(\"fingerprint_comparison080.tsv\",sep=\"\\t\")"
   ]
  },
  {
   "cell_type": "code",
   "execution_count": null,
   "metadata": {},
   "outputs": [],
   "source": []
  }
 ],
 "metadata": {
  "kernelspec": {
   "display_name": "Python 3",
   "language": "python",
   "name": "python3"
  },
  "language_info": {
   "codemirror_mode": {
    "name": "ipython",
    "version": 3
   },
   "file_extension": ".py",
   "mimetype": "text/x-python",
   "name": "python",
   "nbconvert_exporter": "python",
   "pygments_lexer": "ipython3",
   "version": "3.7.9"
  }
 },
 "nbformat": 4,
 "nbformat_minor": 4
}
