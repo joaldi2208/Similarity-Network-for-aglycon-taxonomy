{
 "cells": [
  {
   "cell_type": "code",
   "execution_count": 164,
   "metadata": {},
   "outputs": [],
   "source": [
    "from pymongo import MongoClient\n",
    "from rdkit import Chem\n",
    "from rdkit.Chem import Draw\n",
    "\n",
    "import pandas as pd\n",
    "\n",
    "import matplotlib.pyplot as plt\n",
    "import venn\n",
    "%matplotlib inline\n",
    "\n",
    "from math import *\n",
    "import os\n",
    "from rdkit.Chem import AllChem\n",
    "from rdkit import DataStructs\n",
    "from rdkit.Chem import Descriptors\n",
    "\n",
    "import itertools\n",
    "from collections import Counter"
   ]
  },
  {
   "cell_type": "markdown",
   "metadata": {},
   "source": [
    "**Complete Databank**"
   ]
  },
  {
   "cell_type": "code",
   "execution_count": 165,
   "metadata": {},
   "outputs": [],
   "source": [
    "client = MongoClient(\"localhost:27017\")\n",
    "db_complete = client['COCONUT2020-10']"
   ]
  },
  {
   "cell_type": "code",
   "execution_count": 166,
   "metadata": {
    "scrolled": true
   },
   "outputs": [],
   "source": [
    "collection = db_complete.uniqueNaturalProduct\n",
    "db_complete_only_ring_sugars = pd.DataFrame(list(collection.find({\"contains_ring_sugars\": True})))"
   ]
  },
  {
   "cell_type": "code",
   "execution_count": 167,
   "metadata": {},
   "outputs": [],
   "source": [
    "df_complete_tax = pd.DataFrame({\"taxonomy\": db_complete_only_ring_sugars[\"textTaxa\"],\n",
    "                       \"smiles\": db_complete_only_ring_sugars[\"smiles\"],\n",
    "                       \"coconut_id\": db_complete_only_ring_sugars[\"coconut_id\"],\n",
    "                       \"no_sugar_smiles\": db_complete_only_ring_sugars[\"sugar_free_smiles\"]\n",
    "                      })"
   ]
  },
  {
   "cell_type": "code",
   "execution_count": 168,
   "metadata": {
    "scrolled": false
   },
   "outputs": [],
   "source": [
    "#display(df_complete_tax)"
   ]
  },
  {
   "cell_type": "code",
   "execution_count": 169,
   "metadata": {},
   "outputs": [],
   "source": [
    "complete_names = []\n",
    "indexes = []\n",
    "for i in range(len(df_complete_tax.taxonomy)):\n",
    "    # some entries are empty lists\n",
    "    # doubles\n",
    "    if df_complete_tax.taxonomy[i] != [] and (\"plants\" in df_complete_tax.taxonomy[i] or \"bacteria\" in df_complete_tax.taxonomy[i] or \"marine\" in df_complete_tax.taxonomy[i] or \"animals\" in df_complete_tax.taxonomy[i] or \"fungi\" in df_complete_tax.taxonomy[i]):\n",
    "        indexes.append(i)\n",
    "        complete_names.append(df_complete_tax.taxonomy[i])\n",
    "        \n",
    "        \n",
    "    "
   ]
  },
  {
   "cell_type": "code",
   "execution_count": 170,
   "metadata": {},
   "outputs": [],
   "source": [
    "df_five_tax = df_complete_tax.loc[indexes[:]]"
   ]
  },
  {
   "cell_type": "code",
   "execution_count": 171,
   "metadata": {},
   "outputs": [],
   "source": [
    "#df_five_tax"
   ]
  },
  {
   "cell_type": "code",
   "execution_count": 172,
   "metadata": {},
   "outputs": [],
   "source": [
    "df_tax_id = pd.DataFrame({\"taxonomy\": df_five_tax.taxonomy,\n",
    "                                   \"coconut_id\": df_five_tax.coconut_id})"
   ]
  },
  {
   "cell_type": "code",
   "execution_count": 173,
   "metadata": {},
   "outputs": [],
   "source": [
    "df_tax_id = df_tax_id.reset_index()"
   ]
  },
  {
   "cell_type": "code",
   "execution_count": 174,
   "metadata": {},
   "outputs": [],
   "source": [
    "taxonomies = [\"plants\",\"bacteria\",\"fungi\",\"marine\",\"animals\"]\n",
    "biology_names = []\n",
    "for row in df_tax_id.taxonomy:\n",
    "    for name in row:\n",
    "        if name not in taxonomies:\n",
    "            biology_names.append(name)"
   ]
  },
  {
   "cell_type": "code",
   "execution_count": 175,
   "metadata": {},
   "outputs": [],
   "source": [
    "for biology_name in biology_names:\n",
    "    for row in df_tax_id.taxonomy:\n",
    "        if biology_name in row:\n",
    "            row.remove(biology_name)\n",
    "            \n",
    "            "
   ]
  },
  {
   "cell_type": "markdown",
   "metadata": {},
   "source": [
    "**------------for tax prediction---------------**"
   ]
  },
  {
   "cell_type": "code",
   "execution_count": 176,
   "metadata": {},
   "outputs": [],
   "source": [
    "df_tax_id.to_pickle(\"for_predict_doubletriple.pkl\")"
   ]
  },
  {
   "cell_type": "markdown",
   "metadata": {},
   "source": [
    "**----------end tax prediction--------------**"
   ]
  },
  {
   "cell_type": "code",
   "execution_count": 177,
   "metadata": {},
   "outputs": [],
   "source": [
    "#for ind, i in enumerate(df_tax_id.taxonomy):\n",
    "#    print(ind, i)"
   ]
  },
  {
   "cell_type": "code",
   "execution_count": 178,
   "metadata": {},
   "outputs": [
    {
     "name": "stderr",
     "output_type": "stream",
     "text": [
      "/Users/jonas/opt/anaconda3/envs/my-rdkit-env/lib/python3.7/site-packages/ipykernel_launcher.py:7: SettingWithCopyWarning: \n",
      "A value is trying to be set on a copy of a slice from a DataFrame\n",
      "\n",
      "See the caveats in the documentation: https://pandas.pydata.org/pandas-docs/stable/user_guide/indexing.html#returning-a-view-versus-a-copy\n",
      "  import sys\n"
     ]
    }
   ],
   "source": [
    "for ind, tax_list in enumerate(df_tax_id.taxonomy):\n",
    "    if \"marine\" in tax_list:\n",
    "        #print(ind, tax_list)\n",
    "        if len(tax_list) > 1:\n",
    "            df_tax_id.taxonomy[ind].remove(\"marine\")\n",
    "        else:\n",
    "            df_tax_id.taxonomy[ind] = [\"no\"]"
   ]
  },
  {
   "cell_type": "code",
   "execution_count": 179,
   "metadata": {},
   "outputs": [],
   "source": [
    "#for ind, i in enumerate(df_tax_id.taxonomy):\n",
    "#    print(ind, i)"
   ]
  },
  {
   "cell_type": "code",
   "execution_count": 180,
   "metadata": {},
   "outputs": [],
   "source": [
    "taxonomy_Double = []\n",
    "taxonomy_Triple = []\n",
    "taxonomy_single_entry = []\n",
    "for ind, tax_list in enumerate(df_tax_id.taxonomy):\n",
    "    #print(ind, tax_list)\n",
    "    if len(tax_list) == 1:\n",
    "        taxonomy_single_entry.append(tax_list[0])\n",
    "    elif len(tax_list) == 2: \n",
    "        taxonomy_single_entry.append('double')\n",
    "        # save original annotation\n",
    "        taxonomyDouble1 = []\n",
    "        for tax in tax_list:\n",
    "            taxonomyDouble1.append(tax)\n",
    "        taxonomy_Double.append(taxonomyDouble1)\n",
    "    elif len(tax_list) == 3:\n",
    "        taxonomy_single_entry.append('triple')\n",
    "        # save original annotation\n",
    "        taxonomyTriple1 = []\n",
    "        for tax in tax_list:\n",
    "            taxonomyTriple1.append(tax)\n",
    "        taxonomy_Triple.append(taxonomyTriple1)"
   ]
  },
  {
   "cell_type": "code",
   "execution_count": 181,
   "metadata": {},
   "outputs": [],
   "source": [
    "df_tax_id_fromCompleteDatabank = pd.DataFrame({\"taxonomy\": taxonomy_single_entry,\n",
    "                     \"coconut_id\": df_five_tax.coconut_id})"
   ]
  },
  {
   "cell_type": "markdown",
   "metadata": {},
   "source": [
    "**Sweetcoconut Databank**"
   ]
  },
  {
   "cell_type": "code",
   "execution_count": 182,
   "metadata": {},
   "outputs": [],
   "source": [
    "client2 = MongoClient(\"localhost:27017\")\n",
    "db_s = client2[\"sweetcoconut\"]\n",
    "collection2 = db_s.sweetNaturalProduct\n",
    "sweetnp = pd.DataFrame(list(collection2.find({\"contains_sugar\": True})))"
   ]
  },
  {
   "cell_type": "code",
   "execution_count": 183,
   "metadata": {},
   "outputs": [],
   "source": [
    "sweetnp_with_tax = pd.merge(sweetnp, df_tax_id_fromCompleteDatabank, how=\"left\", on=\"coconut_id\")"
   ]
  },
  {
   "cell_type": "code",
   "execution_count": 184,
   "metadata": {},
   "outputs": [],
   "source": [
    "df_cutout_sweetnp_with_tax = pd.DataFrame({\"coconut_id\": sweetnp_with_tax.coconut_id,\n",
    "                             \"taxonomy\": sweetnp_with_tax.taxonomy,\n",
    "                             \"all_deglycosilated_smiles\": sweetnp_with_tax.all_deglycosilated_smiles\n",
    "})"
   ]
  },
  {
   "cell_type": "code",
   "execution_count": 185,
   "metadata": {},
   "outputs": [],
   "source": [
    "df_cutout_no_nan = df_cutout_sweetnp_with_tax.fillna('no')"
   ]
  },
  {
   "cell_type": "code",
   "execution_count": 186,
   "metadata": {},
   "outputs": [],
   "source": [
    "df_cutout_explode = df_cutout_no_nan.explode(\"all_deglycosilated_smiles\",ignore_index=True)"
   ]
  },
  {
   "cell_type": "code",
   "execution_count": 187,
   "metadata": {
    "scrolled": true
   },
   "outputs": [],
   "source": [
    "#display(df_cutout_explode)"
   ]
  },
  {
   "cell_type": "code",
   "execution_count": 188,
   "metadata": {},
   "outputs": [],
   "source": [
    "unique_deglycosilated_smiles = set(df_cutout_explode[\"all_deglycosilated_smiles\"])"
   ]
  },
  {
   "cell_type": "code",
   "execution_count": 189,
   "metadata": {},
   "outputs": [
    {
     "data": {
      "text/plain": [
       "''"
      ]
     },
     "execution_count": 189,
     "metadata": {},
     "output_type": "execute_result"
    }
   ],
   "source": [
    "unique_deglycosilated_smiles.pop()"
   ]
  },
  {
   "cell_type": "code",
   "execution_count": 190,
   "metadata": {},
   "outputs": [],
   "source": [
    "df_NP = pd.DataFrame(unique_deglycosilated_smiles, columns=[\"deglycosilated_smiles\"])"
   ]
  },
  {
   "cell_type": "code",
   "execution_count": 191,
   "metadata": {},
   "outputs": [],
   "source": [
    "df_NP[\"coconut_id\"] = \"\"\n",
    "df_NP[\"taxonomy\"] = \"\""
   ]
  },
  {
   "cell_type": "code",
   "execution_count": 192,
   "metadata": {},
   "outputs": [],
   "source": [
    "index = 0\n",
    "for mol in df_NP.deglycosilated_smiles:\n",
    "    all_rows = df_cutout_explode[df_cutout_explode[\"all_deglycosilated_smiles\"]==mol]\n",
    "    df_NP.coconut_id[index] = (all_rows.coconut_id.values)\n",
    "    df_NP.taxonomy[index] = (all_rows.taxonomy.values)\n",
    "    index += 1"
   ]
  },
  {
   "cell_type": "code",
   "execution_count": 193,
   "metadata": {
    "scrolled": false
   },
   "outputs": [
    {
     "data": {
      "text/html": [
       "<div>\n",
       "<style scoped>\n",
       "    .dataframe tbody tr th:only-of-type {\n",
       "        vertical-align: middle;\n",
       "    }\n",
       "\n",
       "    .dataframe tbody tr th {\n",
       "        vertical-align: top;\n",
       "    }\n",
       "\n",
       "    .dataframe thead th {\n",
       "        text-align: right;\n",
       "    }\n",
       "</style>\n",
       "<table border=\"1\" class=\"dataframe\">\n",
       "  <thead>\n",
       "    <tr style=\"text-align: right;\">\n",
       "      <th></th>\n",
       "      <th>deglycosilated_smiles</th>\n",
       "      <th>coconut_id</th>\n",
       "      <th>taxonomy</th>\n",
       "    </tr>\n",
       "  </thead>\n",
       "  <tbody>\n",
       "    <tr>\n",
       "      <th>0</th>\n",
       "      <td>OCC=C(C)CCC1C(=C)CC(O)C2C(C)(CO)CCCC12C</td>\n",
       "      <td>[CNP0196270, CNP0273381, CNP0201656, CNP0334224]</td>\n",
       "      <td>[no, no, no, no]</td>\n",
       "    </tr>\n",
       "    <tr>\n",
       "      <th>1</th>\n",
       "      <td>O=C1C=CC=2C=CC(O)=C(C2[OH+]1)CC(O)(C)C(O)(C)C</td>\n",
       "      <td>[CNP0372408]</td>\n",
       "      <td>[no]</td>\n",
       "    </tr>\n",
       "    <tr>\n",
       "      <th>2</th>\n",
       "      <td>OC1=CC=C(C=C1)C=CC=2C=C(OC)C=C(OC)C2</td>\n",
       "      <td>[CNP0254770]</td>\n",
       "      <td>[no]</td>\n",
       "    </tr>\n",
       "    <tr>\n",
       "      <th>3</th>\n",
       "      <td>O=C(OC)C=1C=C(C(O)=C(C1)CC(O)C(=C)C)CC=C(C)C</td>\n",
       "      <td>[CNP0364231]</td>\n",
       "      <td>[no]</td>\n",
       "    </tr>\n",
       "    <tr>\n",
       "      <th>4</th>\n",
       "      <td>O=C1OCC2OC(O)(CO)C(OC(=O)C3C4=CC(O)=C(O)C=C4C(...</td>\n",
       "      <td>[CNP0003063, CNP0218732]</td>\n",
       "      <td>[no, no]</td>\n",
       "    </tr>\n",
       "    <tr>\n",
       "      <th>...</th>\n",
       "      <td>...</td>\n",
       "      <td>...</td>\n",
       "      <td>...</td>\n",
       "    </tr>\n",
       "    <tr>\n",
       "      <th>21175</th>\n",
       "      <td>O=C1OC(CCO)C(O)(C)C(O)C(C=2OC(C)(CC2C)C(OC3OC(...</td>\n",
       "      <td>[CNP0221604]</td>\n",
       "      <td>[no]</td>\n",
       "    </tr>\n",
       "    <tr>\n",
       "      <th>21176</th>\n",
       "      <td>O=C1C=C(OC=2C(O)=C(OC)C(OC)=C(O)C12)C=3C=CC(O)...</td>\n",
       "      <td>[CNP0108169, CNP0322516]</td>\n",
       "      <td>[no, no]</td>\n",
       "    </tr>\n",
       "    <tr>\n",
       "      <th>21177</th>\n",
       "      <td>O=C(OCC(OC(=O)CCCCCCCCC(C)CCCCCCCC)COP(=O)(O)O...</td>\n",
       "      <td>[CNP0000745, CNP0001200]</td>\n",
       "      <td>[no, no]</td>\n",
       "    </tr>\n",
       "    <tr>\n",
       "      <th>21178</th>\n",
       "      <td>OC1OC(C)C(O)C(N)C1</td>\n",
       "      <td>[CNP0059749, CNP0059749, CNP0341337, CNP004584...</td>\n",
       "      <td>[no, no, no, no, no, no, bacteria, bacteria, n...</td>\n",
       "    </tr>\n",
       "    <tr>\n",
       "      <th>21179</th>\n",
       "      <td>O=C(OCC1=C(O)C(O)C23CC1OC3(OC4C(=O)OCC(C)C42)C)C</td>\n",
       "      <td>[CNP0282074]</td>\n",
       "      <td>[no]</td>\n",
       "    </tr>\n",
       "  </tbody>\n",
       "</table>\n",
       "<p>21180 rows × 3 columns</p>\n",
       "</div>"
      ],
      "text/plain": [
       "                                   deglycosilated_smiles  \\\n",
       "0                OCC=C(C)CCC1C(=C)CC(O)C2C(C)(CO)CCCC12C   \n",
       "1          O=C1C=CC=2C=CC(O)=C(C2[OH+]1)CC(O)(C)C(O)(C)C   \n",
       "2                   OC1=CC=C(C=C1)C=CC=2C=C(OC)C=C(OC)C2   \n",
       "3           O=C(OC)C=1C=C(C(O)=C(C1)CC(O)C(=C)C)CC=C(C)C   \n",
       "4      O=C1OCC2OC(O)(CO)C(OC(=O)C3C4=CC(O)=C(O)C=C4C(...   \n",
       "...                                                  ...   \n",
       "21175  O=C1OC(CCO)C(O)(C)C(O)C(C=2OC(C)(CC2C)C(OC3OC(...   \n",
       "21176  O=C1C=C(OC=2C(O)=C(OC)C(OC)=C(O)C12)C=3C=CC(O)...   \n",
       "21177  O=C(OCC(OC(=O)CCCCCCCCC(C)CCCCCCCC)COP(=O)(O)O...   \n",
       "21178                                 OC1OC(C)C(O)C(N)C1   \n",
       "21179   O=C(OCC1=C(O)C(O)C23CC1OC3(OC4C(=O)OCC(C)C42)C)C   \n",
       "\n",
       "                                              coconut_id  \\\n",
       "0       [CNP0196270, CNP0273381, CNP0201656, CNP0334224]   \n",
       "1                                           [CNP0372408]   \n",
       "2                                           [CNP0254770]   \n",
       "3                                           [CNP0364231]   \n",
       "4                               [CNP0003063, CNP0218732]   \n",
       "...                                                  ...   \n",
       "21175                                       [CNP0221604]   \n",
       "21176                           [CNP0108169, CNP0322516]   \n",
       "21177                           [CNP0000745, CNP0001200]   \n",
       "21178  [CNP0059749, CNP0059749, CNP0341337, CNP004584...   \n",
       "21179                                       [CNP0282074]   \n",
       "\n",
       "                                                taxonomy  \n",
       "0                                       [no, no, no, no]  \n",
       "1                                                   [no]  \n",
       "2                                                   [no]  \n",
       "3                                                   [no]  \n",
       "4                                               [no, no]  \n",
       "...                                                  ...  \n",
       "21175                                               [no]  \n",
       "21176                                           [no, no]  \n",
       "21177                                           [no, no]  \n",
       "21178  [no, no, no, no, no, no, bacteria, bacteria, n...  \n",
       "21179                                               [no]  \n",
       "\n",
       "[21180 rows x 3 columns]"
      ]
     },
     "metadata": {},
     "output_type": "display_data"
    }
   ],
   "source": [
    "display(df_NP)"
   ]
  },
  {
   "cell_type": "markdown",
   "metadata": {},
   "source": [
    "**-----------------for tax prediction-------------------**"
   ]
  },
  {
   "cell_type": "code",
   "execution_count": 194,
   "metadata": {},
   "outputs": [],
   "source": [
    "df_NP.to_pickle(\"for_predict_multiple_tax.pkl\")"
   ]
  },
  {
   "cell_type": "markdown",
   "metadata": {},
   "source": [
    "**----------------end tax prediction--------------------**"
   ]
  },
  {
   "cell_type": "code",
   "execution_count": 195,
   "metadata": {},
   "outputs": [],
   "source": [
    "index = 0\n",
    "for tax_list in df_NP.taxonomy:\n",
    "    df_NP.taxonomy[index] = set(tax_list)\n",
    "    if len(df_NP.taxonomy[index]) >= 2:\n",
    "        if 'no' in df_NP.taxonomy[index]:\n",
    "            df_NP.taxonomy[index].remove('no')\n",
    "    index += 1"
   ]
  },
  {
   "cell_type": "code",
   "execution_count": 196,
   "metadata": {
    "scrolled": true
   },
   "outputs": [],
   "source": [
    "#display(df_NP)"
   ]
  },
  {
   "cell_type": "markdown",
   "metadata": {},
   "source": [
    "**Counting**"
   ]
  },
  {
   "cell_type": "code",
   "execution_count": 197,
   "metadata": {},
   "outputs": [],
   "source": [
    "cnt = Counter()\n",
    "for tax_list in df_NP.taxonomy:\n",
    "    for tax in list(tax_list):\n",
    "        if tax != 'no':\n",
    "            cnt[tax] += 1"
   ]
  },
  {
   "cell_type": "code",
   "execution_count": 198,
   "metadata": {
    "scrolled": true
   },
   "outputs": [
    {
     "data": {
      "text/plain": [
       "Counter({'plants': 1717,\n",
       "         'bacteria': 488,\n",
       "         'fungi': 105,\n",
       "         'animals': 37,\n",
       "         'double': 36})"
      ]
     },
     "execution_count": 198,
     "metadata": {},
     "output_type": "execute_result"
    }
   ],
   "source": [
    "cnt"
   ]
  },
  {
   "cell_type": "code",
   "execution_count": 199,
   "metadata": {
    "scrolled": true
   },
   "outputs": [
    {
     "data": {
      "text/plain": [
       "Text(0, 0.5, 'number of molecules')"
      ]
     },
     "execution_count": 199,
     "metadata": {},
     "output_type": "execute_result"
    },
    {
     "data": {
      "image/png": "[encoded data removed]",
      "text/plain": [
       "<Figure size 432x288 with 1 Axes>"
      ]
     },
     "metadata": {
      "needs_background": "light"
     },
     "output_type": "display_data"
    }
   ],
   "source": [
    "plt.bar(cnt.keys(),cnt.values())\n",
    "plt.xlabel('taxonomic provenance')\n",
    "plt.ylabel('number of molecules')"
   ]
  },
  {
   "cell_type": "markdown",
   "metadata": {},
   "source": [
    "**Venn-Diagram**"
   ]
  },
  {
   "cell_type": "code",
   "execution_count": 200,
   "metadata": {
    "scrolled": true
   },
   "outputs": [],
   "source": [
    "taxonomy_Single = [list(tax) for tax in df_NP.taxonomy if 'double' not in tax]"
   ]
  },
  {
   "cell_type": "code",
   "execution_count": 201,
   "metadata": {},
   "outputs": [],
   "source": [
    "taxonomy_All = taxonomy_Single + taxonomy_Double"
   ]
  },
  {
   "cell_type": "code",
   "execution_count": 202,
   "metadata": {},
   "outputs": [],
   "source": [
    "plants = set()\n",
    "bacteria = set()\n",
    "animals = set()\n",
    "fungi = set()"
   ]
  },
  {
   "cell_type": "code",
   "execution_count": 203,
   "metadata": {},
   "outputs": [],
   "source": [
    "for tax_list in taxonomy_All:\n",
    "    if \"plants\" in tax_list:\n",
    "        for tax in tax_list:\n",
    "            plants.add(tax.index)\n",
    "    if \"bacteria\" in tax_list:\n",
    "        for tax in tax_list:\n",
    "            bacteria.add(tax.index)\n",
    "    if \"animals\" in tax_list:\n",
    "        for tax in tax_list:\n",
    "            animals.add(tax.index)\n",
    "    if \"fungi\" in tax_list:\n",
    "        for tax in tax_list:\n",
    "            fungi.add(tax.index)"
   ]
  },
  {
   "cell_type": "code",
   "execution_count": 204,
   "metadata": {},
   "outputs": [
    {
     "name": "stderr",
     "output_type": "stream",
     "text": [
      "/Users/jonas/opt/anaconda3/envs/my-rdkit-env/lib/python3.7/site-packages/venn/_backwards_compatibility.py:16: UserWarning: `get_labels()` is retained for backwards compatibility; use `generate_petal_labels()` or the higher level `venn()` instead\n",
      "  \"`get_labels()` is retained for backwards compatibility; \" +\n",
      "/Users/jonas/opt/anaconda3/envs/my-rdkit-env/lib/python3.7/site-packages/venn/_backwards_compatibility.py:32: UserWarning: `venn4()` is retained for backwards compatibility; use `venn()` instead\n",
      "  \"use `venn()` instead\"\n"
     ]
    },
    {
     "data": {
      "image/png": "[encoded data removed]",
      "text/plain": [
       "<Figure size 648x648 with 1 Axes>"
      ]
     },
     "metadata": {},
     "output_type": "display_data"
    }
   ],
   "source": [
    "labels = venn.get_labels([plants,bacteria,animals,fungi])\n",
    "fig, ax = venn.venn4(labels,names=['plants','bacteria','animals','fungi'])"
   ]
  },
  {
   "cell_type": "markdown",
   "metadata": {},
   "source": [
    "**seperate aglycons with at least two different entries in taxonomy**\n"
   ]
  },
  {
   "cell_type": "code",
   "execution_count": 205,
   "metadata": {
    "scrolled": true
   },
   "outputs": [],
   "source": [
    "index_Unique_Tax = [ind for ind, tax_list in enumerate(df_NP.taxonomy) if len(tax_list) == 1]"
   ]
  },
  {
   "cell_type": "code",
   "execution_count": 206,
   "metadata": {},
   "outputs": [],
   "source": [
    "df_Without_Double = df_NP.iloc[index_Unique_Tax[:]]"
   ]
  },
  {
   "cell_type": "code",
   "execution_count": 207,
   "metadata": {},
   "outputs": [],
   "source": [
    "#df_Without_Double"
   ]
  },
  {
   "cell_type": "markdown",
   "metadata": {},
   "source": [
    "**check for 'double' or 'triple' entries in taxonomy**"
   ]
  },
  {
   "cell_type": "code",
   "execution_count": 208,
   "metadata": {},
   "outputs": [],
   "source": [
    "index_double_or_triple = [ind for ind, tax_list in enumerate(df_Without_Double.taxonomy) if 'double' not in tax_list or 'triple' not in tax_list]"
   ]
  },
  {
   "cell_type": "code",
   "execution_count": 209,
   "metadata": {},
   "outputs": [],
   "source": [
    "df_Without_Double_or_Triple = df_Without_Double.iloc[index_double_or_triple[:]]"
   ]
  },
  {
   "cell_type": "code",
   "execution_count": 210,
   "metadata": {},
   "outputs": [],
   "source": [
    "#df_Without_Double_or_Triple"
   ]
  },
  {
   "cell_type": "markdown",
   "metadata": {},
   "source": [
    "**Fingerprints**"
   ]
  },
  {
   "cell_type": "code",
   "execution_count": 211,
   "metadata": {
    "scrolled": true
   },
   "outputs": [
    {
     "name": "stderr",
     "output_type": "stream",
     "text": [
      "RDKit ERROR: [15:49:07] Explicit valence for atom # 10 O, 3, is greater than permitted\n",
      "RDKit ERROR: [15:49:07] Explicit valence for atom # 12 C, 5, is greater than permitted\n",
      "RDKit ERROR: [15:49:07] Explicit valence for atom # 10 O, 3, is greater than permitted\n",
      "RDKit ERROR: [15:49:07] Explicit valence for atom # 10 O, 3, is greater than permitted\n",
      "RDKit ERROR: [15:49:07] Explicit valence for atom # 3 O, 3, is greater than permitted\n",
      "RDKit ERROR: [15:49:07] Explicit valence for atom # 3 N, 4, is greater than permitted\n",
      "RDKit ERROR: [15:49:07] Explicit valence for atom # 5 N, 4, is greater than permitted\n",
      "RDKit ERROR: [15:49:08] Explicit valence for atom # 22 N, 4, is greater than permitted\n",
      "RDKit ERROR: [15:49:08] Explicit valence for atom # 8 N, 4, is greater than permitted\n",
      "RDKit ERROR: [15:49:08] Explicit valence for atom # 22 N, 4, is greater than permitted\n",
      "RDKit ERROR: [15:49:08] Explicit valence for atom # 10 O, 3, is greater than permitted\n",
      "RDKit ERROR: [15:49:08] Explicit valence for atom # 25 N, 4, is greater than permitted\n",
      "RDKit ERROR: [15:49:08] Explicit valence for atom # 11 O, 3, is greater than permitted\n",
      "RDKit ERROR: [15:49:08] Explicit valence for atom # 26 N, 4, is greater than permitted\n",
      "RDKit ERROR: [15:49:08] Explicit valence for atom # 2 O, 3, is greater than permitted\n",
      "RDKit ERROR: [15:49:08] Explicit valence for atom # 5 N, 4, is greater than permitted\n",
      "RDKit ERROR: [15:49:08] Explicit valence for atom # 1 N, 4, is greater than permitted\n",
      "RDKit ERROR: [15:49:09] Explicit valence for atom # 10 O, 3, is greater than permitted\n",
      "RDKit ERROR: [15:49:09] Explicit valence for atom # 6 O, 3, is greater than permitted\n",
      "RDKit ERROR: [15:49:09] Explicit valence for atom # 10 O, 3, is greater than permitted\n",
      "RDKit ERROR: [15:49:09] Explicit valence for atom # 10 O, 3, is greater than permitted\n",
      "RDKit ERROR: [15:49:09] Explicit valence for atom # 4 O, 3, is greater than permitted\n",
      "RDKit ERROR: [15:49:09] Explicit valence for atom # 8 O, 3, is greater than permitted\n",
      "RDKit ERROR: [15:49:09] Explicit valence for atom # 10 O, 3, is greater than permitted\n",
      "RDKit ERROR: [15:49:09] Explicit valence for atom # 9 O, 3, is greater than permitted\n",
      "RDKit ERROR: [15:49:09] Explicit valence for atom # 4 N, 4, is greater than permitted\n",
      "RDKit ERROR: [15:49:09] Explicit valence for atom # 10 O, 3, is greater than permitted\n",
      "RDKit ERROR: [15:49:10] Explicit valence for atom # 13 C, 5, is greater than permitted\n",
      "RDKit ERROR: [15:49:10] Explicit valence for atom # 10 O, 3, is greater than permitted\n",
      "RDKit ERROR: [15:49:10] Explicit valence for atom # 10 O, 3, is greater than permitted\n",
      "RDKit ERROR: [15:49:10] Explicit valence for atom # 4 O, 3, is greater than permitted\n",
      "RDKit ERROR: [15:49:10] Explicit valence for atom # 21 N, 4, is greater than permitted\n",
      "RDKit ERROR: [15:49:10] Explicit valence for atom # 1 C, 5, is greater than permitted\n",
      "RDKit ERROR: [15:49:10] Explicit valence for atom # 8 O, 3, is greater than permitted\n",
      "RDKit ERROR: [15:49:10] Explicit valence for atom # 8 N, 4, is greater than permitted\n",
      "RDKit ERROR: [15:49:10] Explicit valence for atom # 6 N, 4, is greater than permitted\n",
      "RDKit ERROR: [15:49:10] Explicit valence for atom # 9 O, 3, is greater than permitted\n",
      "RDKit ERROR: [15:49:10] Explicit valence for atom # 12 N, 4, is greater than permitted\n",
      "RDKit ERROR: [15:49:10] Explicit valence for atom # 23 N, 4, is greater than permitted\n",
      "RDKit ERROR: [15:49:10] Explicit valence for atom # 25 N, 4, is greater than permitted\n",
      "RDKit ERROR: [15:49:11] Explicit valence for atom # 62 N, 4, is greater than permitted\n",
      "RDKit ERROR: [15:49:11] Explicit valence for atom # 25 N, 4, is greater than permitted\n",
      "RDKit ERROR: [15:49:11] Explicit valence for atom # 4 O, 3, is greater than permitted\n",
      "RDKit ERROR: [15:49:11] Explicit valence for atom # 6 N, 4, is greater than permitted\n",
      "RDKit ERROR: [15:49:11] Explicit valence for atom # 8 N, 4, is greater than permitted\n",
      "RDKit ERROR: [15:49:11] Explicit valence for atom # 3 N, 4, is greater than permitted\n",
      "RDKit ERROR: [15:49:11] Explicit valence for atom # 4 O, 3, is greater than permitted\n"
     ]
    }
   ],
   "source": [
    "mol_From_Smiles = []\n",
    "index_Mol_Explicit_Valence = []\n",
    "index_Mol_Implicit_Valence = []\n",
    "index = 0\n",
    "for smiles in df_Without_Double_or_Triple.deglycosilated_smiles:\n",
    "    mol = Chem.MolFromSmiles(smiles)\n",
    "    if mol == None:\n",
    "        index_Mol_Explicit_Valence.append(index)\n",
    "    else:\n",
    "        mol_From_Smiles.append(mol)\n",
    "        index_Mol_Implicit_Valence.append(index)\n",
    "    index += 1    "
   ]
  },
  {
   "cell_type": "code",
   "execution_count": 212,
   "metadata": {},
   "outputs": [],
   "source": [
    "#print(index_Mol_Explicit_Valence)"
   ]
  },
  {
   "cell_type": "code",
   "execution_count": 213,
   "metadata": {},
   "outputs": [],
   "source": [
    "df_Without_Explicit_Valence = df_Without_Double_or_Triple.iloc[index_Mol_Implicit_Valence[:]]"
   ]
  },
  {
   "cell_type": "code",
   "execution_count": 214,
   "metadata": {},
   "outputs": [],
   "source": [
    "df_Without_Explicit_Valence = df_Without_Explicit_Valence.reset_index()"
   ]
  },
  {
   "cell_type": "code",
   "execution_count": 215,
   "metadata": {},
   "outputs": [],
   "source": [
    "#df_Without_Explicit_Valence"
   ]
  },
  {
   "cell_type": "code",
   "execution_count": 216,
   "metadata": {},
   "outputs": [],
   "source": [
    "fps = [AllChem.GetMorganFingerprint(mol,2,useFeatures=True) for mol in mol_From_Smiles]"
   ]
  },
  {
   "cell_type": "markdown",
   "metadata": {},
   "source": [
    "create combinations of deglycosilated_smiles for indexing"
   ]
  },
  {
   "cell_type": "code",
   "execution_count": 217,
   "metadata": {},
   "outputs": [],
   "source": [
    "aglycon_formula_for_indexing = list(df_Without_Explicit_Valence.deglycosilated_smiles)"
   ]
  },
  {
   "cell_type": "code",
   "execution_count": 218,
   "metadata": {},
   "outputs": [],
   "source": [
    "aglycon_formulas = [aglycon_pair for aglycon_pair in itertools.combinations(aglycon_formula_for_indexing, 2)]"
   ]
  },
  {
   "cell_type": "code",
   "execution_count": 219,
   "metadata": {},
   "outputs": [
    {
     "name": "stdout",
     "output_type": "stream",
     "text": [
      "221982985\n"
     ]
    }
   ],
   "source": [
    "print(len(aglycon_formulas))"
   ]
  },
  {
   "cell_type": "markdown",
   "metadata": {},
   "source": [
    "**Tanimoto Index between two different aglycons**"
   ]
  },
  {
   "cell_type": "code",
   "execution_count": 220,
   "metadata": {},
   "outputs": [],
   "source": [
    "aglycon_pairs = itertools.combinations(fps, 2)"
   ]
  },
  {
   "cell_type": "code",
   "execution_count": 221,
   "metadata": {
    "scrolled": true
   },
   "outputs": [],
   "source": [
    "aglycon1_095 = []\n",
    "aglycon2_095 = []\n",
    "tanimoto_095 = []\n",
    "aglycon1_090 = []\n",
    "aglycon2_090 = []\n",
    "tanimoto_090 = []\n",
    "aglycon1_080 = []\n",
    "aglycon2_080 = []\n",
    "tanimoto_080 = []\n",
    "counter = 0\n",
    "for pair in aglycon_pairs:\n",
    "    fingerprint = DataStructs.TanimotoSimilarity(pair[0],pair[1])\n",
    "    if fingerprint >= 0.95:\n",
    "        aglycon1_095.append(aglycon_formulas[counter][0])\n",
    "        aglycon2_095.append(aglycon_formulas[counter][1])\n",
    "        tanimoto_095.append(fingerprint)\n",
    "        aglycon1_090.append(aglycon_formulas[counter][0])\n",
    "        aglycon2_090.append(aglycon_formulas[counter][1])\n",
    "        tanimoto_090.append(fingerprint)\n",
    "        aglycon1_080.append(aglycon_formulas[counter][0])\n",
    "        aglycon2_080.append(aglycon_formulas[counter][1])\n",
    "        tanimoto_080.append(fingerprint)\n",
    "    elif fingerprint >= 0.9:\n",
    "        aglycon1_090.append(aglycon_formulas[counter][0])\n",
    "        aglycon2_090.append(aglycon_formulas[counter][1])\n",
    "        tanimoto_090.append(fingerprint)\n",
    "        aglycon1_080.append(aglycon_formulas[counter][0])\n",
    "        aglycon2_080.append(aglycon_formulas[counter][1])\n",
    "        tanimoto_080.append(fingerprint)\n",
    "    elif fingerprint >= 0.8:\n",
    "        aglycon1_080.append(aglycon_formulas[counter][0])\n",
    "        aglycon2_080.append(aglycon_formulas[counter][1])\n",
    "        tanimoto_080.append(fingerprint)\n",
    "    counter += 1"
   ]
  },
  {
   "cell_type": "code",
   "execution_count": 222,
   "metadata": {},
   "outputs": [
    {
     "name": "stdout",
     "output_type": "stream",
     "text": [
      "221982985\n"
     ]
    }
   ],
   "source": [
    "print(counter)"
   ]
  },
  {
   "cell_type": "code",
   "execution_count": 223,
   "metadata": {},
   "outputs": [],
   "source": [
    "df_comparison_095 = pd.DataFrame({\n",
    "    \"aglycon1\": aglycon1_095,\n",
    "    \"aglycon2\": aglycon2_095,\n",
    "    \"tanimoto_index\": tanimoto_095\n",
    "})"
   ]
  },
  {
   "cell_type": "code",
   "execution_count": 224,
   "metadata": {},
   "outputs": [
    {
     "data": {
      "text/html": [
       "<div>\n",
       "<style scoped>\n",
       "    .dataframe tbody tr th:only-of-type {\n",
       "        vertical-align: middle;\n",
       "    }\n",
       "\n",
       "    .dataframe tbody tr th {\n",
       "        vertical-align: top;\n",
       "    }\n",
       "\n",
       "    .dataframe thead th {\n",
       "        text-align: right;\n",
       "    }\n",
       "</style>\n",
       "<table border=\"1\" class=\"dataframe\">\n",
       "  <thead>\n",
       "    <tr style=\"text-align: right;\">\n",
       "      <th></th>\n",
       "      <th>aglycon1</th>\n",
       "      <th>aglycon2</th>\n",
       "      <th>tanimoto_index</th>\n",
       "    </tr>\n",
       "  </thead>\n",
       "  <tbody>\n",
       "    <tr>\n",
       "      <th>0</th>\n",
       "      <td>O=C(O)C=1C(OC)=CC=C(Br)C1C</td>\n",
       "      <td>O=C(O)C=1C(OC)=CC=C(Cl)C1C</td>\n",
       "      <td>1.000000</td>\n",
       "    </tr>\n",
       "    <tr>\n",
       "      <th>1</th>\n",
       "      <td>O=C1OC2C(OC(=O)C(C)CC)C(OC(C)C2C)OC3C(OC(COC(=...</td>\n",
       "      <td>O=C1OC2C(OC(=O)C(C)C)C(OC(C)C2C)OC3C(OC(COC(=O...</td>\n",
       "      <td>0.970760</td>\n",
       "    </tr>\n",
       "    <tr>\n",
       "      <th>2</th>\n",
       "      <td>O=C1OC2C(OC(=O)C(C)CC)C(OC(C)C2C)OC3C(OC(COC(=...</td>\n",
       "      <td>O=C1OC2C(OC(=O)CC(C)C)C(OC(C)C2C)OC3C(OC(COC(=...</td>\n",
       "      <td>0.965318</td>\n",
       "    </tr>\n",
       "    <tr>\n",
       "      <th>3</th>\n",
       "      <td>O=C(OC)NC1C(OC(OC2C(=CC3C=C(C)C(C)CC43OC(=O)C(...</td>\n",
       "      <td>O=C(OC)NC1C(OC(OC2C(=CC3C=C(CO)C(C)CC43OC(=O)C...</td>\n",
       "      <td>0.954248</td>\n",
       "    </tr>\n",
       "    <tr>\n",
       "      <th>4</th>\n",
       "      <td>O=C(OC)NC1C(OC(OC2C(=CC3C=C(C)C(C)CC43OC(=O)C(...</td>\n",
       "      <td>O=CC1=CC2C=C(C)C(OC3OC(C)C(NC(=O)OC)C([N+](=O)...</td>\n",
       "      <td>0.954248</td>\n",
       "    </tr>\n",
       "    <tr>\n",
       "      <th>...</th>\n",
       "      <td>...</td>\n",
       "      <td>...</td>\n",
       "      <td>...</td>\n",
       "    </tr>\n",
       "    <tr>\n",
       "      <th>3355</th>\n",
       "      <td>O=C(OCC(OC(=O)CCCCCCCCCCCCC)COP(=O)(O)OC1C(O)C...</td>\n",
       "      <td>O=C(OCC(OC(=O)CCCCCCCCCCCCCCC)COP(=O)(O)OC1C(O...</td>\n",
       "      <td>0.980892</td>\n",
       "    </tr>\n",
       "    <tr>\n",
       "      <th>3356</th>\n",
       "      <td>O=C(OCC(OC(=O)CCCCCCCCCCCCCCCCCC)COP(=O)(O)OC1...</td>\n",
       "      <td>O=C(OCC(OC(=O)CCCCCCCCCCCCCCC)COP(=O)(O)OC1C(O...</td>\n",
       "      <td>1.000000</td>\n",
       "    </tr>\n",
       "    <tr>\n",
       "      <th>3357</th>\n",
       "      <td>O=C(OCC(OC(=O)CCCCCCCCCCCCCCCCCC)COP(=O)(O)OC1...</td>\n",
       "      <td>O=C(OCC(OC(=O)CCCCCCCCCCCCCCC)COP(=O)(O)OC1C(O...</td>\n",
       "      <td>0.962500</td>\n",
       "    </tr>\n",
       "    <tr>\n",
       "      <th>3358</th>\n",
       "      <td>O=C(OCC(OC(=O)CCCCCCCCCCCCCCC)COP(=O)(O)OC1C(O...</td>\n",
       "      <td>O=C(OCC(OC(=O)CCCCCCCCCCCCCCC)COP(=O)(O)OC1C(O...</td>\n",
       "      <td>0.962500</td>\n",
       "    </tr>\n",
       "    <tr>\n",
       "      <th>3359</th>\n",
       "      <td>O=C(O[K])C(O)=CC1=CC=C(O)C=C1</td>\n",
       "      <td>O=C(OC)C(O)=CC1=CC=C(O)C=C1</td>\n",
       "      <td>1.000000</td>\n",
       "    </tr>\n",
       "  </tbody>\n",
       "</table>\n",
       "<p>3360 rows × 3 columns</p>\n",
       "</div>"
      ],
      "text/plain": [
       "                                               aglycon1  \\\n",
       "0                            O=C(O)C=1C(OC)=CC=C(Br)C1C   \n",
       "1     O=C1OC2C(OC(=O)C(C)CC)C(OC(C)C2C)OC3C(OC(COC(=...   \n",
       "2     O=C1OC2C(OC(=O)C(C)CC)C(OC(C)C2C)OC3C(OC(COC(=...   \n",
       "3     O=C(OC)NC1C(OC(OC2C(=CC3C=C(C)C(C)CC43OC(=O)C(...   \n",
       "4     O=C(OC)NC1C(OC(OC2C(=CC3C=C(C)C(C)CC43OC(=O)C(...   \n",
       "...                                                 ...   \n",
       "3355  O=C(OCC(OC(=O)CCCCCCCCCCCCC)COP(=O)(O)OC1C(O)C...   \n",
       "3356  O=C(OCC(OC(=O)CCCCCCCCCCCCCCCCCC)COP(=O)(O)OC1...   \n",
       "3357  O=C(OCC(OC(=O)CCCCCCCCCCCCCCCCCC)COP(=O)(O)OC1...   \n",
       "3358  O=C(OCC(OC(=O)CCCCCCCCCCCCCCC)COP(=O)(O)OC1C(O...   \n",
       "3359                      O=C(O[K])C(O)=CC1=CC=C(O)C=C1   \n",
       "\n",
       "                                               aglycon2  tanimoto_index  \n",
       "0                            O=C(O)C=1C(OC)=CC=C(Cl)C1C        1.000000  \n",
       "1     O=C1OC2C(OC(=O)C(C)C)C(OC(C)C2C)OC3C(OC(COC(=O...        0.970760  \n",
       "2     O=C1OC2C(OC(=O)CC(C)C)C(OC(C)C2C)OC3C(OC(COC(=...        0.965318  \n",
       "3     O=C(OC)NC1C(OC(OC2C(=CC3C=C(CO)C(C)CC43OC(=O)C...        0.954248  \n",
       "4     O=CC1=CC2C=C(C)C(OC3OC(C)C(NC(=O)OC)C([N+](=O)...        0.954248  \n",
       "...                                                 ...             ...  \n",
       "3355  O=C(OCC(OC(=O)CCCCCCCCCCCCCCC)COP(=O)(O)OC1C(O...        0.980892  \n",
       "3356  O=C(OCC(OC(=O)CCCCCCCCCCCCCCC)COP(=O)(O)OC1C(O...        1.000000  \n",
       "3357  O=C(OCC(OC(=O)CCCCCCCCCCCCCCC)COP(=O)(O)OC1C(O...        0.962500  \n",
       "3358  O=C(OCC(OC(=O)CCCCCCCCCCCCCCC)COP(=O)(O)OC1C(O...        0.962500  \n",
       "3359                        O=C(OC)C(O)=CC1=CC=C(O)C=C1        1.000000  \n",
       "\n",
       "[3360 rows x 3 columns]"
      ]
     },
     "execution_count": 224,
     "metadata": {},
     "output_type": "execute_result"
    }
   ],
   "source": [
    "df_comparison_095"
   ]
  },
  {
   "cell_type": "code",
   "execution_count": 225,
   "metadata": {},
   "outputs": [],
   "source": [
    "df_comparison_090 = pd.DataFrame({\n",
    "    \"aglycon1\": aglycon1_090,\n",
    "    \"aglycon2\": aglycon2_090,\n",
    "    \"tanimoto_index\": tanimoto_090\n",
    "})"
   ]
  },
  {
   "cell_type": "code",
   "execution_count": 226,
   "metadata": {},
   "outputs": [
    {
     "data": {
      "text/html": [
       "<div>\n",
       "<style scoped>\n",
       "    .dataframe tbody tr th:only-of-type {\n",
       "        vertical-align: middle;\n",
       "    }\n",
       "\n",
       "    .dataframe tbody tr th {\n",
       "        vertical-align: top;\n",
       "    }\n",
       "\n",
       "    .dataframe thead th {\n",
       "        text-align: right;\n",
       "    }\n",
       "</style>\n",
       "<table border=\"1\" class=\"dataframe\">\n",
       "  <thead>\n",
       "    <tr style=\"text-align: right;\">\n",
       "      <th></th>\n",
       "      <th>aglycon1</th>\n",
       "      <th>aglycon2</th>\n",
       "      <th>tanimoto_index</th>\n",
       "    </tr>\n",
       "  </thead>\n",
       "  <tbody>\n",
       "    <tr>\n",
       "      <th>0</th>\n",
       "      <td>O=C1OC(CC)C(CO)C2OC2C=CC(=O)C(C)CC(C)C(O)C(C=C1)C</td>\n",
       "      <td>O=C1OC(C)C(CO)C2OC2C=CC(=O)C(C)CC(C)C(O)C(C=C1)C</td>\n",
       "      <td>0.932432</td>\n",
       "    </tr>\n",
       "    <tr>\n",
       "      <th>1</th>\n",
       "      <td>O=C(OCC(OC(=O)CCCCCCCCCCCCCCC)COP(=O)([O-])OC1...</td>\n",
       "      <td>O=C(OCC(OC(=O)CCCCCCCCCCCCCCC)COP(=O)(O)OC1C(O...</td>\n",
       "      <td>0.944954</td>\n",
       "    </tr>\n",
       "    <tr>\n",
       "      <th>2</th>\n",
       "      <td>O=C(O)C=1C(OC)=CC=C(Br)C1C</td>\n",
       "      <td>O=C(O)C=1C(OC)=CC=C(Cl)C1C</td>\n",
       "      <td>1.000000</td>\n",
       "    </tr>\n",
       "    <tr>\n",
       "      <th>3</th>\n",
       "      <td>O=C1OC2C(OC(=O)C(C)CC)C(OC(C)C2C)OC3C(OC(COC(=...</td>\n",
       "      <td>O=C1OC2C(OC(=O)C(C)C)C(OC(C)C2C)OC3C(OC(COC(=O...</td>\n",
       "      <td>0.970760</td>\n",
       "    </tr>\n",
       "    <tr>\n",
       "      <th>4</th>\n",
       "      <td>O=C1OC2C(OC(=O)C(C)CC)C(OC(C)C2C)OC3C(OC(COC(=...</td>\n",
       "      <td>O=C1OC2C(O)C(OC(OC3C(OC(COC(=O)C(C)CC)C(O)C3O)...</td>\n",
       "      <td>0.910112</td>\n",
       "    </tr>\n",
       "    <tr>\n",
       "      <th>...</th>\n",
       "      <td>...</td>\n",
       "      <td>...</td>\n",
       "      <td>...</td>\n",
       "    </tr>\n",
       "    <tr>\n",
       "      <th>17009</th>\n",
       "      <td>O=S(=O)(O)ON=C(S)CCCCCCCCSC</td>\n",
       "      <td>O=S(=O)(O)ON=C(S)CCCCCCCCCSC</td>\n",
       "      <td>0.942308</td>\n",
       "    </tr>\n",
       "    <tr>\n",
       "      <th>17010</th>\n",
       "      <td>O=C(OC1CC(C)CNC21OC3CC4C5CCC6CC(O)CCC6(C)C5CCC...</td>\n",
       "      <td>O=C(OC1C(O)C(C)CNC21OC3CC4C5CCC6CC(O)CCC6(C)C5...</td>\n",
       "      <td>0.900990</td>\n",
       "    </tr>\n",
       "    <tr>\n",
       "      <th>17011</th>\n",
       "      <td>O=C(OCC(OC(=O)CCCCCCCCCCCCCCC)COP(=O)(O)OC1C(O...</td>\n",
       "      <td>O=C(OCC(OC(=O)CCCCCCCCCCCCCC)COP(=O)(O)OC1C(O)...</td>\n",
       "      <td>0.925000</td>\n",
       "    </tr>\n",
       "    <tr>\n",
       "      <th>17012</th>\n",
       "      <td>O=C(OCC(OC(=O)CCCCCCCCCCCCCCC)COP(=O)(O)OC1C(O...</td>\n",
       "      <td>O=C(OCC(OC(=O)CCCCCCCCC(C)CCCCCCCC)COP(=O)(O)O...</td>\n",
       "      <td>0.938650</td>\n",
       "    </tr>\n",
       "    <tr>\n",
       "      <th>17013</th>\n",
       "      <td>O=C(O[K])C(O)=CC1=CC=C(O)C=C1</td>\n",
       "      <td>O=C(OC)C(O)=CC1=CC=C(O)C=C1</td>\n",
       "      <td>1.000000</td>\n",
       "    </tr>\n",
       "  </tbody>\n",
       "</table>\n",
       "<p>17014 rows × 3 columns</p>\n",
       "</div>"
      ],
      "text/plain": [
       "                                                aglycon1  \\\n",
       "0      O=C1OC(CC)C(CO)C2OC2C=CC(=O)C(C)CC(C)C(O)C(C=C1)C   \n",
       "1      O=C(OCC(OC(=O)CCCCCCCCCCCCCCC)COP(=O)([O-])OC1...   \n",
       "2                             O=C(O)C=1C(OC)=CC=C(Br)C1C   \n",
       "3      O=C1OC2C(OC(=O)C(C)CC)C(OC(C)C2C)OC3C(OC(COC(=...   \n",
       "4      O=C1OC2C(OC(=O)C(C)CC)C(OC(C)C2C)OC3C(OC(COC(=...   \n",
       "...                                                  ...   \n",
       "17009                        O=S(=O)(O)ON=C(S)CCCCCCCCSC   \n",
       "17010  O=C(OC1CC(C)CNC21OC3CC4C5CCC6CC(O)CCC6(C)C5CCC...   \n",
       "17011  O=C(OCC(OC(=O)CCCCCCCCCCCCCCC)COP(=O)(O)OC1C(O...   \n",
       "17012  O=C(OCC(OC(=O)CCCCCCCCCCCCCCC)COP(=O)(O)OC1C(O...   \n",
       "17013                      O=C(O[K])C(O)=CC1=CC=C(O)C=C1   \n",
       "\n",
       "                                                aglycon2  tanimoto_index  \n",
       "0       O=C1OC(C)C(CO)C2OC2C=CC(=O)C(C)CC(C)C(O)C(C=C1)C        0.932432  \n",
       "1      O=C(OCC(OC(=O)CCCCCCCCCCCCCCC)COP(=O)(O)OC1C(O...        0.944954  \n",
       "2                             O=C(O)C=1C(OC)=CC=C(Cl)C1C        1.000000  \n",
       "3      O=C1OC2C(OC(=O)C(C)C)C(OC(C)C2C)OC3C(OC(COC(=O...        0.970760  \n",
       "4      O=C1OC2C(O)C(OC(OC3C(OC(COC(=O)C(C)CC)C(O)C3O)...        0.910112  \n",
       "...                                                  ...             ...  \n",
       "17009                       O=S(=O)(O)ON=C(S)CCCCCCCCCSC        0.942308  \n",
       "17010  O=C(OC1C(O)C(C)CNC21OC3CC4C5CCC6CC(O)CCC6(C)C5...        0.900990  \n",
       "17011  O=C(OCC(OC(=O)CCCCCCCCCCCCCC)COP(=O)(O)OC1C(O)...        0.925000  \n",
       "17012  O=C(OCC(OC(=O)CCCCCCCCC(C)CCCCCCCC)COP(=O)(O)O...        0.938650  \n",
       "17013                        O=C(OC)C(O)=CC1=CC=C(O)C=C1        1.000000  \n",
       "\n",
       "[17014 rows x 3 columns]"
      ]
     },
     "execution_count": 226,
     "metadata": {},
     "output_type": "execute_result"
    }
   ],
   "source": [
    "df_comparison_090"
   ]
  },
  {
   "cell_type": "code",
   "execution_count": 227,
   "metadata": {},
   "outputs": [],
   "source": [
    "df_comparison_080 = pd.DataFrame({\n",
    "    \"aglycon1\": aglycon1_080,\n",
    "    \"aglycon2\": aglycon2_080,\n",
    "    \"tanimoto_index\": tanimoto_080\n",
    "})"
   ]
  },
  {
   "cell_type": "code",
   "execution_count": 228,
   "metadata": {},
   "outputs": [
    {
     "data": {
      "text/html": [
       "<div>\n",
       "<style scoped>\n",
       "    .dataframe tbody tr th:only-of-type {\n",
       "        vertical-align: middle;\n",
       "    }\n",
       "\n",
       "    .dataframe tbody tr th {\n",
       "        vertical-align: top;\n",
       "    }\n",
       "\n",
       "    .dataframe thead th {\n",
       "        text-align: right;\n",
       "    }\n",
       "</style>\n",
       "<table border=\"1\" class=\"dataframe\">\n",
       "  <thead>\n",
       "    <tr style=\"text-align: right;\">\n",
       "      <th></th>\n",
       "      <th>aglycon1</th>\n",
       "      <th>aglycon2</th>\n",
       "      <th>tanimoto_index</th>\n",
       "    </tr>\n",
       "  </thead>\n",
       "  <tbody>\n",
       "    <tr>\n",
       "      <th>0</th>\n",
       "      <td>OCC=C(C)CCC1C(=C)CC(O)C2C(C)(CO)CCCC12C</td>\n",
       "      <td>OCC=C(C)CCC1C(=C)CC(O)C2C(C)(C)CCCC12C</td>\n",
       "      <td>0.890625</td>\n",
       "    </tr>\n",
       "    <tr>\n",
       "      <th>1</th>\n",
       "      <td>OCC=C(C)CCC1C(=C)CC(O)C2C(C)(CO)CCCC12C</td>\n",
       "      <td>OCC=C(C)CCC1C(O)(C)CC(O)C2C(C)(CO)CCCC12C</td>\n",
       "      <td>0.826087</td>\n",
       "    </tr>\n",
       "    <tr>\n",
       "      <th>2</th>\n",
       "      <td>OCC=C(C)CCC1C(=C)CC(O)C2C(C)(CO)CCCC12C</td>\n",
       "      <td>OCCC(C)CCC1C(=C)CC(O)C2C(C)(CO)CCCC12C</td>\n",
       "      <td>0.823529</td>\n",
       "    </tr>\n",
       "    <tr>\n",
       "      <th>3</th>\n",
       "      <td>OCC=C(C)CCC1C(=C)CC(O)C2C(C)(CO)CCCC12C</td>\n",
       "      <td>OCC=C(C)CCC1C(=C)CCC2C(C)(CO)CCCC12C</td>\n",
       "      <td>0.848485</td>\n",
       "    </tr>\n",
       "    <tr>\n",
       "      <th>4</th>\n",
       "      <td>OCC=C(C)CCC1C(=C)CC(O)C2C(C)(CO)CCCC12C</td>\n",
       "      <td>OCC=C(C)CCC1C(=C)CCC2C(C)(CO)CC(O)CC12C</td>\n",
       "      <td>0.823529</td>\n",
       "    </tr>\n",
       "    <tr>\n",
       "      <th>...</th>\n",
       "      <td>...</td>\n",
       "      <td>...</td>\n",
       "      <td>...</td>\n",
       "    </tr>\n",
       "    <tr>\n",
       "      <th>102053</th>\n",
       "      <td>O=C(NC(CO)C(O)CCCCCC=CCCCCCCCC)C(O)CCCCCCCCCCCCCC</td>\n",
       "      <td>O=C(NC(CO)C(O)C=CCCCC=C(C)CCCCCCCC)C(O)C=CCCCC...</td>\n",
       "      <td>0.811024</td>\n",
       "    </tr>\n",
       "    <tr>\n",
       "      <th>102054</th>\n",
       "      <td>O=C([O-])C12CCC(C(=O)OC)(C)CC2C3=CCC4C5(C)CCC(...</td>\n",
       "      <td>O=C(OC)C1(C)CCC2(C)CCC3(C(=CCC4C5(C)CCC(O)C(C)...</td>\n",
       "      <td>0.822430</td>\n",
       "    </tr>\n",
       "    <tr>\n",
       "      <th>102055</th>\n",
       "      <td>O=C1OC2CC1(C)CC3C4=CCC5C6(C)CCC(O)C(C)(C)C6CCC...</td>\n",
       "      <td>O=C(OC)C1(C)CCC2(C)CCC3(C(=CCC4C5(C)CCC(O)C(C)...</td>\n",
       "      <td>0.813725</td>\n",
       "    </tr>\n",
       "    <tr>\n",
       "      <th>102056</th>\n",
       "      <td>O=C(OC1=CC=C2C(=O)C3=C(O)C(=C(O)C=C3C(=O)C2=C1...</td>\n",
       "      <td>O=C(OC1=CC=C2C(=O)C3=C(O)C(=C(O)C=C3C(=O)C2=C1...</td>\n",
       "      <td>0.897436</td>\n",
       "    </tr>\n",
       "    <tr>\n",
       "      <th>102057</th>\n",
       "      <td>O=C(OCC(OC(=O)CCCCCCCCCCCCCC)COP(=O)(O)OC1C(O)...</td>\n",
       "      <td>O=C(OCC(OC(=O)CCCCCCCCC(C)CCCCCCCC)COP(=O)(O)O...</td>\n",
       "      <td>0.880952</td>\n",
       "    </tr>\n",
       "  </tbody>\n",
       "</table>\n",
       "<p>102058 rows × 3 columns</p>\n",
       "</div>"
      ],
      "text/plain": [
       "                                                 aglycon1  \\\n",
       "0                 OCC=C(C)CCC1C(=C)CC(O)C2C(C)(CO)CCCC12C   \n",
       "1                 OCC=C(C)CCC1C(=C)CC(O)C2C(C)(CO)CCCC12C   \n",
       "2                 OCC=C(C)CCC1C(=C)CC(O)C2C(C)(CO)CCCC12C   \n",
       "3                 OCC=C(C)CCC1C(=C)CC(O)C2C(C)(CO)CCCC12C   \n",
       "4                 OCC=C(C)CCC1C(=C)CC(O)C2C(C)(CO)CCCC12C   \n",
       "...                                                   ...   \n",
       "102053  O=C(NC(CO)C(O)CCCCCC=CCCCCCCCC)C(O)CCCCCCCCCCCCCC   \n",
       "102054  O=C([O-])C12CCC(C(=O)OC)(C)CC2C3=CCC4C5(C)CCC(...   \n",
       "102055  O=C1OC2CC1(C)CC3C4=CCC5C6(C)CCC(O)C(C)(C)C6CCC...   \n",
       "102056  O=C(OC1=CC=C2C(=O)C3=C(O)C(=C(O)C=C3C(=O)C2=C1...   \n",
       "102057  O=C(OCC(OC(=O)CCCCCCCCCCCCCC)COP(=O)(O)OC1C(O)...   \n",
       "\n",
       "                                                 aglycon2  tanimoto_index  \n",
       "0                  OCC=C(C)CCC1C(=C)CC(O)C2C(C)(C)CCCC12C        0.890625  \n",
       "1               OCC=C(C)CCC1C(O)(C)CC(O)C2C(C)(CO)CCCC12C        0.826087  \n",
       "2                  OCCC(C)CCC1C(=C)CC(O)C2C(C)(CO)CCCC12C        0.823529  \n",
       "3                    OCC=C(C)CCC1C(=C)CCC2C(C)(CO)CCCC12C        0.848485  \n",
       "4                 OCC=C(C)CCC1C(=C)CCC2C(C)(CO)CC(O)CC12C        0.823529  \n",
       "...                                                   ...             ...  \n",
       "102053  O=C(NC(CO)C(O)C=CCCCC=C(C)CCCCCCCC)C(O)C=CCCCC...        0.811024  \n",
       "102054  O=C(OC)C1(C)CCC2(C)CCC3(C(=CCC4C5(C)CCC(O)C(C)...        0.822430  \n",
       "102055  O=C(OC)C1(C)CCC2(C)CCC3(C(=CCC4C5(C)CCC(O)C(C)...        0.813725  \n",
       "102056  O=C(OC1=CC=C2C(=O)C3=C(O)C(=C(O)C=C3C(=O)C2=C1...        0.897436  \n",
       "102057  O=C(OCC(OC(=O)CCCCCCCCC(C)CCCCCCCC)COP(=O)(O)O...        0.880952  \n",
       "\n",
       "[102058 rows x 3 columns]"
      ]
     },
     "execution_count": 228,
     "metadata": {},
     "output_type": "execute_result"
    }
   ],
   "source": [
    "df_comparison_080"
   ]
  },
  {
   "cell_type": "markdown",
   "metadata": {},
   "source": [
    "**merging dataframe and taxonomies**"
   ]
  },
  {
   "cell_type": "code",
   "execution_count": 229,
   "metadata": {},
   "outputs": [],
   "source": [
    "df_aglycon_taxes_1 = pd.DataFrame({\n",
    "    \"aglycon1\": df_Without_Double.deglycosilated_smiles,\n",
    "    \"taxonomy1\": df_Without_Double.taxonomy,\n",
    "})"
   ]
  },
  {
   "cell_type": "code",
   "execution_count": 230,
   "metadata": {},
   "outputs": [],
   "source": [
    "df_aglycon_taxes_2 = pd.DataFrame({\n",
    "    \"aglycon2\": df_Without_Double.deglycosilated_smiles,\n",
    "    \"taxonomy2\": df_Without_Double.taxonomy,\n",
    "})"
   ]
  },
  {
   "cell_type": "markdown",
   "metadata": {},
   "source": [
    "*df_comparison_095*"
   ]
  },
  {
   "cell_type": "code",
   "execution_count": 231,
   "metadata": {},
   "outputs": [],
   "source": [
    "df_comparison_095 = pd.merge(df_comparison_095, df_aglycon_taxes_1, how=\"left\", on=\"aglycon1\")"
   ]
  },
  {
   "cell_type": "code",
   "execution_count": 232,
   "metadata": {},
   "outputs": [],
   "source": [
    "df_comparison_095 = pd.merge(df_comparison_095, df_aglycon_taxes_2, how=\"left\", on=\"aglycon2\")"
   ]
  },
  {
   "cell_type": "code",
   "execution_count": 233,
   "metadata": {},
   "outputs": [
    {
     "data": {
      "text/html": [
       "<div>\n",
       "<style scoped>\n",
       "    .dataframe tbody tr th:only-of-type {\n",
       "        vertical-align: middle;\n",
       "    }\n",
       "\n",
       "    .dataframe tbody tr th {\n",
       "        vertical-align: top;\n",
       "    }\n",
       "\n",
       "    .dataframe thead th {\n",
       "        text-align: right;\n",
       "    }\n",
       "</style>\n",
       "<table border=\"1\" class=\"dataframe\">\n",
       "  <thead>\n",
       "    <tr style=\"text-align: right;\">\n",
       "      <th></th>\n",
       "      <th>aglycon1</th>\n",
       "      <th>aglycon2</th>\n",
       "      <th>tanimoto_index</th>\n",
       "      <th>taxonomy1</th>\n",
       "      <th>taxonomy2</th>\n",
       "    </tr>\n",
       "  </thead>\n",
       "  <tbody>\n",
       "    <tr>\n",
       "      <th>0</th>\n",
       "      <td>O=C(O)C=1C(OC)=CC=C(Br)C1C</td>\n",
       "      <td>O=C(O)C=1C(OC)=CC=C(Cl)C1C</td>\n",
       "      <td>1.000000</td>\n",
       "      <td>{plants}</td>\n",
       "      <td>{bacteria}</td>\n",
       "    </tr>\n",
       "    <tr>\n",
       "      <th>1</th>\n",
       "      <td>O=C1OC2C(OC(=O)C(C)CC)C(OC(C)C2C)OC3C(OC(COC(=...</td>\n",
       "      <td>O=C1OC2C(OC(=O)C(C)C)C(OC(C)C2C)OC3C(OC(COC(=O...</td>\n",
       "      <td>0.970760</td>\n",
       "      <td>{plants}</td>\n",
       "      <td>{plants}</td>\n",
       "    </tr>\n",
       "    <tr>\n",
       "      <th>2</th>\n",
       "      <td>O=C1OC2C(OC(=O)C(C)CC)C(OC(C)C2C)OC3C(OC(COC(=...</td>\n",
       "      <td>O=C1OC2C(OC(=O)CC(C)C)C(OC(C)C2C)OC3C(OC(COC(=...</td>\n",
       "      <td>0.965318</td>\n",
       "      <td>{plants}</td>\n",
       "      <td>{plants}</td>\n",
       "    </tr>\n",
       "    <tr>\n",
       "      <th>3</th>\n",
       "      <td>O=C(OC)NC1C(OC(OC2C(=CC3C=C(C)C(C)CC43OC(=O)C(...</td>\n",
       "      <td>O=C(OC)NC1C(OC(OC2C(=CC3C=C(CO)C(C)CC43OC(=O)C...</td>\n",
       "      <td>0.954248</td>\n",
       "      <td>{no}</td>\n",
       "      <td>{no}</td>\n",
       "    </tr>\n",
       "    <tr>\n",
       "      <th>4</th>\n",
       "      <td>O=C(OC)NC1C(OC(OC2C(=CC3C=C(C)C(C)CC43OC(=O)C(...</td>\n",
       "      <td>O=CC1=CC2C=C(C)C(OC3OC(C)C(NC(=O)OC)C([N+](=O)...</td>\n",
       "      <td>0.954248</td>\n",
       "      <td>{no}</td>\n",
       "      <td>{no}</td>\n",
       "    </tr>\n",
       "    <tr>\n",
       "      <th>...</th>\n",
       "      <td>...</td>\n",
       "      <td>...</td>\n",
       "      <td>...</td>\n",
       "      <td>...</td>\n",
       "      <td>...</td>\n",
       "    </tr>\n",
       "    <tr>\n",
       "      <th>3355</th>\n",
       "      <td>O=C(OCC(OC(=O)CCCCCCCCCCCCC)COP(=O)(O)OC1C(O)C...</td>\n",
       "      <td>O=C(OCC(OC(=O)CCCCCCCCCCCCCCC)COP(=O)(O)OC1C(O...</td>\n",
       "      <td>0.980892</td>\n",
       "      <td>{no}</td>\n",
       "      <td>{no}</td>\n",
       "    </tr>\n",
       "    <tr>\n",
       "      <th>3356</th>\n",
       "      <td>O=C(OCC(OC(=O)CCCCCCCCCCCCCCCCCC)COP(=O)(O)OC1...</td>\n",
       "      <td>O=C(OCC(OC(=O)CCCCCCCCCCCCCCC)COP(=O)(O)OC1C(O...</td>\n",
       "      <td>1.000000</td>\n",
       "      <td>{no}</td>\n",
       "      <td>{no}</td>\n",
       "    </tr>\n",
       "    <tr>\n",
       "      <th>3357</th>\n",
       "      <td>O=C(OCC(OC(=O)CCCCCCCCCCCCCCCCCC)COP(=O)(O)OC1...</td>\n",
       "      <td>O=C(OCC(OC(=O)CCCCCCCCCCCCCCC)COP(=O)(O)OC1C(O...</td>\n",
       "      <td>0.962500</td>\n",
       "      <td>{no}</td>\n",
       "      <td>{no}</td>\n",
       "    </tr>\n",
       "    <tr>\n",
       "      <th>3358</th>\n",
       "      <td>O=C(OCC(OC(=O)CCCCCCCCCCCCCCC)COP(=O)(O)OC1C(O...</td>\n",
       "      <td>O=C(OCC(OC(=O)CCCCCCCCCCCCCCC)COP(=O)(O)OC1C(O...</td>\n",
       "      <td>0.962500</td>\n",
       "      <td>{no}</td>\n",
       "      <td>{no}</td>\n",
       "    </tr>\n",
       "    <tr>\n",
       "      <th>3359</th>\n",
       "      <td>O=C(O[K])C(O)=CC1=CC=C(O)C=C1</td>\n",
       "      <td>O=C(OC)C(O)=CC1=CC=C(O)C=C1</td>\n",
       "      <td>1.000000</td>\n",
       "      <td>{no}</td>\n",
       "      <td>{no}</td>\n",
       "    </tr>\n",
       "  </tbody>\n",
       "</table>\n",
       "<p>3360 rows × 5 columns</p>\n",
       "</div>"
      ],
      "text/plain": [
       "                                               aglycon1  \\\n",
       "0                            O=C(O)C=1C(OC)=CC=C(Br)C1C   \n",
       "1     O=C1OC2C(OC(=O)C(C)CC)C(OC(C)C2C)OC3C(OC(COC(=...   \n",
       "2     O=C1OC2C(OC(=O)C(C)CC)C(OC(C)C2C)OC3C(OC(COC(=...   \n",
       "3     O=C(OC)NC1C(OC(OC2C(=CC3C=C(C)C(C)CC43OC(=O)C(...   \n",
       "4     O=C(OC)NC1C(OC(OC2C(=CC3C=C(C)C(C)CC43OC(=O)C(...   \n",
       "...                                                 ...   \n",
       "3355  O=C(OCC(OC(=O)CCCCCCCCCCCCC)COP(=O)(O)OC1C(O)C...   \n",
       "3356  O=C(OCC(OC(=O)CCCCCCCCCCCCCCCCCC)COP(=O)(O)OC1...   \n",
       "3357  O=C(OCC(OC(=O)CCCCCCCCCCCCCCCCCC)COP(=O)(O)OC1...   \n",
       "3358  O=C(OCC(OC(=O)CCCCCCCCCCCCCCC)COP(=O)(O)OC1C(O...   \n",
       "3359                      O=C(O[K])C(O)=CC1=CC=C(O)C=C1   \n",
       "\n",
       "                                               aglycon2  tanimoto_index  \\\n",
       "0                            O=C(O)C=1C(OC)=CC=C(Cl)C1C        1.000000   \n",
       "1     O=C1OC2C(OC(=O)C(C)C)C(OC(C)C2C)OC3C(OC(COC(=O...        0.970760   \n",
       "2     O=C1OC2C(OC(=O)CC(C)C)C(OC(C)C2C)OC3C(OC(COC(=...        0.965318   \n",
       "3     O=C(OC)NC1C(OC(OC2C(=CC3C=C(CO)C(C)CC43OC(=O)C...        0.954248   \n",
       "4     O=CC1=CC2C=C(C)C(OC3OC(C)C(NC(=O)OC)C([N+](=O)...        0.954248   \n",
       "...                                                 ...             ...   \n",
       "3355  O=C(OCC(OC(=O)CCCCCCCCCCCCCCC)COP(=O)(O)OC1C(O...        0.980892   \n",
       "3356  O=C(OCC(OC(=O)CCCCCCCCCCCCCCC)COP(=O)(O)OC1C(O...        1.000000   \n",
       "3357  O=C(OCC(OC(=O)CCCCCCCCCCCCCCC)COP(=O)(O)OC1C(O...        0.962500   \n",
       "3358  O=C(OCC(OC(=O)CCCCCCCCCCCCCCC)COP(=O)(O)OC1C(O...        0.962500   \n",
       "3359                        O=C(OC)C(O)=CC1=CC=C(O)C=C1        1.000000   \n",
       "\n",
       "     taxonomy1   taxonomy2  \n",
       "0     {plants}  {bacteria}  \n",
       "1     {plants}    {plants}  \n",
       "2     {plants}    {plants}  \n",
       "3         {no}        {no}  \n",
       "4         {no}        {no}  \n",
       "...        ...         ...  \n",
       "3355      {no}        {no}  \n",
       "3356      {no}        {no}  \n",
       "3357      {no}        {no}  \n",
       "3358      {no}        {no}  \n",
       "3359      {no}        {no}  \n",
       "\n",
       "[3360 rows x 5 columns]"
      ]
     },
     "execution_count": 233,
     "metadata": {},
     "output_type": "execute_result"
    }
   ],
   "source": [
    "df_comparison_095"
   ]
  },
  {
   "cell_type": "markdown",
   "metadata": {},
   "source": [
    "*change tax-sets to values from 1 to 5*"
   ]
  },
  {
   "cell_type": "code",
   "execution_count": 234,
   "metadata": {},
   "outputs": [],
   "source": [
    "tax1_to_value_095 = df_comparison_095.taxonomy1.replace([{\"no\"},{\"plants\"},{\"bacteria\"},{\"animals\"},{\"fungi\"}],[1,2,3,4,5])"
   ]
  },
  {
   "cell_type": "code",
   "execution_count": 235,
   "metadata": {},
   "outputs": [],
   "source": [
    "tax2_to_value_095 = df_comparison_095.taxonomy2.replace([{\"no\"},{\"plants\"},{\"bacteria\"},{\"animals\"},{\"fungi\"}],[1,2,3,4,5])"
   ]
  },
  {
   "cell_type": "code",
   "execution_count": 236,
   "metadata": {},
   "outputs": [],
   "source": [
    "df_comparison_095[\"tax1_as_value\"] = tax1_to_value_095"
   ]
  },
  {
   "cell_type": "code",
   "execution_count": 237,
   "metadata": {},
   "outputs": [],
   "source": [
    "df_comparison_095[\"tax2_as_value\"] = tax2_to_value_095"
   ]
  },
  {
   "cell_type": "code",
   "execution_count": 238,
   "metadata": {},
   "outputs": [],
   "source": [
    "df_comparison_095.to_csv(\"fingerprint_comparison095.tsv\",sep=\"\\t\")"
   ]
  },
  {
   "cell_type": "markdown",
   "metadata": {},
   "source": [
    "*df_comparison_090*"
   ]
  },
  {
   "cell_type": "code",
   "execution_count": 239,
   "metadata": {},
   "outputs": [],
   "source": [
    "df_comparison_090 = pd.merge(df_comparison_090, df_aglycon_taxes_1, how=\"left\", on=\"aglycon1\")"
   ]
  },
  {
   "cell_type": "code",
   "execution_count": 240,
   "metadata": {},
   "outputs": [],
   "source": [
    "df_comparison_090 = pd.merge(df_comparison_090, df_aglycon_taxes_2, how=\"left\", on=\"aglycon2\")"
   ]
  },
  {
   "cell_type": "code",
   "execution_count": 241,
   "metadata": {},
   "outputs": [
    {
     "data": {
      "text/html": [
       "<div>\n",
       "<style scoped>\n",
       "    .dataframe tbody tr th:only-of-type {\n",
       "        vertical-align: middle;\n",
       "    }\n",
       "\n",
       "    .dataframe tbody tr th {\n",
       "        vertical-align: top;\n",
       "    }\n",
       "\n",
       "    .dataframe thead th {\n",
       "        text-align: right;\n",
       "    }\n",
       "</style>\n",
       "<table border=\"1\" class=\"dataframe\">\n",
       "  <thead>\n",
       "    <tr style=\"text-align: right;\">\n",
       "      <th></th>\n",
       "      <th>aglycon1</th>\n",
       "      <th>aglycon2</th>\n",
       "      <th>tanimoto_index</th>\n",
       "      <th>taxonomy1</th>\n",
       "      <th>taxonomy2</th>\n",
       "    </tr>\n",
       "  </thead>\n",
       "  <tbody>\n",
       "    <tr>\n",
       "      <th>0</th>\n",
       "      <td>O=C1OC(CC)C(CO)C2OC2C=CC(=O)C(C)CC(C)C(O)C(C=C1)C</td>\n",
       "      <td>O=C1OC(C)C(CO)C2OC2C=CC(=O)C(C)CC(C)C(O)C(C=C1)C</td>\n",
       "      <td>0.932432</td>\n",
       "      <td>{no}</td>\n",
       "      <td>{bacteria}</td>\n",
       "    </tr>\n",
       "    <tr>\n",
       "      <th>1</th>\n",
       "      <td>O=C(OCC(OC(=O)CCCCCCCCCCCCCCC)COP(=O)([O-])OC1...</td>\n",
       "      <td>O=C(OCC(OC(=O)CCCCCCCCCCCCCCC)COP(=O)(O)OC1C(O...</td>\n",
       "      <td>0.944954</td>\n",
       "      <td>{no}</td>\n",
       "      <td>{no}</td>\n",
       "    </tr>\n",
       "    <tr>\n",
       "      <th>2</th>\n",
       "      <td>O=C(O)C=1C(OC)=CC=C(Br)C1C</td>\n",
       "      <td>O=C(O)C=1C(OC)=CC=C(Cl)C1C</td>\n",
       "      <td>1.000000</td>\n",
       "      <td>{plants}</td>\n",
       "      <td>{bacteria}</td>\n",
       "    </tr>\n",
       "    <tr>\n",
       "      <th>3</th>\n",
       "      <td>O=C1OC2C(OC(=O)C(C)CC)C(OC(C)C2C)OC3C(OC(COC(=...</td>\n",
       "      <td>O=C1OC2C(OC(=O)C(C)C)C(OC(C)C2C)OC3C(OC(COC(=O...</td>\n",
       "      <td>0.970760</td>\n",
       "      <td>{plants}</td>\n",
       "      <td>{plants}</td>\n",
       "    </tr>\n",
       "    <tr>\n",
       "      <th>4</th>\n",
       "      <td>O=C1OC2C(OC(=O)C(C)CC)C(OC(C)C2C)OC3C(OC(COC(=...</td>\n",
       "      <td>O=C1OC2C(O)C(OC(OC3C(OC(COC(=O)C(C)CC)C(O)C3O)...</td>\n",
       "      <td>0.910112</td>\n",
       "      <td>{plants}</td>\n",
       "      <td>{no}</td>\n",
       "    </tr>\n",
       "    <tr>\n",
       "      <th>...</th>\n",
       "      <td>...</td>\n",
       "      <td>...</td>\n",
       "      <td>...</td>\n",
       "      <td>...</td>\n",
       "      <td>...</td>\n",
       "    </tr>\n",
       "    <tr>\n",
       "      <th>17009</th>\n",
       "      <td>O=S(=O)(O)ON=C(S)CCCCCCCCSC</td>\n",
       "      <td>O=S(=O)(O)ON=C(S)CCCCCCCCCSC</td>\n",
       "      <td>0.942308</td>\n",
       "      <td>{no}</td>\n",
       "      <td>{no}</td>\n",
       "    </tr>\n",
       "    <tr>\n",
       "      <th>17010</th>\n",
       "      <td>O=C(OC1CC(C)CNC21OC3CC4C5CCC6CC(O)CCC6(C)C5CCC...</td>\n",
       "      <td>O=C(OC1C(O)C(C)CNC21OC3CC4C5CCC6CC(O)CCC6(C)C5...</td>\n",
       "      <td>0.900990</td>\n",
       "      <td>{no}</td>\n",
       "      <td>{no}</td>\n",
       "    </tr>\n",
       "    <tr>\n",
       "      <th>17011</th>\n",
       "      <td>O=C(OCC(OC(=O)CCCCCCCCCCCCCCC)COP(=O)(O)OC1C(O...</td>\n",
       "      <td>O=C(OCC(OC(=O)CCCCCCCCCCCCCC)COP(=O)(O)OC1C(O)...</td>\n",
       "      <td>0.925000</td>\n",
       "      <td>{no}</td>\n",
       "      <td>{no}</td>\n",
       "    </tr>\n",
       "    <tr>\n",
       "      <th>17012</th>\n",
       "      <td>O=C(OCC(OC(=O)CCCCCCCCCCCCCCC)COP(=O)(O)OC1C(O...</td>\n",
       "      <td>O=C(OCC(OC(=O)CCCCCCCCC(C)CCCCCCCC)COP(=O)(O)O...</td>\n",
       "      <td>0.938650</td>\n",
       "      <td>{no}</td>\n",
       "      <td>{no}</td>\n",
       "    </tr>\n",
       "    <tr>\n",
       "      <th>17013</th>\n",
       "      <td>O=C(O[K])C(O)=CC1=CC=C(O)C=C1</td>\n",
       "      <td>O=C(OC)C(O)=CC1=CC=C(O)C=C1</td>\n",
       "      <td>1.000000</td>\n",
       "      <td>{no}</td>\n",
       "      <td>{no}</td>\n",
       "    </tr>\n",
       "  </tbody>\n",
       "</table>\n",
       "<p>17014 rows × 5 columns</p>\n",
       "</div>"
      ],
      "text/plain": [
       "                                                aglycon1  \\\n",
       "0      O=C1OC(CC)C(CO)C2OC2C=CC(=O)C(C)CC(C)C(O)C(C=C1)C   \n",
       "1      O=C(OCC(OC(=O)CCCCCCCCCCCCCCC)COP(=O)([O-])OC1...   \n",
       "2                             O=C(O)C=1C(OC)=CC=C(Br)C1C   \n",
       "3      O=C1OC2C(OC(=O)C(C)CC)C(OC(C)C2C)OC3C(OC(COC(=...   \n",
       "4      O=C1OC2C(OC(=O)C(C)CC)C(OC(C)C2C)OC3C(OC(COC(=...   \n",
       "...                                                  ...   \n",
       "17009                        O=S(=O)(O)ON=C(S)CCCCCCCCSC   \n",
       "17010  O=C(OC1CC(C)CNC21OC3CC4C5CCC6CC(O)CCC6(C)C5CCC...   \n",
       "17011  O=C(OCC(OC(=O)CCCCCCCCCCCCCCC)COP(=O)(O)OC1C(O...   \n",
       "17012  O=C(OCC(OC(=O)CCCCCCCCCCCCCCC)COP(=O)(O)OC1C(O...   \n",
       "17013                      O=C(O[K])C(O)=CC1=CC=C(O)C=C1   \n",
       "\n",
       "                                                aglycon2  tanimoto_index  \\\n",
       "0       O=C1OC(C)C(CO)C2OC2C=CC(=O)C(C)CC(C)C(O)C(C=C1)C        0.932432   \n",
       "1      O=C(OCC(OC(=O)CCCCCCCCCCCCCCC)COP(=O)(O)OC1C(O...        0.944954   \n",
       "2                             O=C(O)C=1C(OC)=CC=C(Cl)C1C        1.000000   \n",
       "3      O=C1OC2C(OC(=O)C(C)C)C(OC(C)C2C)OC3C(OC(COC(=O...        0.970760   \n",
       "4      O=C1OC2C(O)C(OC(OC3C(OC(COC(=O)C(C)CC)C(O)C3O)...        0.910112   \n",
       "...                                                  ...             ...   \n",
       "17009                       O=S(=O)(O)ON=C(S)CCCCCCCCCSC        0.942308   \n",
       "17010  O=C(OC1C(O)C(C)CNC21OC3CC4C5CCC6CC(O)CCC6(C)C5...        0.900990   \n",
       "17011  O=C(OCC(OC(=O)CCCCCCCCCCCCCC)COP(=O)(O)OC1C(O)...        0.925000   \n",
       "17012  O=C(OCC(OC(=O)CCCCCCCCC(C)CCCCCCCC)COP(=O)(O)O...        0.938650   \n",
       "17013                        O=C(OC)C(O)=CC1=CC=C(O)C=C1        1.000000   \n",
       "\n",
       "      taxonomy1   taxonomy2  \n",
       "0          {no}  {bacteria}  \n",
       "1          {no}        {no}  \n",
       "2      {plants}  {bacteria}  \n",
       "3      {plants}    {plants}  \n",
       "4      {plants}        {no}  \n",
       "...         ...         ...  \n",
       "17009      {no}        {no}  \n",
       "17010      {no}        {no}  \n",
       "17011      {no}        {no}  \n",
       "17012      {no}        {no}  \n",
       "17013      {no}        {no}  \n",
       "\n",
       "[17014 rows x 5 columns]"
      ]
     },
     "execution_count": 241,
     "metadata": {},
     "output_type": "execute_result"
    }
   ],
   "source": [
    "df_comparison_090"
   ]
  },
  {
   "cell_type": "markdown",
   "metadata": {},
   "source": [
    "*change tax-sets to values from 1 to 5*"
   ]
  },
  {
   "cell_type": "code",
   "execution_count": 242,
   "metadata": {},
   "outputs": [],
   "source": [
    "tax1_to_value_090 = df_comparison_090.taxonomy1.replace([{\"no\"},{\"plants\"},{\"bacteria\"},{\"animals\"},{\"fungi\"}],[1,2,3,4,5])"
   ]
  },
  {
   "cell_type": "code",
   "execution_count": 243,
   "metadata": {},
   "outputs": [],
   "source": [
    "tax2_to_value_090 = df_comparison_090.taxonomy2.replace([{\"no\"},{\"plants\"},{\"bacteria\"},{\"animals\"},{\"fungi\"}],[1,2,3,4,5])"
   ]
  },
  {
   "cell_type": "code",
   "execution_count": 244,
   "metadata": {},
   "outputs": [],
   "source": [
    "df_comparison_090[\"tax1_as_value\"] = tax1_to_value_090"
   ]
  },
  {
   "cell_type": "code",
   "execution_count": 245,
   "metadata": {},
   "outputs": [],
   "source": [
    "df_comparison_090[\"tax2_as_value\"] = tax2_to_value_090"
   ]
  },
  {
   "cell_type": "code",
   "execution_count": 246,
   "metadata": {},
   "outputs": [],
   "source": [
    "df_comparison_090.to_csv(\"fingerprint_comparison090.tsv\",sep=\"\\t\")"
   ]
  },
  {
   "cell_type": "markdown",
   "metadata": {},
   "source": [
    "*df_comparison_080*"
   ]
  },
  {
   "cell_type": "code",
   "execution_count": 247,
   "metadata": {},
   "outputs": [],
   "source": [
    "df_comparison_080 = pd.merge(df_comparison_080, df_aglycon_taxes_1, how=\"left\", on=\"aglycon1\")"
   ]
  },
  {
   "cell_type": "code",
   "execution_count": 248,
   "metadata": {},
   "outputs": [],
   "source": [
    "df_comparison_080 = pd.merge(df_comparison_080, df_aglycon_taxes_2, how=\"left\", on=\"aglycon2\")"
   ]
  },
  {
   "cell_type": "markdown",
   "metadata": {},
   "source": [
    "*change tax-sets to values from 1 to 5*"
   ]
  },
  {
   "cell_type": "code",
   "execution_count": 249,
   "metadata": {},
   "outputs": [],
   "source": [
    "tax1_to_value_080 = df_comparison_080.taxonomy1.replace([{\"no\"},{\"plants\"},{\"bacteria\"},{\"animals\"},{\"fungi\"}],[1,2,3,4,5])"
   ]
  },
  {
   "cell_type": "code",
   "execution_count": 250,
   "metadata": {},
   "outputs": [],
   "source": [
    "tax2_to_value_080 = df_comparison_080.taxonomy2.replace([{\"no\"},{\"plants\"},{\"bacteria\"},{\"animals\"},{\"fungi\"}],[1,2,3,4,5])"
   ]
  },
  {
   "cell_type": "code",
   "execution_count": 251,
   "metadata": {},
   "outputs": [],
   "source": [
    "df_comparison_080[\"tax1_as_value\"] = tax1_to_value_080"
   ]
  },
  {
   "cell_type": "code",
   "execution_count": 252,
   "metadata": {},
   "outputs": [],
   "source": [
    "df_comparison_080[\"tax2_as_value\"] = tax2_to_value_080"
   ]
  },
  {
   "cell_type": "code",
   "execution_count": 253,
   "metadata": {},
   "outputs": [],
   "source": [
    "df_comparison_080.to_csv(\"fingerprint_comparison080.tsv\",sep=\"\\t\")"
   ]
  },
  {
   "cell_type": "code",
   "execution_count": null,
   "metadata": {},
   "outputs": [],
   "source": []
  }
 ],
 "metadata": {
  "kernelspec": {
   "display_name": "Python 3",
   "language": "python",
   "name": "python3"
  },
  "language_info": {
   "codemirror_mode": {
    "name": "ipython",
    "version": 3
   },
   "file_extension": ".py",
   "mimetype": "text/x-python",
   "name": "python",
   "nbconvert_exporter": "python",
   "pygments_lexer": "ipython3",
   "version": "3.7.9"
  }
 },
 "nbformat": 4,
 "nbformat_minor": 4
}
