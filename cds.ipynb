{
 "cells": [
  {
   "cell_type": "code",
   "execution_count": 1,
   "metadata": {},
   "outputs": [],
   "source": [
    "from pymongo import MongoClient\n",
    "from rdkit import Chem\n",
    "from rdkit.Chem import Draw\n",
    "import pandas as pd\n",
    "import numpy as np\n",
    "import matplotlib.pyplot as plt\n",
    "#import matplotlib_venn as venn3\n",
    "from math import *\n",
    "import os\n",
    "from rdkit.Chem import AllChem\n",
    "from rdkit import DataStructs\n",
    "from rdkit.Chem import Descriptors\n",
    "\n",
    "#\n",
    "import itertools"
   ]
  },
  {
   "cell_type": "markdown",
   "metadata": {},
   "source": [
    "cannot import venn diagram modul from matplotlib\n",
    "/Users/jonas/opt/anaconda3/envs/my-rdkit-env/lib/python3.7/site-packages"
   ]
  },
  {
   "cell_type": "code",
   "execution_count": 2,
   "metadata": {},
   "outputs": [],
   "source": [
    "%matplotlib inline"
   ]
  },
  {
   "cell_type": "markdown",
   "metadata": {},
   "source": [
    "**Complete Databank**"
   ]
  },
  {
   "cell_type": "code",
   "execution_count": 3,
   "metadata": {},
   "outputs": [],
   "source": [
    "client = MongoClient(\"localhost:27017\")\n",
    "db_complete = client['COCONUT2020-10']"
   ]
  },
  {
   "cell_type": "code",
   "execution_count": 4,
   "metadata": {
    "scrolled": true
   },
   "outputs": [],
   "source": [
    "collection = db_complete.uniqueNaturalProduct\n",
    "db_complete_only_ring_sugars = pd.DataFrame(list(collection.find({\"contains_ring_sugars\": True})))"
   ]
  },
  {
   "cell_type": "code",
   "execution_count": 5,
   "metadata": {},
   "outputs": [],
   "source": [
    "all_tax_df = pd.DataFrame({\"taxonomy\": db_complete_only_ring_sugars[\"textTaxa\"],\n",
    "                       \"smiles\": db_complete_only_ring_sugars[\"smiles\"],\n",
    "                       \"coconut_id\": db_complete_only_ring_sugars[\"coconut_id\"],\n",
    "                       \"no_sugar_smiles\": db_complete_only_ring_sugars[\"sugar_free_smiles\"]\n",
    "                      })"
   ]
  },
  {
   "cell_type": "code",
   "execution_count": 10,
   "metadata": {
    "scrolled": true
   },
   "outputs": [],
   "source": [
    "#display(all_tax_df)"
   ]
  },
  {
   "cell_type": "code",
   "execution_count": 11,
   "metadata": {},
   "outputs": [],
   "source": [
    "all_names = []\n",
    "indexes = []\n",
    "for i in range(len(all_tax_df.taxonomy)):\n",
    "    # some entries are empty lists\n",
    "    if all_tax_df.taxonomy[i] == []:\n",
    "        pass\n",
    "    # doubles\n",
    "    elif \"plants\" in all_tax_df.taxonomy[i] or \"bacteria\" in all_tax_df.taxonomy[i] or \"marine\" in all_tax_df.taxonomy[i] or \"animals\" in all_tax_df.taxonomy[i] or \"fungi\" in all_tax_df.taxonomy[i]:\n",
    "        indexes.append(i)\n",
    "        all_names.append(all_tax_df.taxonomy[i])\n",
    "        \n",
    "        \n",
    "    "
   ]
  },
  {
   "cell_type": "code",
   "execution_count": 12,
   "metadata": {},
   "outputs": [],
   "source": [
    "five_tax_df = all_tax_df.loc[indexes[:]]"
   ]
  },
  {
   "cell_type": "code",
   "execution_count": 13,
   "metadata": {},
   "outputs": [],
   "source": [
    "#five_tax_df"
   ]
  },
  {
   "cell_type": "code",
   "execution_count": 14,
   "metadata": {},
   "outputs": [],
   "source": [
    "five_tax_and_id_df = pd.DataFrame({\"taxonomy\": five_tax_df.taxonomy,\n",
    "                                   \"coconut_id\": five_tax_df.coconut_id})"
   ]
  },
  {
   "cell_type": "code",
   "execution_count": 15,
   "metadata": {},
   "outputs": [],
   "source": [
    "needless_names = []\n",
    "for row in five_tax_and_id_df.taxonomy:\n",
    "    for name in row:\n",
    "        if name == \"plants\":\n",
    "            pass\n",
    "        elif name == \"bacteria\":\n",
    "            pass\n",
    "        elif name == \"fungi\":\n",
    "            pass\n",
    "        elif name == \"marine\":\n",
    "            pass\n",
    "        elif name == \"animals\":\n",
    "            pass\n",
    "        else:\n",
    "            needless_names.append(name)"
   ]
  },
  {
   "cell_type": "code",
   "execution_count": 20,
   "metadata": {},
   "outputs": [],
   "source": [
    "for needless_name in needless_names:\n",
    "    for row in five_tax_and_id_df.taxonomy:\n",
    "        if needless_name in row:\n",
    "            row.remove(needless_name)\n",
    "            \n",
    "            "
   ]
  },
  {
   "cell_type": "code",
   "execution_count": 21,
   "metadata": {},
   "outputs": [],
   "source": [
    "#count2_plants = 0\n",
    "#count2_animals = 0\n",
    "#count2_bacteria = 0\n",
    "#count2_marine = 0\n",
    "#count2_fungi = 0"
   ]
  },
  {
   "cell_type": "code",
   "execution_count": 22,
   "metadata": {},
   "outputs": [],
   "source": [
    "#for test_if_all_there in five_tax_and_id_df.taxonomy:\n",
    "#        if \"plants\" in unique_tax:\n",
    "#            count2_plants += 1\n",
    "#        if \"bacteria\" in unique_tax:\n",
    "#            count2_bacteria += 1\n",
    "#        if \"marine\" in unique_tax:\n",
    "#            count2_marine += 1\n",
    "#        if \"animals\" in unique_tax:\n",
    "#            count2_animals += 1\n",
    "#        if \"fungi\" in unique_tax:\n",
    "#            count2_fungi += 1\n",
    "        "
   ]
  },
  {
   "cell_type": "code",
   "execution_count": 23,
   "metadata": {},
   "outputs": [],
   "source": [
    "#comparing2 = {\"plants\":count_plants,\"animals\":count_animals,\"bacteria\":count_bacteria,\"fungi\":count_fungi,\"marine\":count_marine}"
   ]
  },
  {
   "cell_type": "code",
   "execution_count": 24,
   "metadata": {},
   "outputs": [],
   "source": [
    "#comparing2"
   ]
  },
  {
   "cell_type": "markdown",
   "metadata": {},
   "source": [
    "**Sweetcoconut Databank**"
   ]
  },
  {
   "cell_type": "code",
   "execution_count": 25,
   "metadata": {},
   "outputs": [],
   "source": [
    "client2 = MongoClient(\"localhost:27017\")\n",
    "db_s = client2[\"sweetcoconut\"]\n",
    "collection2 = db_s.sweetNaturalProduct\n",
    "sweetnp = pd.DataFrame(list(collection2.find({\"contains_sugar\": True})))"
   ]
  },
  {
   "cell_type": "code",
   "execution_count": 26,
   "metadata": {},
   "outputs": [],
   "source": [
    "sweetnp_with_plants_tax_nan = pd.merge(sweetnp, five_tax_and_id_df, how=\"left\", on=\"coconut_id\")"
   ]
  },
  {
   "cell_type": "code",
   "execution_count": 27,
   "metadata": {},
   "outputs": [],
   "source": [
    "same_aglycon = pd.DataFrame({\"coconut_id\": sweetnp_with_plants_tax_nan.coconut_id,\n",
    "                             \"taxonomy\": sweetnp_with_plants_tax_nan.taxonomy,\n",
    "                             \"all_deglycosilated_smiles\": sweetnp_with_plants_tax_nan.all_deglycosilated_smiles\n",
    "})"
   ]
  },
  {
   "cell_type": "code",
   "execution_count": 28,
   "metadata": {},
   "outputs": [],
   "source": [
    "#display(same_aglycon)"
   ]
  },
  {
   "cell_type": "code",
   "execution_count": 29,
   "metadata": {},
   "outputs": [],
   "source": [
    "same_aglycon_explode = same_aglycon.explode(\"all_deglycosilated_smiles\",ignore_index=True)"
   ]
  },
  {
   "cell_type": "code",
   "execution_count": 30,
   "metadata": {},
   "outputs": [],
   "source": [
    "#display(same_aglycon_explode)"
   ]
  },
  {
   "cell_type": "code",
   "execution_count": 31,
   "metadata": {},
   "outputs": [],
   "source": [
    "all_deglycosilated_smiles_list = set(same_aglycon_explode[\"all_deglycosilated_smiles\"])"
   ]
  },
  {
   "cell_type": "code",
   "execution_count": 32,
   "metadata": {},
   "outputs": [],
   "source": [
    "new_df = pd.DataFrame(all_deglycosilated_smiles_list, columns=[\"deglycosilated_smiles\"])"
   ]
  },
  {
   "cell_type": "code",
   "execution_count": 33,
   "metadata": {},
   "outputs": [],
   "source": [
    "new_df[\"coconut_id\"] = \"\"\n",
    "new_df[\"taxonomy\"] = \"\""
   ]
  },
  {
   "cell_type": "code",
   "execution_count": 34,
   "metadata": {},
   "outputs": [],
   "source": [
    "index = 1\n",
    "for mol in new_df.deglycosilated_smiles:\n",
    "    all_rows = same_aglycon_explode[same_aglycon_explode[\"all_deglycosilated_smiles\"]==mol]\n",
    "    new_df.coconut_id[index] = (all_rows.coconut_id.values)\n",
    "    new_df.taxonomy[index] = (all_rows.taxonomy.values)\n",
    "    index += 1"
   ]
  },
  {
   "cell_type": "code",
   "execution_count": 35,
   "metadata": {
    "scrolled": true
   },
   "outputs": [
    {
     "data": {
      "text/html": [
       "<div>\n",
       "<style scoped>\n",
       "    .dataframe tbody tr th:only-of-type {\n",
       "        vertical-align: middle;\n",
       "    }\n",
       "\n",
       "    .dataframe tbody tr th {\n",
       "        vertical-align: top;\n",
       "    }\n",
       "\n",
       "    .dataframe thead th {\n",
       "        text-align: right;\n",
       "    }\n",
       "</style>\n",
       "<table border=\"1\" class=\"dataframe\">\n",
       "  <thead>\n",
       "    <tr style=\"text-align: right;\">\n",
       "      <th></th>\n",
       "      <th>deglycosilated_smiles</th>\n",
       "      <th>coconut_id</th>\n",
       "      <th>taxonomy</th>\n",
       "    </tr>\n",
       "  </thead>\n",
       "  <tbody>\n",
       "    <tr>\n",
       "      <th>0</th>\n",
       "      <td></td>\n",
       "      <td></td>\n",
       "      <td></td>\n",
       "    </tr>\n",
       "    <tr>\n",
       "      <th>1</th>\n",
       "      <td>OC(=NC)C(N)C(C)CC</td>\n",
       "      <td>[CNP0189711, CNP0162972, CNP0272903, CNP032810...</td>\n",
       "      <td>[nan, nan, nan, nan, nan, nan, nan, nan, nan, ...</td>\n",
       "    </tr>\n",
       "    <tr>\n",
       "      <th>2</th>\n",
       "      <td>O=C1C=2C=CC=CC2C(=O)C=3C1=C(O)C(O)=C(C3CC4(C=5...</td>\n",
       "      <td>[CNP0403561, CNP0403561]</td>\n",
       "      <td>[nan, nan]</td>\n",
       "    </tr>\n",
       "    <tr>\n",
       "      <th>3</th>\n",
       "      <td>O=C1C=2C=CC=CC2C(=O)C=3C(O)=C(C(=CC13)CO)CO</td>\n",
       "      <td>[CNP0422346]</td>\n",
       "      <td>[nan]</td>\n",
       "    </tr>\n",
       "    <tr>\n",
       "      <th>4</th>\n",
       "      <td>O=C1C=C(OC=2C=C(O)C=C(O)C12)C=3C=CC(O)=CC3</td>\n",
       "      <td>[CNP0196850]</td>\n",
       "      <td>[nan]</td>\n",
       "    </tr>\n",
       "    <tr>\n",
       "      <th>...</th>\n",
       "      <td>...</td>\n",
       "      <td>...</td>\n",
       "      <td>...</td>\n",
       "    </tr>\n",
       "    <tr>\n",
       "      <th>21176</th>\n",
       "      <td>O=C1OC2CC3(OC(CC(O)CC)C(C)CC3)OC(CC4(O)OCC(C)C...</td>\n",
       "      <td>[CNP0418838, CNP0095547, CNP0023486, CNP0095088]</td>\n",
       "      <td>[nan, [plants], nan, [plants]]</td>\n",
       "    </tr>\n",
       "    <tr>\n",
       "      <th>21177</th>\n",
       "      <td>O=C(OC1CC2N(C)C(CC2)C1)C=3C=C(C(O)=C(C3)CC=C(C...</td>\n",
       "      <td>[CNP0392685]</td>\n",
       "      <td>[nan]</td>\n",
       "    </tr>\n",
       "    <tr>\n",
       "      <th>21178</th>\n",
       "      <td>O=C1OC(C2=COC=C2)CC3(C)C4CC=CC5(O)COC(C(O)C13O...</td>\n",
       "      <td>[CNP0314575]</td>\n",
       "      <td>[nan]</td>\n",
       "    </tr>\n",
       "    <tr>\n",
       "      <th>21179</th>\n",
       "      <td>OC(C(=C)C)CCC(O)(C)C1CCC2(C)C1C(O)CC3C4(C)CC(O...</td>\n",
       "      <td>[CNP0358988]</td>\n",
       "      <td>[nan]</td>\n",
       "    </tr>\n",
       "    <tr>\n",
       "      <th>21180</th>\n",
       "      <td>O=C(O)C12CC=C3C4CCC5C(C)(C)C(O)CCC5(C)C4CCC3C2...</td>\n",
       "      <td>[CNP0076663, CNP0151184, CNP0149911, CNP0327628]</td>\n",
       "      <td>[nan, nan, nan, nan]</td>\n",
       "    </tr>\n",
       "  </tbody>\n",
       "</table>\n",
       "<p>21181 rows × 3 columns</p>\n",
       "</div>"
      ],
      "text/plain": [
       "                                   deglycosilated_smiles  \\\n",
       "0                                                          \n",
       "1                                      OC(=NC)C(N)C(C)CC   \n",
       "2      O=C1C=2C=CC=CC2C(=O)C=3C1=C(O)C(O)=C(C3CC4(C=5...   \n",
       "3            O=C1C=2C=CC=CC2C(=O)C=3C(O)=C(C(=CC13)CO)CO   \n",
       "4             O=C1C=C(OC=2C=C(O)C=C(O)C12)C=3C=CC(O)=CC3   \n",
       "...                                                  ...   \n",
       "21176  O=C1OC2CC3(OC(CC(O)CC)C(C)CC3)OC(CC4(O)OCC(C)C...   \n",
       "21177  O=C(OC1CC2N(C)C(CC2)C1)C=3C=C(C(O)=C(C3)CC=C(C...   \n",
       "21178  O=C1OC(C2=COC=C2)CC3(C)C4CC=CC5(O)COC(C(O)C13O...   \n",
       "21179  OC(C(=C)C)CCC(O)(C)C1CCC2(C)C1C(O)CC3C4(C)CC(O...   \n",
       "21180  O=C(O)C12CC=C3C4CCC5C(C)(C)C(O)CCC5(C)C4CCC3C2...   \n",
       "\n",
       "                                              coconut_id  \\\n",
       "0                                                          \n",
       "1      [CNP0189711, CNP0162972, CNP0272903, CNP032810...   \n",
       "2                               [CNP0403561, CNP0403561]   \n",
       "3                                           [CNP0422346]   \n",
       "4                                           [CNP0196850]   \n",
       "...                                                  ...   \n",
       "21176   [CNP0418838, CNP0095547, CNP0023486, CNP0095088]   \n",
       "21177                                       [CNP0392685]   \n",
       "21178                                       [CNP0314575]   \n",
       "21179                                       [CNP0358988]   \n",
       "21180   [CNP0076663, CNP0151184, CNP0149911, CNP0327628]   \n",
       "\n",
       "                                                taxonomy  \n",
       "0                                                         \n",
       "1      [nan, nan, nan, nan, nan, nan, nan, nan, nan, ...  \n",
       "2                                             [nan, nan]  \n",
       "3                                                  [nan]  \n",
       "4                                                  [nan]  \n",
       "...                                                  ...  \n",
       "21176                     [nan, [plants], nan, [plants]]  \n",
       "21177                                              [nan]  \n",
       "21178                                              [nan]  \n",
       "21179                                              [nan]  \n",
       "21180                               [nan, nan, nan, nan]  \n",
       "\n",
       "[21181 rows x 3 columns]"
      ]
     },
     "metadata": {},
     "output_type": "display_data"
    }
   ],
   "source": [
    "display(new_df)"
   ]
  },
  {
   "cell_type": "code",
   "execution_count": 36,
   "metadata": {},
   "outputs": [],
   "source": [
    "count_plants = 0\n",
    "count_animals = 0\n",
    "count_bacteria = 0\n",
    "count_marine = 0\n",
    "count_fungi = 0"
   ]
  },
  {
   "cell_type": "code",
   "execution_count": 37,
   "metadata": {},
   "outputs": [],
   "source": [
    "for all_tax in new_df.taxonomy:\n",
    "    for lists in all_tax:\n",
    "        if type(lists) == list:\n",
    "            for unique_tax in lists:\n",
    "                if \"plants\" in unique_tax:\n",
    "                    count_plants += 1\n",
    "                if \"bacteria\" in unique_tax:\n",
    "                    count_bacteria += 1\n",
    "                if \"marine\" in unique_tax:\n",
    "                    count_marine += 1\n",
    "                if \"animals\" in unique_tax:\n",
    "                    count_animals += 1\n",
    "                if \"fungi\" in unique_tax:\n",
    "                    count_fungi += 1\n",
    "        else:\n",
    "            pass\n",
    "    "
   ]
  },
  {
   "cell_type": "code",
   "execution_count": 38,
   "metadata": {},
   "outputs": [],
   "source": [
    "comparing = {\"plants\":count_plants,\"animals\":count_animals,\"bacteria\":count_bacteria,\"fungi\":count_fungi,\"marine\":count_marine}"
   ]
  },
  {
   "cell_type": "code",
   "execution_count": 39,
   "metadata": {},
   "outputs": [
    {
     "data": {
      "text/plain": [
       "{'plants': 9211, 'animals': 102, 'bacteria': 1308, 'fungi': 284, 'marine': 373}"
      ]
     },
     "execution_count": 39,
     "metadata": {},
     "output_type": "execute_result"
    }
   ],
   "source": [
    "comparing"
   ]
  },
  {
   "cell_type": "code",
   "execution_count": 40,
   "metadata": {},
   "outputs": [
    {
     "data": {
      "text/plain": [
       "<BarContainer object of 5 artists>"
      ]
     },
     "execution_count": 40,
     "metadata": {},
     "output_type": "execute_result"
    },
    {
     "data": {
      "image/png": "[encoded data removed]",
      "text/plain": [
       "<Figure size 432x288 with 1 Axes>"
      ]
     },
     "metadata": {
      "needs_background": "light"
     },
     "output_type": "display_data"
    }
   ],
   "source": [
    "plt.bar(comparing.keys(),comparing.values())"
   ]
  },
  {
   "cell_type": "markdown",
   "metadata": {},
   "source": [
    "**----------------------------------------------------------------**\n",
    "\n",
    "**Seperate aglycons with at least to different entries in taxonomy**"
   ]
  },
  {
   "cell_type": "code",
   "execution_count": 41,
   "metadata": {
    "scrolled": false
   },
   "outputs": [],
   "source": [
    "indexes_only_double = []\n",
    "indexes_without_double = []\n",
    "counter = 0\n",
    "for tax_double_list in new_df.taxonomy:\n",
    "        for tax_list in tax_double_list:\n",
    "            if type(tax_list) == list:\n",
    "                if len(tax_list) > 1:\n",
    "                    #print(counter, tax_list, len(tax_list))\n",
    "                    indexes_only_double.append(counter)\n",
    "                else:\n",
    "                    #print(counter, tax_list, len(tax_list))\n",
    "                    indexes_without_double.append(counter)\n",
    "            else:\n",
    "                indexes_without_double.append(counter)\n",
    "        counter +=1 "
   ]
  },
  {
   "cell_type": "code",
   "execution_count": 42,
   "metadata": {},
   "outputs": [],
   "source": [
    "same_aglycon_without_doubles_indexes = set(indexes_without_double)\n",
    "same_aglycon_with_doubles_indexes = set(indexes_only_double)\n",
    "same_aglycon_without_doubles_indexes = same_aglycon_without_doubles_indexes - same_aglycon_with_doubles_indexes"
   ]
  },
  {
   "cell_type": "code",
   "execution_count": 43,
   "metadata": {},
   "outputs": [],
   "source": [
    "same_aglycon_with_doubles = pd.DataFrame(columns=[\"deglycosilated_smiles\",\"coconut_id\",\"taxonomy\"])\n",
    "for index in same_aglycon_with_doubles_indexes:\n",
    "    same_aglycon_with_doubles = same_aglycon_with_doubles.append(new_df.iloc[[index]])"
   ]
  },
  {
   "cell_type": "code",
   "execution_count": 44,
   "metadata": {},
   "outputs": [],
   "source": [
    "#same_aglycon_with_doubles"
   ]
  },
  {
   "cell_type": "code",
   "execution_count": 45,
   "metadata": {},
   "outputs": [],
   "source": [
    "same_aglycon_without_doubles= pd.DataFrame(columns=[\"deglycosilated_smiles\",\"coconut_id\",\"taxonomy\"])\n",
    "for index in same_aglycon_without_doubles_indexes:\n",
    "    same_aglycon_without_doubles = same_aglycon_without_doubles.append(new_df.iloc[[index]])"
   ]
  },
  {
   "cell_type": "code",
   "execution_count": 46,
   "metadata": {},
   "outputs": [],
   "source": [
    "#same_aglycon_without_doubles"
   ]
  },
  {
   "cell_type": "markdown",
   "metadata": {},
   "source": [
    "**----------------------------------------------------------------**\n",
    "\n",
    "**Seperate aglycons with marine as their taxonomy**"
   ]
  },
  {
   "cell_type": "code",
   "execution_count": 47,
   "metadata": {},
   "outputs": [],
   "source": [
    "indexes_without_marine = []\n",
    "indexes_only_marine = []\n",
    "counter = 0\n",
    "for tax_double_list in same_aglycon_without_doubles.taxonomy:\n",
    "    for tax_list in tax_double_list:\n",
    "            if type(tax_list) == list:\n",
    "                for tax in tax_list:\n",
    "                    if \"marine\" in tax_list:\n",
    "                        indexes_only_marine.append(counter)\n",
    "                    else:\n",
    "                        indexes_without_marine.append(counter)\n",
    "            else:\n",
    "                indexes_without_marine.append(counter)\n",
    "    counter += 1"
   ]
  },
  {
   "cell_type": "code",
   "execution_count": 48,
   "metadata": {},
   "outputs": [],
   "source": [
    "same_aglycon_without_marine_indexes = set(indexes_without_marine)\n",
    "same_aglycon_with_marine_indexes = set(indexes_only_marine)"
   ]
  },
  {
   "cell_type": "code",
   "execution_count": 49,
   "metadata": {},
   "outputs": [],
   "source": [
    "same_aglycon_with_marine = pd.DataFrame(columns=[\"deglycosilated_smiles\",\"coconut_id\",\"taxonomy\"])\n",
    "for index in same_aglycon_with_marine_indexes:\n",
    "    same_aglycon_with_marine = same_aglycon_with_marine.append(same_aglycon_without_doubles.iloc[[index]])"
   ]
  },
  {
   "cell_type": "code",
   "execution_count": 50,
   "metadata": {
    "scrolled": true
   },
   "outputs": [],
   "source": [
    "#same_aglycon_with_marine"
   ]
  },
  {
   "cell_type": "code",
   "execution_count": 51,
   "metadata": {},
   "outputs": [],
   "source": [
    "same_aglycon_without_marine = pd.DataFrame(columns=[\"deglycosilated_smiles\",\"coconut_id\",\"taxonomy\"])\n",
    "for index in same_aglycon_without_marine_indexes:\n",
    "    same_aglycon_without_marine = same_aglycon_without_marine.append(same_aglycon_without_doubles.iloc[[index]])"
   ]
  },
  {
   "cell_type": "code",
   "execution_count": 52,
   "metadata": {},
   "outputs": [
    {
     "data": {
      "text/html": [
       "<div>\n",
       "<style scoped>\n",
       "    .dataframe tbody tr th:only-of-type {\n",
       "        vertical-align: middle;\n",
       "    }\n",
       "\n",
       "    .dataframe tbody tr th {\n",
       "        vertical-align: top;\n",
       "    }\n",
       "\n",
       "    .dataframe thead th {\n",
       "        text-align: right;\n",
       "    }\n",
       "</style>\n",
       "<table border=\"1\" class=\"dataframe\">\n",
       "  <thead>\n",
       "    <tr style=\"text-align: right;\">\n",
       "      <th></th>\n",
       "      <th>deglycosilated_smiles</th>\n",
       "      <th>coconut_id</th>\n",
       "      <th>taxonomy</th>\n",
       "    </tr>\n",
       "  </thead>\n",
       "  <tbody>\n",
       "    <tr>\n",
       "      <th>1</th>\n",
       "      <td>OC(=NC)C(N)C(C)CC</td>\n",
       "      <td>[CNP0189711, CNP0162972, CNP0272903, CNP032810...</td>\n",
       "      <td>[nan, nan, nan, nan, nan, nan, nan, nan, nan, ...</td>\n",
       "    </tr>\n",
       "    <tr>\n",
       "      <th>2</th>\n",
       "      <td>O=C1C=2C=CC=CC2C(=O)C=3C1=C(O)C(O)=C(C3CC4(C=5...</td>\n",
       "      <td>[CNP0403561, CNP0403561]</td>\n",
       "      <td>[nan, nan]</td>\n",
       "    </tr>\n",
       "    <tr>\n",
       "      <th>3</th>\n",
       "      <td>O=C1C=2C=CC=CC2C(=O)C=3C(O)=C(C(=CC13)CO)CO</td>\n",
       "      <td>[CNP0422346]</td>\n",
       "      <td>[nan]</td>\n",
       "    </tr>\n",
       "    <tr>\n",
       "      <th>4</th>\n",
       "      <td>O=C1C=C(OC=2C=C(O)C=C(O)C12)C=3C=CC(O)=CC3</td>\n",
       "      <td>[CNP0196850]</td>\n",
       "      <td>[nan]</td>\n",
       "    </tr>\n",
       "    <tr>\n",
       "      <th>6</th>\n",
       "      <td>O=C1C=2C=C3C(=C(O)C2C(=O)C=4C(O)=CC=C(O)C14)C(...</td>\n",
       "      <td>[CNP0415755]</td>\n",
       "      <td>[nan]</td>\n",
       "    </tr>\n",
       "    <tr>\n",
       "      <th>...</th>\n",
       "      <td>...</td>\n",
       "      <td>...</td>\n",
       "      <td>...</td>\n",
       "    </tr>\n",
       "    <tr>\n",
       "      <th>21176</th>\n",
       "      <td>O=C1OC2CC3(OC(CC(O)CC)C(C)CC3)OC(CC4(O)OCC(C)C...</td>\n",
       "      <td>[CNP0418838, CNP0095547, CNP0023486, CNP0095088]</td>\n",
       "      <td>[nan, [plants], nan, [plants]]</td>\n",
       "    </tr>\n",
       "    <tr>\n",
       "      <th>21177</th>\n",
       "      <td>O=C(OC1CC2N(C)C(CC2)C1)C=3C=C(C(O)=C(C3)CC=C(C...</td>\n",
       "      <td>[CNP0392685]</td>\n",
       "      <td>[nan]</td>\n",
       "    </tr>\n",
       "    <tr>\n",
       "      <th>21178</th>\n",
       "      <td>O=C1OC(C2=COC=C2)CC3(C)C4CC=CC5(O)COC(C(O)C13O...</td>\n",
       "      <td>[CNP0314575]</td>\n",
       "      <td>[nan]</td>\n",
       "    </tr>\n",
       "    <tr>\n",
       "      <th>21179</th>\n",
       "      <td>OC(C(=C)C)CCC(O)(C)C1CCC2(C)C1C(O)CC3C4(C)CC(O...</td>\n",
       "      <td>[CNP0358988]</td>\n",
       "      <td>[nan]</td>\n",
       "    </tr>\n",
       "    <tr>\n",
       "      <th>21180</th>\n",
       "      <td>O=C(O)C12CC=C3C4CCC5C(C)(C)C(O)CCC5(C)C4CCC3C2...</td>\n",
       "      <td>[CNP0076663, CNP0151184, CNP0149911, CNP0327628]</td>\n",
       "      <td>[nan, nan, nan, nan]</td>\n",
       "    </tr>\n",
       "  </tbody>\n",
       "</table>\n",
       "<p>21067 rows × 3 columns</p>\n",
       "</div>"
      ],
      "text/plain": [
       "                                   deglycosilated_smiles  \\\n",
       "1                                      OC(=NC)C(N)C(C)CC   \n",
       "2      O=C1C=2C=CC=CC2C(=O)C=3C1=C(O)C(O)=C(C3CC4(C=5...   \n",
       "3            O=C1C=2C=CC=CC2C(=O)C=3C(O)=C(C(=CC13)CO)CO   \n",
       "4             O=C1C=C(OC=2C=C(O)C=C(O)C12)C=3C=CC(O)=CC3   \n",
       "6      O=C1C=2C=C3C(=C(O)C2C(=O)C=4C(O)=CC=C(O)C14)C(...   \n",
       "...                                                  ...   \n",
       "21176  O=C1OC2CC3(OC(CC(O)CC)C(C)CC3)OC(CC4(O)OCC(C)C...   \n",
       "21177  O=C(OC1CC2N(C)C(CC2)C1)C=3C=C(C(O)=C(C3)CC=C(C...   \n",
       "21178  O=C1OC(C2=COC=C2)CC3(C)C4CC=CC5(O)COC(C(O)C13O...   \n",
       "21179  OC(C(=C)C)CCC(O)(C)C1CCC2(C)C1C(O)CC3C4(C)CC(O...   \n",
       "21180  O=C(O)C12CC=C3C4CCC5C(C)(C)C(O)CCC5(C)C4CCC3C2...   \n",
       "\n",
       "                                              coconut_id  \\\n",
       "1      [CNP0189711, CNP0162972, CNP0272903, CNP032810...   \n",
       "2                               [CNP0403561, CNP0403561]   \n",
       "3                                           [CNP0422346]   \n",
       "4                                           [CNP0196850]   \n",
       "6                                           [CNP0415755]   \n",
       "...                                                  ...   \n",
       "21176   [CNP0418838, CNP0095547, CNP0023486, CNP0095088]   \n",
       "21177                                       [CNP0392685]   \n",
       "21178                                       [CNP0314575]   \n",
       "21179                                       [CNP0358988]   \n",
       "21180   [CNP0076663, CNP0151184, CNP0149911, CNP0327628]   \n",
       "\n",
       "                                                taxonomy  \n",
       "1      [nan, nan, nan, nan, nan, nan, nan, nan, nan, ...  \n",
       "2                                             [nan, nan]  \n",
       "3                                                  [nan]  \n",
       "4                                                  [nan]  \n",
       "6                                                  [nan]  \n",
       "...                                                  ...  \n",
       "21176                     [nan, [plants], nan, [plants]]  \n",
       "21177                                              [nan]  \n",
       "21178                                              [nan]  \n",
       "21179                                              [nan]  \n",
       "21180                               [nan, nan, nan, nan]  \n",
       "\n",
       "[21067 rows x 3 columns]"
      ]
     },
     "execution_count": 52,
     "metadata": {},
     "output_type": "execute_result"
    }
   ],
   "source": [
    "same_aglycon_without_marine"
   ]
  },
  {
   "cell_type": "markdown",
   "metadata": {},
   "source": [
    "das ganze abiehen kann man mit sets machen. Ich zähle oben nämlich für no_double alle mit.\n",
    "Ich könnte somit auch einfach alle aus dem Dataframe nehmen und dann with_double davon abziehen."
   ]
  },
  {
   "cell_type": "code",
   "execution_count": null,
   "metadata": {},
   "outputs": [],
   "source": [
    "same_aglycon_without_marine"
   ]
  },
  {
   "cell_type": "code",
   "execution_count": null,
   "metadata": {},
   "outputs": [],
   "source": []
  }
 ],
 "metadata": {
  "kernelspec": {
   "display_name": "Python 3",
   "language": "python",
   "name": "python3"
  },
  "language_info": {
   "codemirror_mode": {
    "name": "ipython",
    "version": 3
   },
   "file_extension": ".py",
   "mimetype": "text/x-python",
   "name": "python",
   "nbconvert_exporter": "python",
   "pygments_lexer": "ipython3",
   "version": "3.7.9"
  }
 },
 "nbformat": 4,
 "nbformat_minor": 4
}
