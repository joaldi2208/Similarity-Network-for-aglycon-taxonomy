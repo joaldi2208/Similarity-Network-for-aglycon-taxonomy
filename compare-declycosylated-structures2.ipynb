{
 "cells": [
  {
   "cell_type": "code",
   "execution_count": 2,
   "metadata": {},
   "outputs": [],
   "source": [
    "from pymongo import MongoClient\n",
    "from rdkit import Chem\n",
    "from rdkit.Chem import Draw\n",
    "import pandas as pd\n",
    "import numpy as np\n",
    "from math import *\n",
    "import os"
   ]
  },
  {
   "cell_type": "code",
   "execution_count": 3,
   "metadata": {},
   "outputs": [],
   "source": [
    "client = MongoClient(\"localhost:27017\")\n",
    "db = client['sweetcoconut']"
   ]
  },
  {
   "cell_type": "code",
   "execution_count": 4,
   "metadata": {
    "scrolled": true
   },
   "outputs": [
    {
     "name": "stdout",
     "output_type": "stream",
     "text": [
      "Number of NPs with sugars: 49485\n"
     ]
    }
   ],
   "source": [
    "collection = db.sweetNaturalProduct\n",
    "sweetnp = pd.DataFrame(list(collection.find({ \"contains_sugar\": True})))\n",
    "print(\"Number of NPs with sugars: \"+str(len(sweetnp.index)))"
   ]
  },
  {
   "cell_type": "code",
   "execution_count": 5,
   "metadata": {
    "scrolled": true
   },
   "outputs": [
    {
     "data": {
      "text/html": [
       "<div>\n",
       "<style scoped>\n",
       "    .dataframe tbody tr th:only-of-type {\n",
       "        vertical-align: middle;\n",
       "    }\n",
       "\n",
       "    .dataframe tbody tr th {\n",
       "        vertical-align: top;\n",
       "    }\n",
       "\n",
       "    .dataframe thead th {\n",
       "        text-align: right;\n",
       "    }\n",
       "</style>\n",
       "<table border=\"1\" class=\"dataframe\">\n",
       "  <thead>\n",
       "    <tr style=\"text-align: right;\">\n",
       "      <th></th>\n",
       "      <th>_id</th>\n",
       "      <th>coconut_id</th>\n",
       "      <th>smiles</th>\n",
       "      <th>contains_sugar</th>\n",
       "      <th>nosugar_smiles</th>\n",
       "      <th>no_term_sugar_smiles</th>\n",
       "      <th>all_deglycosilated_smiles</th>\n",
       "      <th>sugars_in_np</th>\n",
       "      <th>list_sugars</th>\n",
       "      <th>_class</th>\n",
       "    </tr>\n",
       "  </thead>\n",
       "  <tbody>\n",
       "    <tr>\n",
       "      <th>0</th>\n",
       "      <td>5f5207f9ec7c751be5a0db2f</td>\n",
       "      <td>CNP0220816</td>\n",
       "      <td>O=C1OC2=CC(=CC(OC3OC(CO)C(O)C(O)C3O)=C2C4=C1CC...</td>\n",
       "      <td>True</td>\n",
       "      <td>O=C1OC=2C=C(C=C(O)C2C3=C1CCC3)C</td>\n",
       "      <td>O=C1OC=2C=C(C=C(O)C2C3=C1CCC3)C</td>\n",
       "      <td>[O=C1OC=2C=C(C=C(O)C2C3=C1CCC3)C]</td>\n",
       "      <td>{}</td>\n",
       "      <td>[[O1[CH][CH][CH][CH][CH]1, circular, is_termin...</td>\n",
       "      <td>de.unijena.cheminf.sweetcoconut.mongomodel.Swe...</td>\n",
       "    </tr>\n",
       "    <tr>\n",
       "      <th>1</th>\n",
       "      <td>5f5207f9ec7c751be5a0db34</td>\n",
       "      <td>CNP0125332</td>\n",
       "      <td>O=P(O)(O)OCC1OC(OP(=O)(O)O)C(O)C1O</td>\n",
       "      <td>True</td>\n",
       "      <td>O=P(O)(O)OC</td>\n",
       "      <td>O=P(O)(O)OCC1OC(OP(=O)(O)O)C(O)C1O</td>\n",
       "      <td>[O=P(O)(O)OC, O=P(O)(O)O]</td>\n",
       "      <td>{}</td>\n",
       "      <td>[[O1[CH][CH][CH][CH]1, circular, is_internal]]</td>\n",
       "      <td>de.unijena.cheminf.sweetcoconut.mongomodel.Swe...</td>\n",
       "    </tr>\n",
       "    <tr>\n",
       "      <th>2</th>\n",
       "      <td>5f5207f9ec7c751be5a0db3a</td>\n",
       "      <td>CNP0151033</td>\n",
       "      <td>O=C(OC1C(OCC2=COC(OC(=O)CC(C)C)C3C2CC(O)C3(O)C...</td>\n",
       "      <td>True</td>\n",
       "      <td>O=C(OCC1(O)C(O)CC2C(=COC(OC(=O)CC(C)C)C21)CO)C</td>\n",
       "      <td>O=C(OC1C(OCC2=COC(OC(=O)CC(C)C)C3C2CC(O)C3(O)C...</td>\n",
       "      <td>[O=C(O)C=CC1=CC=C(O)C=C1, O=C(OCC1(O)C(O)CC2C(...</td>\n",
       "      <td>{}</td>\n",
       "      <td>[[O1[CH][CH][CH][CH][CH]1, circular, is_intern...</td>\n",
       "      <td>de.unijena.cheminf.sweetcoconut.mongomodel.Swe...</td>\n",
       "    </tr>\n",
       "    <tr>\n",
       "      <th>3</th>\n",
       "      <td>5f5207f9ec7c751be5a0db4a</td>\n",
       "      <td>CNP0298418</td>\n",
       "      <td>O=C([O-])C12CCC(C)(CO)CC2C3=CCC4C(C)(CC5[NH2+]...</td>\n",
       "      <td>True</td>\n",
       "      <td>O=C([O-])C12CCC(C)(CO)CC2C3=CCC4C(C)(CC5[NH2+]...</td>\n",
       "      <td>O=C([O-])C12CCC(C)(CO)CC2C3=CCC4C(C)(CC5[NH2+]...</td>\n",
       "      <td>[O=C([O-])C12CCC(C)(CO)CC2C3=CCC4C(C)(CC5[NH2+...</td>\n",
       "      <td>{}</td>\n",
       "      <td>[[O1[CH][CH][CH][CH]C1, circular, is_terminal]]</td>\n",
       "      <td>de.unijena.cheminf.sweetcoconut.mongomodel.Swe...</td>\n",
       "    </tr>\n",
       "    <tr>\n",
       "      <th>4</th>\n",
       "      <td>5f5207f9ec7c751be5a0db56</td>\n",
       "      <td>CNP0063031</td>\n",
       "      <td>O=C(OC1CCN2(=O)CC=C(COC(=O)C(O)(C(OC)C)C(O)(C)...</td>\n",
       "      <td>True</td>\n",
       "      <td>O=C(OC1CCN2(=O)CC=C(C)C12)C(=CC)C</td>\n",
       "      <td>O=C(OC1CCN2(=O)CC=C(C)C12)C(=CC)C</td>\n",
       "      <td>[O=C(OC1CCN2(=O)CC=C(C)C12)C(=CC)C]</td>\n",
       "      <td>{}</td>\n",
       "      <td>[[[O][CH]C(O)([C]O)C(=O)[O], linear, is_termin...</td>\n",
       "      <td>de.unijena.cheminf.sweetcoconut.mongomodel.Swe...</td>\n",
       "    </tr>\n",
       "    <tr>\n",
       "      <th>...</th>\n",
       "      <td>...</td>\n",
       "      <td>...</td>\n",
       "      <td>...</td>\n",
       "      <td>...</td>\n",
       "      <td>...</td>\n",
       "      <td>...</td>\n",
       "      <td>...</td>\n",
       "      <td>...</td>\n",
       "      <td>...</td>\n",
       "      <td>...</td>\n",
       "    </tr>\n",
       "    <tr>\n",
       "      <th>49480</th>\n",
       "      <td>5f520880ec7c751be5a75ebd</td>\n",
       "      <td>CNP0391955</td>\n",
       "      <td>O=C(O)C1OC(OC2CCC3(C)C4CC=C5C67C=CCC(C)(CCC6(C...</td>\n",
       "      <td>True</td>\n",
       "      <td>O=C(O)C12CCC3(C(=CCC4C5(C)CCC(O)C(C)(C)C5CCC43...</td>\n",
       "      <td>O=C(O)C12CCC3(C(=CCC4C5(C)CCC(O)C(C)(C)C5CCC43...</td>\n",
       "      <td>[O=C(O)C12CCC3(C(=CCC4C5(C)CCC(O)C(C)(C)C5CCC4...</td>\n",
       "      <td>{}</td>\n",
       "      <td>[[O1[CH][CH][CH][CH][CH]1, circular, is_termin...</td>\n",
       "      <td>de.unijena.cheminf.sweetcoconut.mongomodel.Swe...</td>\n",
       "    </tr>\n",
       "    <tr>\n",
       "      <th>49481</th>\n",
       "      <td>5f520880ec7c751be5a75ec5</td>\n",
       "      <td>CNP0345297</td>\n",
       "      <td>O=C1C(OCC2OC(O)C(O)C(O)C2O)=C(OC=3C=C(O)C=C(O)...</td>\n",
       "      <td>True</td>\n",
       "      <td>O=C1C(OC)=C(OC=2C=C(O)C=C(O)C12)C=3C=CC(O)=CC3</td>\n",
       "      <td>O=C1C(OC)=C(OC=2C=C(O)C=C(O)C12)C=3C=CC(O)=CC3</td>\n",
       "      <td>[O=C1C(OC)=C(OC=2C=C(O)C=C(O)C12)C=3C=CC(O)=CC3]</td>\n",
       "      <td>{}</td>\n",
       "      <td>[[O1[CH][CH][CH][CH][CH]1, circular, is_termin...</td>\n",
       "      <td>de.unijena.cheminf.sweetcoconut.mongomodel.Swe...</td>\n",
       "    </tr>\n",
       "    <tr>\n",
       "      <th>49482</th>\n",
       "      <td>5f520880ec7c751be5a75ec6</td>\n",
       "      <td>CNP0159133</td>\n",
       "      <td>O[C]1[CH][C](O)[C]2[CH][C](OC3OC(CO)C(O)C(O)C3...</td>\n",
       "      <td>True</td>\n",
       "      <td>OC1CC(O)C2CC(O)C([OH+]C2C1)C3CC(OC)C(O)C(OC)C3</td>\n",
       "      <td>OC1CC(O)C2CC(O)C([OH+]C2C1)C3CC(OC)C(O)C(OC)C3</td>\n",
       "      <td>[OC1CC(O)C2CC(O)C([OH+]C2C1)C3CC(OC)C(O)C(OC)C3]</td>\n",
       "      <td>{}</td>\n",
       "      <td>[[O1[CH][CH][CH][CH][CH]1, circular, is_termin...</td>\n",
       "      <td>de.unijena.cheminf.sweetcoconut.mongomodel.Swe...</td>\n",
       "    </tr>\n",
       "    <tr>\n",
       "      <th>49483</th>\n",
       "      <td>5f520880ec7c751be5a75ed0</td>\n",
       "      <td>CNP0298814</td>\n",
       "      <td>O=C(O)C12C3=C(CCC2(C)C(CC1)C(C)CCC(=C)C(C)(C)C...</td>\n",
       "      <td>True</td>\n",
       "      <td>O=C(O)C12C3=C(CCC2(C)C(CC1)C(C)CCC(=C)C(C)(C)C...</td>\n",
       "      <td>O=C(O)C12C3=C(CCC2(C)C(CC1)C(C)CCC(=C)C(C)(C)C...</td>\n",
       "      <td>[O=C(O)C12C3=C(CCC2(C)C(CC1)C(C)CCC(=C)C(C)(C)...</td>\n",
       "      <td>{}</td>\n",
       "      <td>[[O1[CH][CH][CH][CH]C1, circular, is_terminal]...</td>\n",
       "      <td>de.unijena.cheminf.sweetcoconut.mongomodel.Swe...</td>\n",
       "    </tr>\n",
       "    <tr>\n",
       "      <th>49484</th>\n",
       "      <td>5f520880ec7c751be5a75ed1</td>\n",
       "      <td>CNP0209786</td>\n",
       "      <td>O=C(O)CCC(OP(=O)(O)OCC1OC(OCC(O)C(O)C(O)CC2=CC...</td>\n",
       "      <td>True</td>\n",
       "      <td>O=C(O)CCC(OP(=O)(O)OC)C(=O)NC(C(=O)O)CCC(=O)O</td>\n",
       "      <td>O=C(O)CCC(OP(=O)(O)OCC1OC(OCC(O)C(O)C(O)CC2=CC...</td>\n",
       "      <td>[O=C(O)CCC(OP(=O)(O)OC)C(=O)NC(C(=O)O)CCC(=O)O...</td>\n",
       "      <td>{}</td>\n",
       "      <td>[[O1[CH][CH][CH][CH]1, circular, is_internal],...</td>\n",
       "      <td>de.unijena.cheminf.sweetcoconut.mongomodel.Swe...</td>\n",
       "    </tr>\n",
       "  </tbody>\n",
       "</table>\n",
       "<p>49485 rows × 10 columns</p>\n",
       "</div>"
      ],
      "text/plain": [
       "                            _id  coconut_id  \\\n",
       "0      5f5207f9ec7c751be5a0db2f  CNP0220816   \n",
       "1      5f5207f9ec7c751be5a0db34  CNP0125332   \n",
       "2      5f5207f9ec7c751be5a0db3a  CNP0151033   \n",
       "3      5f5207f9ec7c751be5a0db4a  CNP0298418   \n",
       "4      5f5207f9ec7c751be5a0db56  CNP0063031   \n",
       "...                         ...         ...   \n",
       "49480  5f520880ec7c751be5a75ebd  CNP0391955   \n",
       "49481  5f520880ec7c751be5a75ec5  CNP0345297   \n",
       "49482  5f520880ec7c751be5a75ec6  CNP0159133   \n",
       "49483  5f520880ec7c751be5a75ed0  CNP0298814   \n",
       "49484  5f520880ec7c751be5a75ed1  CNP0209786   \n",
       "\n",
       "                                                  smiles  contains_sugar  \\\n",
       "0      O=C1OC2=CC(=CC(OC3OC(CO)C(O)C(O)C3O)=C2C4=C1CC...            True   \n",
       "1                     O=P(O)(O)OCC1OC(OP(=O)(O)O)C(O)C1O            True   \n",
       "2      O=C(OC1C(OCC2=COC(OC(=O)CC(C)C)C3C2CC(O)C3(O)C...            True   \n",
       "3      O=C([O-])C12CCC(C)(CO)CC2C3=CCC4C(C)(CC5[NH2+]...            True   \n",
       "4      O=C(OC1CCN2(=O)CC=C(COC(=O)C(O)(C(OC)C)C(O)(C)...            True   \n",
       "...                                                  ...             ...   \n",
       "49480  O=C(O)C1OC(OC2CCC3(C)C4CC=C5C67C=CCC(C)(CCC6(C...            True   \n",
       "49481  O=C1C(OCC2OC(O)C(O)C(O)C2O)=C(OC=3C=C(O)C=C(O)...            True   \n",
       "49482  O[C]1[CH][C](O)[C]2[CH][C](OC3OC(CO)C(O)C(O)C3...            True   \n",
       "49483  O=C(O)C12C3=C(CCC2(C)C(CC1)C(C)CCC(=C)C(C)(C)C...            True   \n",
       "49484  O=C(O)CCC(OP(=O)(O)OCC1OC(OCC(O)C(O)C(O)CC2=CC...            True   \n",
       "\n",
       "                                          nosugar_smiles  \\\n",
       "0                        O=C1OC=2C=C(C=C(O)C2C3=C1CCC3)C   \n",
       "1                                            O=P(O)(O)OC   \n",
       "2         O=C(OCC1(O)C(O)CC2C(=COC(OC(=O)CC(C)C)C21)CO)C   \n",
       "3      O=C([O-])C12CCC(C)(CO)CC2C3=CCC4C(C)(CC5[NH2+]...   \n",
       "4                      O=C(OC1CCN2(=O)CC=C(C)C12)C(=CC)C   \n",
       "...                                                  ...   \n",
       "49480  O=C(O)C12CCC3(C(=CCC4C5(C)CCC(O)C(C)(C)C5CCC43...   \n",
       "49481     O=C1C(OC)=C(OC=2C=C(O)C=C(O)C12)C=3C=CC(O)=CC3   \n",
       "49482     OC1CC(O)C2CC(O)C([OH+]C2C1)C3CC(OC)C(O)C(OC)C3   \n",
       "49483  O=C(O)C12C3=C(CCC2(C)C(CC1)C(C)CCC(=C)C(C)(C)C...   \n",
       "49484      O=C(O)CCC(OP(=O)(O)OC)C(=O)NC(C(=O)O)CCC(=O)O   \n",
       "\n",
       "                                    no_term_sugar_smiles  \\\n",
       "0                        O=C1OC=2C=C(C=C(O)C2C3=C1CCC3)C   \n",
       "1                     O=P(O)(O)OCC1OC(OP(=O)(O)O)C(O)C1O   \n",
       "2      O=C(OC1C(OCC2=COC(OC(=O)CC(C)C)C3C2CC(O)C3(O)C...   \n",
       "3      O=C([O-])C12CCC(C)(CO)CC2C3=CCC4C(C)(CC5[NH2+]...   \n",
       "4                      O=C(OC1CCN2(=O)CC=C(C)C12)C(=CC)C   \n",
       "...                                                  ...   \n",
       "49480  O=C(O)C12CCC3(C(=CCC4C5(C)CCC(O)C(C)(C)C5CCC43...   \n",
       "49481     O=C1C(OC)=C(OC=2C=C(O)C=C(O)C12)C=3C=CC(O)=CC3   \n",
       "49482     OC1CC(O)C2CC(O)C([OH+]C2C1)C3CC(OC)C(O)C(OC)C3   \n",
       "49483  O=C(O)C12C3=C(CCC2(C)C(CC1)C(C)CCC(=C)C(C)(C)C...   \n",
       "49484  O=C(O)CCC(OP(=O)(O)OCC1OC(OCC(O)C(O)C(O)CC2=CC...   \n",
       "\n",
       "                               all_deglycosilated_smiles sugars_in_np  \\\n",
       "0                      [O=C1OC=2C=C(C=C(O)C2C3=C1CCC3)C]           {}   \n",
       "1                              [O=P(O)(O)OC, O=P(O)(O)O]           {}   \n",
       "2      [O=C(O)C=CC1=CC=C(O)C=C1, O=C(OCC1(O)C(O)CC2C(...           {}   \n",
       "3      [O=C([O-])C12CCC(C)(CO)CC2C3=CCC4C(C)(CC5[NH2+...           {}   \n",
       "4                    [O=C(OC1CCN2(=O)CC=C(C)C12)C(=CC)C]           {}   \n",
       "...                                                  ...          ...   \n",
       "49480  [O=C(O)C12CCC3(C(=CCC4C5(C)CCC(O)C(C)(C)C5CCC4...           {}   \n",
       "49481   [O=C1C(OC)=C(OC=2C=C(O)C=C(O)C12)C=3C=CC(O)=CC3]           {}   \n",
       "49482   [OC1CC(O)C2CC(O)C([OH+]C2C1)C3CC(OC)C(O)C(OC)C3]           {}   \n",
       "49483  [O=C(O)C12C3=C(CCC2(C)C(CC1)C(C)CCC(=C)C(C)(C)...           {}   \n",
       "49484  [O=C(O)CCC(OP(=O)(O)OC)C(=O)NC(C(=O)O)CCC(=O)O...           {}   \n",
       "\n",
       "                                             list_sugars  \\\n",
       "0      [[O1[CH][CH][CH][CH][CH]1, circular, is_termin...   \n",
       "1         [[O1[CH][CH][CH][CH]1, circular, is_internal]]   \n",
       "2      [[O1[CH][CH][CH][CH][CH]1, circular, is_intern...   \n",
       "3        [[O1[CH][CH][CH][CH]C1, circular, is_terminal]]   \n",
       "4      [[[O][CH]C(O)([C]O)C(=O)[O], linear, is_termin...   \n",
       "...                                                  ...   \n",
       "49480  [[O1[CH][CH][CH][CH][CH]1, circular, is_termin...   \n",
       "49481  [[O1[CH][CH][CH][CH][CH]1, circular, is_termin...   \n",
       "49482  [[O1[CH][CH][CH][CH][CH]1, circular, is_termin...   \n",
       "49483  [[O1[CH][CH][CH][CH]C1, circular, is_terminal]...   \n",
       "49484  [[O1[CH][CH][CH][CH]1, circular, is_internal],...   \n",
       "\n",
       "                                                  _class  \n",
       "0      de.unijena.cheminf.sweetcoconut.mongomodel.Swe...  \n",
       "1      de.unijena.cheminf.sweetcoconut.mongomodel.Swe...  \n",
       "2      de.unijena.cheminf.sweetcoconut.mongomodel.Swe...  \n",
       "3      de.unijena.cheminf.sweetcoconut.mongomodel.Swe...  \n",
       "4      de.unijena.cheminf.sweetcoconut.mongomodel.Swe...  \n",
       "...                                                  ...  \n",
       "49480  de.unijena.cheminf.sweetcoconut.mongomodel.Swe...  \n",
       "49481  de.unijena.cheminf.sweetcoconut.mongomodel.Swe...  \n",
       "49482  de.unijena.cheminf.sweetcoconut.mongomodel.Swe...  \n",
       "49483  de.unijena.cheminf.sweetcoconut.mongomodel.Swe...  \n",
       "49484  de.unijena.cheminf.sweetcoconut.mongomodel.Swe...  \n",
       "\n",
       "[49485 rows x 10 columns]"
      ]
     },
     "metadata": {},
     "output_type": "display_data"
    }
   ],
   "source": [
    "display(sweetnp)"
   ]
  },
  {
   "cell_type": "markdown",
   "metadata": {},
   "source": [
    "**Part 1: Count unique Aglycons in all_deglycosilated_smiles**"
   ]
  },
  {
   "cell_type": "code",
   "execution_count": 6,
   "metadata": {},
   "outputs": [
    {
     "name": "stdout",
     "output_type": "stream",
     "text": [
      "number of unique Aglycons from all_deglycosilated_smiles:21181\n"
     ]
    }
   ],
   "source": [
    "uniqueAglyconsDeglycosilated = []\n",
    "for aglycon in sweetnp.all_deglycosilated_smiles:\n",
    "    for subStruc in aglycon:\n",
    "         if subStruc not in uniqueAglyconsDeglycosilated:\n",
    "            uniqueAglyconsDeglycosilated.append(subStruc)\n",
    "print(\"number of unique Aglycons from all_deglycosilated_smiles:\" + str(len(uniqueAglyconsDeglycosilated))) "
   ]
  },
  {
   "cell_type": "code",
   "execution_count": 7,
   "metadata": {},
   "outputs": [],
   "source": [
    "uniqueAglyconsDeglycosilated = set(uniqueAglyconsDeglycosilated)"
   ]
  },
  {
   "cell_type": "markdown",
   "metadata": {},
   "source": [
    "**Part 2: Count unique Aglycons removing only terminal sugars**"
   ]
  },
  {
   "cell_type": "code",
   "execution_count": 8,
   "metadata": {},
   "outputs": [],
   "source": [
    "noTerminalSugarAglycons = set(sweetnp.no_term_sugar_smiles)"
   ]
  },
  {
   "cell_type": "code",
   "execution_count": 9,
   "metadata": {},
   "outputs": [
    {
     "name": "stdout",
     "output_type": "stream",
     "text": [
      "number of unique Aglycons removing only terminal sugars:29185\n"
     ]
    }
   ],
   "source": [
    "print(\"number of unique Aglycons removing only terminal sugars:\" + str(len(noTerminalSugarAglycons)))"
   ]
  },
  {
   "cell_type": "code",
   "execution_count": 19,
   "metadata": {},
   "outputs": [],
   "source": [
    "OnlyTerminalSugarAglycons = uniqueAglyconsDeglycosilated & noTerminalSugarAglycons "
   ]
  },
  {
   "cell_type": "code",
   "execution_count": 20,
   "metadata": {},
   "outputs": [
    {
     "name": "stdout",
     "output_type": "stream",
     "text": [
      "17874\n"
     ]
    }
   ],
   "source": [
    "print(len(OnlyTerminalSugarAglycons))"
   ]
  },
  {
   "cell_type": "code",
   "execution_count": null,
   "metadata": {},
   "outputs": [],
   "source": []
  }
 ],
 "metadata": {
  "kernelspec": {
   "display_name": "Python 3",
   "language": "python",
   "name": "python3"
  },
  "language_info": {
   "codemirror_mode": {
    "name": "ipython",
    "version": 3
   },
   "file_extension": ".py",
   "mimetype": "text/x-python",
   "name": "python",
   "nbconvert_exporter": "python",
   "pygments_lexer": "ipython3",
   "version": "3.7.9"
  }
 },
 "nbformat": 4,
 "nbformat_minor": 4
}
